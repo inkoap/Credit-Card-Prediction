{
  "cells": [
    {
      "cell_type": "markdown",
      "metadata": {
        "id": "cf5f1fd8"
      },
      "source": [
        "## Import Library"
      ],
      "id": "cf5f1fd8"
    },
    {
      "cell_type": "code",
      "execution_count": null,
      "metadata": {
        "id": "49fecd0a"
      },
      "outputs": [],
      "source": [
        "import pandas as pd\n",
        "import numpy as np\n",
        "import matplotlib.pyplot as plt\n",
        "import seaborn as sns\n",
        "sns.set()\n",
        "import warnings\n",
        "warnings.filterwarnings('ignore')\n",
        "\n",
        "from wordcloud import WordCloud, STOPWORDS\n",
        "comment_words = ' '\n",
        "stopwords = set(STOPWORDS)"
      ],
      "id": "49fecd0a"
    },
    {
      "cell_type": "markdown",
      "metadata": {
        "id": "f9a34b20"
      },
      "source": [
        "## Load dan Cleaning Data"
      ],
      "id": "f9a34b20"
    },
    {
      "cell_type": "code",
      "execution_count": null,
      "metadata": {
        "id": "aee182dc"
      },
      "outputs": [],
      "source": [
        "credit_record = pd.read_csv(\"credit_record.csv\")\n",
        "app_record = pd.read_csv(\"application_record.csv\")"
      ],
      "id": "aee182dc"
    },
    {
      "cell_type": "markdown",
      "metadata": {
        "id": "da2071d8"
      },
      "source": [
        "### Dataset Credit Record"
      ],
      "id": "da2071d8"
    },
    {
      "cell_type": "code",
      "execution_count": null,
      "metadata": {
        "colab": {
          "base_uri": "https://localhost:8080/"
        },
        "id": "9f30c985",
        "outputId": "63ba2afa-befa-4b11-d29e-186c9d98e710"
      },
      "outputs": [
        {
          "name": "stdout",
          "output_type": "stream",
          "text": [
            "<class 'pandas.core.frame.DataFrame'>\n",
            "RangeIndex: 1048575 entries, 0 to 1048574\n",
            "Data columns (total 3 columns):\n",
            " #   Column          Non-Null Count    Dtype \n",
            "---  ------          --------------    ----- \n",
            " 0   ID              1048575 non-null  int64 \n",
            " 1   MONTHS_BALANCE  1048575 non-null  int64 \n",
            " 2   STATUS          1048575 non-null  object\n",
            "dtypes: int64(2), object(1)\n",
            "memory usage: 24.0+ MB\n"
          ]
        }
      ],
      "source": [
        "credit_record.info()"
      ],
      "id": "9f30c985"
    },
    {
      "cell_type": "code",
      "execution_count": null,
      "metadata": {
        "colab": {
          "base_uri": "https://localhost:8080/",
          "height": 206
        },
        "id": "52ace743",
        "outputId": "3783886d-aa1b-4705-dca3-37b4a297ea0f"
      },
      "outputs": [
        {
          "data": {
            "text/html": [
              "\n",
              "  <div id=\"df-f57ec4fe-3310-4735-8287-c9a4253ecbce\">\n",
              "    <div class=\"colab-df-container\">\n",
              "      <div>\n",
              "<style scoped>\n",
              "    .dataframe tbody tr th:only-of-type {\n",
              "        vertical-align: middle;\n",
              "    }\n",
              "\n",
              "    .dataframe tbody tr th {\n",
              "        vertical-align: top;\n",
              "    }\n",
              "\n",
              "    .dataframe thead th {\n",
              "        text-align: right;\n",
              "    }\n",
              "</style>\n",
              "<table border=\"1\" class=\"dataframe\">\n",
              "  <thead>\n",
              "    <tr style=\"text-align: right;\">\n",
              "      <th></th>\n",
              "      <th>ID</th>\n",
              "      <th>MONTHS_BALANCE</th>\n",
              "      <th>STATUS</th>\n",
              "    </tr>\n",
              "  </thead>\n",
              "  <tbody>\n",
              "    <tr>\n",
              "      <th>0</th>\n",
              "      <td>5001711</td>\n",
              "      <td>0</td>\n",
              "      <td>X</td>\n",
              "    </tr>\n",
              "    <tr>\n",
              "      <th>1</th>\n",
              "      <td>5001711</td>\n",
              "      <td>-1</td>\n",
              "      <td>0</td>\n",
              "    </tr>\n",
              "    <tr>\n",
              "      <th>2</th>\n",
              "      <td>5001711</td>\n",
              "      <td>-2</td>\n",
              "      <td>0</td>\n",
              "    </tr>\n",
              "    <tr>\n",
              "      <th>3</th>\n",
              "      <td>5001711</td>\n",
              "      <td>-3</td>\n",
              "      <td>0</td>\n",
              "    </tr>\n",
              "    <tr>\n",
              "      <th>4</th>\n",
              "      <td>5001712</td>\n",
              "      <td>0</td>\n",
              "      <td>C</td>\n",
              "    </tr>\n",
              "  </tbody>\n",
              "</table>\n",
              "</div>\n",
              "      <button class=\"colab-df-convert\" onclick=\"convertToInteractive('df-f57ec4fe-3310-4735-8287-c9a4253ecbce')\"\n",
              "              title=\"Convert this dataframe to an interactive table.\"\n",
              "              style=\"display:none;\">\n",
              "        \n",
              "  <svg xmlns=\"http://www.w3.org/2000/svg\" height=\"24px\"viewBox=\"0 0 24 24\"\n",
              "       width=\"24px\">\n",
              "    <path d=\"M0 0h24v24H0V0z\" fill=\"none\"/>\n",
              "    <path d=\"M18.56 5.44l.94 2.06.94-2.06 2.06-.94-2.06-.94-.94-2.06-.94 2.06-2.06.94zm-11 1L8.5 8.5l.94-2.06 2.06-.94-2.06-.94L8.5 2.5l-.94 2.06-2.06.94zm10 10l.94 2.06.94-2.06 2.06-.94-2.06-.94-.94-2.06-.94 2.06-2.06.94z\"/><path d=\"M17.41 7.96l-1.37-1.37c-.4-.4-.92-.59-1.43-.59-.52 0-1.04.2-1.43.59L10.3 9.45l-7.72 7.72c-.78.78-.78 2.05 0 2.83L4 21.41c.39.39.9.59 1.41.59.51 0 1.02-.2 1.41-.59l7.78-7.78 2.81-2.81c.8-.78.8-2.07 0-2.86zM5.41 20L4 18.59l7.72-7.72 1.47 1.35L5.41 20z\"/>\n",
              "  </svg>\n",
              "      </button>\n",
              "      \n",
              "  <style>\n",
              "    .colab-df-container {\n",
              "      display:flex;\n",
              "      flex-wrap:wrap;\n",
              "      gap: 12px;\n",
              "    }\n",
              "\n",
              "    .colab-df-convert {\n",
              "      background-color: #E8F0FE;\n",
              "      border: none;\n",
              "      border-radius: 50%;\n",
              "      cursor: pointer;\n",
              "      display: none;\n",
              "      fill: #1967D2;\n",
              "      height: 32px;\n",
              "      padding: 0 0 0 0;\n",
              "      width: 32px;\n",
              "    }\n",
              "\n",
              "    .colab-df-convert:hover {\n",
              "      background-color: #E2EBFA;\n",
              "      box-shadow: 0px 1px 2px rgba(60, 64, 67, 0.3), 0px 1px 3px 1px rgba(60, 64, 67, 0.15);\n",
              "      fill: #174EA6;\n",
              "    }\n",
              "\n",
              "    [theme=dark] .colab-df-convert {\n",
              "      background-color: #3B4455;\n",
              "      fill: #D2E3FC;\n",
              "    }\n",
              "\n",
              "    [theme=dark] .colab-df-convert:hover {\n",
              "      background-color: #434B5C;\n",
              "      box-shadow: 0px 1px 3px 1px rgba(0, 0, 0, 0.15);\n",
              "      filter: drop-shadow(0px 1px 2px rgba(0, 0, 0, 0.3));\n",
              "      fill: #FFFFFF;\n",
              "    }\n",
              "  </style>\n",
              "\n",
              "      <script>\n",
              "        const buttonEl =\n",
              "          document.querySelector('#df-f57ec4fe-3310-4735-8287-c9a4253ecbce button.colab-df-convert');\n",
              "        buttonEl.style.display =\n",
              "          google.colab.kernel.accessAllowed ? 'block' : 'none';\n",
              "\n",
              "        async function convertToInteractive(key) {\n",
              "          const element = document.querySelector('#df-f57ec4fe-3310-4735-8287-c9a4253ecbce');\n",
              "          const dataTable =\n",
              "            await google.colab.kernel.invokeFunction('convertToInteractive',\n",
              "                                                     [key], {});\n",
              "          if (!dataTable) return;\n",
              "\n",
              "          const docLinkHtml = 'Like what you see? Visit the ' +\n",
              "            '<a target=\"_blank\" href=https://colab.research.google.com/notebooks/data_table.ipynb>data table notebook</a>'\n",
              "            + ' to learn more about interactive tables.';\n",
              "          element.innerHTML = '';\n",
              "          dataTable['output_type'] = 'display_data';\n",
              "          await google.colab.output.renderOutput(dataTable, element);\n",
              "          const docLink = document.createElement('div');\n",
              "          docLink.innerHTML = docLinkHtml;\n",
              "          element.appendChild(docLink);\n",
              "        }\n",
              "      </script>\n",
              "    </div>\n",
              "  </div>\n",
              "  "
            ],
            "text/plain": [
              "        ID  MONTHS_BALANCE STATUS\n",
              "0  5001711               0      X\n",
              "1  5001711              -1      0\n",
              "2  5001711              -2      0\n",
              "3  5001711              -3      0\n",
              "4  5001712               0      C"
            ]
          },
          "execution_count": 40,
          "metadata": {},
          "output_type": "execute_result"
        }
      ],
      "source": [
        "credit_record.head()"
      ],
      "id": "52ace743"
    },
    {
      "cell_type": "code",
      "execution_count": null,
      "metadata": {
        "colab": {
          "base_uri": "https://localhost:8080/",
          "height": 300
        },
        "id": "f408c59c",
        "outputId": "2806f790-6176-4b36-c8a9-23fff68af429"
      },
      "outputs": [
        {
          "data": {
            "text/html": [
              "\n",
              "  <div id=\"df-1d5aea54-60c5-4d62-904a-d1c8f43d4992\">\n",
              "    <div class=\"colab-df-container\">\n",
              "      <div>\n",
              "<style scoped>\n",
              "    .dataframe tbody tr th:only-of-type {\n",
              "        vertical-align: middle;\n",
              "    }\n",
              "\n",
              "    .dataframe tbody tr th {\n",
              "        vertical-align: top;\n",
              "    }\n",
              "\n",
              "    .dataframe thead th {\n",
              "        text-align: right;\n",
              "    }\n",
              "</style>\n",
              "<table border=\"1\" class=\"dataframe\">\n",
              "  <thead>\n",
              "    <tr style=\"text-align: right;\">\n",
              "      <th></th>\n",
              "      <th>ID</th>\n",
              "      <th>MONTHS_BALANCE</th>\n",
              "    </tr>\n",
              "  </thead>\n",
              "  <tbody>\n",
              "    <tr>\n",
              "      <th>count</th>\n",
              "      <td>1.048575e+06</td>\n",
              "      <td>1.048575e+06</td>\n",
              "    </tr>\n",
              "    <tr>\n",
              "      <th>mean</th>\n",
              "      <td>5.068286e+06</td>\n",
              "      <td>-1.913700e+01</td>\n",
              "    </tr>\n",
              "    <tr>\n",
              "      <th>std</th>\n",
              "      <td>4.615058e+04</td>\n",
              "      <td>1.402350e+01</td>\n",
              "    </tr>\n",
              "    <tr>\n",
              "      <th>min</th>\n",
              "      <td>5.001711e+06</td>\n",
              "      <td>-6.000000e+01</td>\n",
              "    </tr>\n",
              "    <tr>\n",
              "      <th>25%</th>\n",
              "      <td>5.023644e+06</td>\n",
              "      <td>-2.900000e+01</td>\n",
              "    </tr>\n",
              "    <tr>\n",
              "      <th>50%</th>\n",
              "      <td>5.062104e+06</td>\n",
              "      <td>-1.700000e+01</td>\n",
              "    </tr>\n",
              "    <tr>\n",
              "      <th>75%</th>\n",
              "      <td>5.113856e+06</td>\n",
              "      <td>-7.000000e+00</td>\n",
              "    </tr>\n",
              "    <tr>\n",
              "      <th>max</th>\n",
              "      <td>5.150487e+06</td>\n",
              "      <td>0.000000e+00</td>\n",
              "    </tr>\n",
              "  </tbody>\n",
              "</table>\n",
              "</div>\n",
              "      <button class=\"colab-df-convert\" onclick=\"convertToInteractive('df-1d5aea54-60c5-4d62-904a-d1c8f43d4992')\"\n",
              "              title=\"Convert this dataframe to an interactive table.\"\n",
              "              style=\"display:none;\">\n",
              "        \n",
              "  <svg xmlns=\"http://www.w3.org/2000/svg\" height=\"24px\"viewBox=\"0 0 24 24\"\n",
              "       width=\"24px\">\n",
              "    <path d=\"M0 0h24v24H0V0z\" fill=\"none\"/>\n",
              "    <path d=\"M18.56 5.44l.94 2.06.94-2.06 2.06-.94-2.06-.94-.94-2.06-.94 2.06-2.06.94zm-11 1L8.5 8.5l.94-2.06 2.06-.94-2.06-.94L8.5 2.5l-.94 2.06-2.06.94zm10 10l.94 2.06.94-2.06 2.06-.94-2.06-.94-.94-2.06-.94 2.06-2.06.94z\"/><path d=\"M17.41 7.96l-1.37-1.37c-.4-.4-.92-.59-1.43-.59-.52 0-1.04.2-1.43.59L10.3 9.45l-7.72 7.72c-.78.78-.78 2.05 0 2.83L4 21.41c.39.39.9.59 1.41.59.51 0 1.02-.2 1.41-.59l7.78-7.78 2.81-2.81c.8-.78.8-2.07 0-2.86zM5.41 20L4 18.59l7.72-7.72 1.47 1.35L5.41 20z\"/>\n",
              "  </svg>\n",
              "      </button>\n",
              "      \n",
              "  <style>\n",
              "    .colab-df-container {\n",
              "      display:flex;\n",
              "      flex-wrap:wrap;\n",
              "      gap: 12px;\n",
              "    }\n",
              "\n",
              "    .colab-df-convert {\n",
              "      background-color: #E8F0FE;\n",
              "      border: none;\n",
              "      border-radius: 50%;\n",
              "      cursor: pointer;\n",
              "      display: none;\n",
              "      fill: #1967D2;\n",
              "      height: 32px;\n",
              "      padding: 0 0 0 0;\n",
              "      width: 32px;\n",
              "    }\n",
              "\n",
              "    .colab-df-convert:hover {\n",
              "      background-color: #E2EBFA;\n",
              "      box-shadow: 0px 1px 2px rgba(60, 64, 67, 0.3), 0px 1px 3px 1px rgba(60, 64, 67, 0.15);\n",
              "      fill: #174EA6;\n",
              "    }\n",
              "\n",
              "    [theme=dark] .colab-df-convert {\n",
              "      background-color: #3B4455;\n",
              "      fill: #D2E3FC;\n",
              "    }\n",
              "\n",
              "    [theme=dark] .colab-df-convert:hover {\n",
              "      background-color: #434B5C;\n",
              "      box-shadow: 0px 1px 3px 1px rgba(0, 0, 0, 0.15);\n",
              "      filter: drop-shadow(0px 1px 2px rgba(0, 0, 0, 0.3));\n",
              "      fill: #FFFFFF;\n",
              "    }\n",
              "  </style>\n",
              "\n",
              "      <script>\n",
              "        const buttonEl =\n",
              "          document.querySelector('#df-1d5aea54-60c5-4d62-904a-d1c8f43d4992 button.colab-df-convert');\n",
              "        buttonEl.style.display =\n",
              "          google.colab.kernel.accessAllowed ? 'block' : 'none';\n",
              "\n",
              "        async function convertToInteractive(key) {\n",
              "          const element = document.querySelector('#df-1d5aea54-60c5-4d62-904a-d1c8f43d4992');\n",
              "          const dataTable =\n",
              "            await google.colab.kernel.invokeFunction('convertToInteractive',\n",
              "                                                     [key], {});\n",
              "          if (!dataTable) return;\n",
              "\n",
              "          const docLinkHtml = 'Like what you see? Visit the ' +\n",
              "            '<a target=\"_blank\" href=https://colab.research.google.com/notebooks/data_table.ipynb>data table notebook</a>'\n",
              "            + ' to learn more about interactive tables.';\n",
              "          element.innerHTML = '';\n",
              "          dataTable['output_type'] = 'display_data';\n",
              "          await google.colab.output.renderOutput(dataTable, element);\n",
              "          const docLink = document.createElement('div');\n",
              "          docLink.innerHTML = docLinkHtml;\n",
              "          element.appendChild(docLink);\n",
              "        }\n",
              "      </script>\n",
              "    </div>\n",
              "  </div>\n",
              "  "
            ],
            "text/plain": [
              "                 ID  MONTHS_BALANCE\n",
              "count  1.048575e+06    1.048575e+06\n",
              "mean   5.068286e+06   -1.913700e+01\n",
              "std    4.615058e+04    1.402350e+01\n",
              "min    5.001711e+06   -6.000000e+01\n",
              "25%    5.023644e+06   -2.900000e+01\n",
              "50%    5.062104e+06   -1.700000e+01\n",
              "75%    5.113856e+06   -7.000000e+00\n",
              "max    5.150487e+06    0.000000e+00"
            ]
          },
          "execution_count": 41,
          "metadata": {},
          "output_type": "execute_result"
        }
      ],
      "source": [
        "credit_record.describe()"
      ],
      "id": "f408c59c"
    },
    {
      "cell_type": "code",
      "execution_count": null,
      "metadata": {
        "colab": {
          "base_uri": "https://localhost:8080/",
          "height": 175
        },
        "id": "44591319",
        "outputId": "8a379007-3b64-4422-9c6a-4a9109cc86c2"
      },
      "outputs": [
        {
          "data": {
            "text/html": [
              "\n",
              "  <div id=\"df-904719e9-dfb6-43be-8614-ce595dc100f7\">\n",
              "    <div class=\"colab-df-container\">\n",
              "      <div>\n",
              "<style scoped>\n",
              "    .dataframe tbody tr th:only-of-type {\n",
              "        vertical-align: middle;\n",
              "    }\n",
              "\n",
              "    .dataframe tbody tr th {\n",
              "        vertical-align: top;\n",
              "    }\n",
              "\n",
              "    .dataframe thead th {\n",
              "        text-align: right;\n",
              "    }\n",
              "</style>\n",
              "<table border=\"1\" class=\"dataframe\">\n",
              "  <thead>\n",
              "    <tr style=\"text-align: right;\">\n",
              "      <th></th>\n",
              "      <th>STATUS</th>\n",
              "    </tr>\n",
              "  </thead>\n",
              "  <tbody>\n",
              "    <tr>\n",
              "      <th>count</th>\n",
              "      <td>1048575</td>\n",
              "    </tr>\n",
              "    <tr>\n",
              "      <th>unique</th>\n",
              "      <td>8</td>\n",
              "    </tr>\n",
              "    <tr>\n",
              "      <th>top</th>\n",
              "      <td>C</td>\n",
              "    </tr>\n",
              "    <tr>\n",
              "      <th>freq</th>\n",
              "      <td>442031</td>\n",
              "    </tr>\n",
              "  </tbody>\n",
              "</table>\n",
              "</div>\n",
              "      <button class=\"colab-df-convert\" onclick=\"convertToInteractive('df-904719e9-dfb6-43be-8614-ce595dc100f7')\"\n",
              "              title=\"Convert this dataframe to an interactive table.\"\n",
              "              style=\"display:none;\">\n",
              "        \n",
              "  <svg xmlns=\"http://www.w3.org/2000/svg\" height=\"24px\"viewBox=\"0 0 24 24\"\n",
              "       width=\"24px\">\n",
              "    <path d=\"M0 0h24v24H0V0z\" fill=\"none\"/>\n",
              "    <path d=\"M18.56 5.44l.94 2.06.94-2.06 2.06-.94-2.06-.94-.94-2.06-.94 2.06-2.06.94zm-11 1L8.5 8.5l.94-2.06 2.06-.94-2.06-.94L8.5 2.5l-.94 2.06-2.06.94zm10 10l.94 2.06.94-2.06 2.06-.94-2.06-.94-.94-2.06-.94 2.06-2.06.94z\"/><path d=\"M17.41 7.96l-1.37-1.37c-.4-.4-.92-.59-1.43-.59-.52 0-1.04.2-1.43.59L10.3 9.45l-7.72 7.72c-.78.78-.78 2.05 0 2.83L4 21.41c.39.39.9.59 1.41.59.51 0 1.02-.2 1.41-.59l7.78-7.78 2.81-2.81c.8-.78.8-2.07 0-2.86zM5.41 20L4 18.59l7.72-7.72 1.47 1.35L5.41 20z\"/>\n",
              "  </svg>\n",
              "      </button>\n",
              "      \n",
              "  <style>\n",
              "    .colab-df-container {\n",
              "      display:flex;\n",
              "      flex-wrap:wrap;\n",
              "      gap: 12px;\n",
              "    }\n",
              "\n",
              "    .colab-df-convert {\n",
              "      background-color: #E8F0FE;\n",
              "      border: none;\n",
              "      border-radius: 50%;\n",
              "      cursor: pointer;\n",
              "      display: none;\n",
              "      fill: #1967D2;\n",
              "      height: 32px;\n",
              "      padding: 0 0 0 0;\n",
              "      width: 32px;\n",
              "    }\n",
              "\n",
              "    .colab-df-convert:hover {\n",
              "      background-color: #E2EBFA;\n",
              "      box-shadow: 0px 1px 2px rgba(60, 64, 67, 0.3), 0px 1px 3px 1px rgba(60, 64, 67, 0.15);\n",
              "      fill: #174EA6;\n",
              "    }\n",
              "\n",
              "    [theme=dark] .colab-df-convert {\n",
              "      background-color: #3B4455;\n",
              "      fill: #D2E3FC;\n",
              "    }\n",
              "\n",
              "    [theme=dark] .colab-df-convert:hover {\n",
              "      background-color: #434B5C;\n",
              "      box-shadow: 0px 1px 3px 1px rgba(0, 0, 0, 0.15);\n",
              "      filter: drop-shadow(0px 1px 2px rgba(0, 0, 0, 0.3));\n",
              "      fill: #FFFFFF;\n",
              "    }\n",
              "  </style>\n",
              "\n",
              "      <script>\n",
              "        const buttonEl =\n",
              "          document.querySelector('#df-904719e9-dfb6-43be-8614-ce595dc100f7 button.colab-df-convert');\n",
              "        buttonEl.style.display =\n",
              "          google.colab.kernel.accessAllowed ? 'block' : 'none';\n",
              "\n",
              "        async function convertToInteractive(key) {\n",
              "          const element = document.querySelector('#df-904719e9-dfb6-43be-8614-ce595dc100f7');\n",
              "          const dataTable =\n",
              "            await google.colab.kernel.invokeFunction('convertToInteractive',\n",
              "                                                     [key], {});\n",
              "          if (!dataTable) return;\n",
              "\n",
              "          const docLinkHtml = 'Like what you see? Visit the ' +\n",
              "            '<a target=\"_blank\" href=https://colab.research.google.com/notebooks/data_table.ipynb>data table notebook</a>'\n",
              "            + ' to learn more about interactive tables.';\n",
              "          element.innerHTML = '';\n",
              "          dataTable['output_type'] = 'display_data';\n",
              "          await google.colab.output.renderOutput(dataTable, element);\n",
              "          const docLink = document.createElement('div');\n",
              "          docLink.innerHTML = docLinkHtml;\n",
              "          element.appendChild(docLink);\n",
              "        }\n",
              "      </script>\n",
              "    </div>\n",
              "  </div>\n",
              "  "
            ],
            "text/plain": [
              "         STATUS\n",
              "count   1048575\n",
              "unique        8\n",
              "top           C\n",
              "freq     442031"
            ]
          },
          "execution_count": 42,
          "metadata": {},
          "output_type": "execute_result"
        }
      ],
      "source": [
        "credit_record.describe(include=\"O\")"
      ],
      "id": "44591319"
    },
    {
      "cell_type": "code",
      "execution_count": null,
      "metadata": {
        "colab": {
          "base_uri": "https://localhost:8080/"
        },
        "id": "c1e2d567",
        "outputId": "60af0acd-8bd9-4bdd-d488-67e6c48b3dcc"
      },
      "outputs": [
        {
          "data": {
            "text/plain": [
              "0"
            ]
          },
          "execution_count": 43,
          "metadata": {},
          "output_type": "execute_result"
        }
      ],
      "source": [
        "credit_record.duplicated().sum()"
      ],
      "id": "c1e2d567"
    },
    {
      "cell_type": "code",
      "execution_count": null,
      "metadata": {
        "colab": {
          "base_uri": "https://localhost:8080/"
        },
        "id": "ce2c2fdb",
        "outputId": "33ed2db0-6164-4b98-f16b-f37c5b314736"
      },
      "outputs": [
        {
          "data": {
            "text/plain": [
              "ID                0\n",
              "MONTHS_BALANCE    0\n",
              "STATUS            0\n",
              "dtype: int64"
            ]
          },
          "execution_count": 44,
          "metadata": {},
          "output_type": "execute_result"
        }
      ],
      "source": [
        "credit_record.isna().sum()"
      ],
      "id": "ce2c2fdb"
    },
    {
      "cell_type": "markdown",
      "metadata": {
        "id": "95300d20"
      },
      "source": [
        "### Cleaning Dataset Application Record"
      ],
      "id": "95300d20"
    },
    {
      "cell_type": "code",
      "execution_count": null,
      "metadata": {
        "colab": {
          "base_uri": "https://localhost:8080/"
        },
        "id": "fbbf6ecb",
        "outputId": "2bf61f10-b469-4aa8-9110-9d58aab4315a"
      },
      "outputs": [
        {
          "name": "stdout",
          "output_type": "stream",
          "text": [
            "<class 'pandas.core.frame.DataFrame'>\n",
            "RangeIndex: 438557 entries, 0 to 438556\n",
            "Data columns (total 18 columns):\n",
            " #   Column               Non-Null Count   Dtype  \n",
            "---  ------               --------------   -----  \n",
            " 0   ID                   438557 non-null  int64  \n",
            " 1   CODE_GENDER          438557 non-null  object \n",
            " 2   FLAG_OWN_CAR         438557 non-null  object \n",
            " 3   FLAG_OWN_REALTY      438557 non-null  object \n",
            " 4   CNT_CHILDREN         438557 non-null  int64  \n",
            " 5   AMT_INCOME_TOTAL     438557 non-null  float64\n",
            " 6   NAME_INCOME_TYPE     438557 non-null  object \n",
            " 7   NAME_EDUCATION_TYPE  438557 non-null  object \n",
            " 8   NAME_FAMILY_STATUS   438557 non-null  object \n",
            " 9   NAME_HOUSING_TYPE    438557 non-null  object \n",
            " 10  DAYS_BIRTH           438557 non-null  int64  \n",
            " 11  DAYS_EMPLOYED        438557 non-null  int64  \n",
            " 12  FLAG_MOBIL           438557 non-null  int64  \n",
            " 13  FLAG_WORK_PHONE      438557 non-null  int64  \n",
            " 14  FLAG_PHONE           438557 non-null  int64  \n",
            " 15  FLAG_EMAIL           438557 non-null  int64  \n",
            " 16  OCCUPATION_TYPE      304354 non-null  object \n",
            " 17  CNT_FAM_MEMBERS      438557 non-null  float64\n",
            "dtypes: float64(2), int64(8), object(8)\n",
            "memory usage: 60.2+ MB\n"
          ]
        }
      ],
      "source": [
        "app_record.info()"
      ],
      "id": "fbbf6ecb"
    },
    {
      "cell_type": "code",
      "execution_count": null,
      "metadata": {
        "colab": {
          "base_uri": "https://localhost:8080/",
          "height": 322
        },
        "id": "6a34db52",
        "outputId": "fb770f79-44a5-46d3-abaa-729146338c03"
      },
      "outputs": [
        {
          "data": {
            "text/html": [
              "\n",
              "  <div id=\"df-f818943b-4a3c-461c-90fd-04e3053c94a5\">\n",
              "    <div class=\"colab-df-container\">\n",
              "      <div>\n",
              "<style scoped>\n",
              "    .dataframe tbody tr th:only-of-type {\n",
              "        vertical-align: middle;\n",
              "    }\n",
              "\n",
              "    .dataframe tbody tr th {\n",
              "        vertical-align: top;\n",
              "    }\n",
              "\n",
              "    .dataframe thead th {\n",
              "        text-align: right;\n",
              "    }\n",
              "</style>\n",
              "<table border=\"1\" class=\"dataframe\">\n",
              "  <thead>\n",
              "    <tr style=\"text-align: right;\">\n",
              "      <th></th>\n",
              "      <th>ID</th>\n",
              "      <th>CODE_GENDER</th>\n",
              "      <th>FLAG_OWN_CAR</th>\n",
              "      <th>FLAG_OWN_REALTY</th>\n",
              "      <th>CNT_CHILDREN</th>\n",
              "      <th>AMT_INCOME_TOTAL</th>\n",
              "      <th>NAME_INCOME_TYPE</th>\n",
              "      <th>NAME_EDUCATION_TYPE</th>\n",
              "      <th>NAME_FAMILY_STATUS</th>\n",
              "      <th>NAME_HOUSING_TYPE</th>\n",
              "      <th>DAYS_BIRTH</th>\n",
              "      <th>DAYS_EMPLOYED</th>\n",
              "      <th>FLAG_MOBIL</th>\n",
              "      <th>FLAG_WORK_PHONE</th>\n",
              "      <th>FLAG_PHONE</th>\n",
              "      <th>FLAG_EMAIL</th>\n",
              "      <th>OCCUPATION_TYPE</th>\n",
              "      <th>CNT_FAM_MEMBERS</th>\n",
              "    </tr>\n",
              "  </thead>\n",
              "  <tbody>\n",
              "    <tr>\n",
              "      <th>0</th>\n",
              "      <td>5008804</td>\n",
              "      <td>M</td>\n",
              "      <td>Y</td>\n",
              "      <td>Y</td>\n",
              "      <td>0</td>\n",
              "      <td>427500.0</td>\n",
              "      <td>Working</td>\n",
              "      <td>Higher education</td>\n",
              "      <td>Civil marriage</td>\n",
              "      <td>Rented apartment</td>\n",
              "      <td>-12005</td>\n",
              "      <td>-4542</td>\n",
              "      <td>1</td>\n",
              "      <td>1</td>\n",
              "      <td>0</td>\n",
              "      <td>0</td>\n",
              "      <td>NaN</td>\n",
              "      <td>2.0</td>\n",
              "    </tr>\n",
              "    <tr>\n",
              "      <th>1</th>\n",
              "      <td>5008805</td>\n",
              "      <td>M</td>\n",
              "      <td>Y</td>\n",
              "      <td>Y</td>\n",
              "      <td>0</td>\n",
              "      <td>427500.0</td>\n",
              "      <td>Working</td>\n",
              "      <td>Higher education</td>\n",
              "      <td>Civil marriage</td>\n",
              "      <td>Rented apartment</td>\n",
              "      <td>-12005</td>\n",
              "      <td>-4542</td>\n",
              "      <td>1</td>\n",
              "      <td>1</td>\n",
              "      <td>0</td>\n",
              "      <td>0</td>\n",
              "      <td>NaN</td>\n",
              "      <td>2.0</td>\n",
              "    </tr>\n",
              "    <tr>\n",
              "      <th>2</th>\n",
              "      <td>5008806</td>\n",
              "      <td>M</td>\n",
              "      <td>Y</td>\n",
              "      <td>Y</td>\n",
              "      <td>0</td>\n",
              "      <td>112500.0</td>\n",
              "      <td>Working</td>\n",
              "      <td>Secondary / secondary special</td>\n",
              "      <td>Married</td>\n",
              "      <td>House / apartment</td>\n",
              "      <td>-21474</td>\n",
              "      <td>-1134</td>\n",
              "      <td>1</td>\n",
              "      <td>0</td>\n",
              "      <td>0</td>\n",
              "      <td>0</td>\n",
              "      <td>Security staff</td>\n",
              "      <td>2.0</td>\n",
              "    </tr>\n",
              "    <tr>\n",
              "      <th>3</th>\n",
              "      <td>5008808</td>\n",
              "      <td>F</td>\n",
              "      <td>N</td>\n",
              "      <td>Y</td>\n",
              "      <td>0</td>\n",
              "      <td>270000.0</td>\n",
              "      <td>Commercial associate</td>\n",
              "      <td>Secondary / secondary special</td>\n",
              "      <td>Single / not married</td>\n",
              "      <td>House / apartment</td>\n",
              "      <td>-19110</td>\n",
              "      <td>-3051</td>\n",
              "      <td>1</td>\n",
              "      <td>0</td>\n",
              "      <td>1</td>\n",
              "      <td>1</td>\n",
              "      <td>Sales staff</td>\n",
              "      <td>1.0</td>\n",
              "    </tr>\n",
              "    <tr>\n",
              "      <th>4</th>\n",
              "      <td>5008809</td>\n",
              "      <td>F</td>\n",
              "      <td>N</td>\n",
              "      <td>Y</td>\n",
              "      <td>0</td>\n",
              "      <td>270000.0</td>\n",
              "      <td>Commercial associate</td>\n",
              "      <td>Secondary / secondary special</td>\n",
              "      <td>Single / not married</td>\n",
              "      <td>House / apartment</td>\n",
              "      <td>-19110</td>\n",
              "      <td>-3051</td>\n",
              "      <td>1</td>\n",
              "      <td>0</td>\n",
              "      <td>1</td>\n",
              "      <td>1</td>\n",
              "      <td>Sales staff</td>\n",
              "      <td>1.0</td>\n",
              "    </tr>\n",
              "  </tbody>\n",
              "</table>\n",
              "</div>\n",
              "      <button class=\"colab-df-convert\" onclick=\"convertToInteractive('df-f818943b-4a3c-461c-90fd-04e3053c94a5')\"\n",
              "              title=\"Convert this dataframe to an interactive table.\"\n",
              "              style=\"display:none;\">\n",
              "        \n",
              "  <svg xmlns=\"http://www.w3.org/2000/svg\" height=\"24px\"viewBox=\"0 0 24 24\"\n",
              "       width=\"24px\">\n",
              "    <path d=\"M0 0h24v24H0V0z\" fill=\"none\"/>\n",
              "    <path d=\"M18.56 5.44l.94 2.06.94-2.06 2.06-.94-2.06-.94-.94-2.06-.94 2.06-2.06.94zm-11 1L8.5 8.5l.94-2.06 2.06-.94-2.06-.94L8.5 2.5l-.94 2.06-2.06.94zm10 10l.94 2.06.94-2.06 2.06-.94-2.06-.94-.94-2.06-.94 2.06-2.06.94z\"/><path d=\"M17.41 7.96l-1.37-1.37c-.4-.4-.92-.59-1.43-.59-.52 0-1.04.2-1.43.59L10.3 9.45l-7.72 7.72c-.78.78-.78 2.05 0 2.83L4 21.41c.39.39.9.59 1.41.59.51 0 1.02-.2 1.41-.59l7.78-7.78 2.81-2.81c.8-.78.8-2.07 0-2.86zM5.41 20L4 18.59l7.72-7.72 1.47 1.35L5.41 20z\"/>\n",
              "  </svg>\n",
              "      </button>\n",
              "      \n",
              "  <style>\n",
              "    .colab-df-container {\n",
              "      display:flex;\n",
              "      flex-wrap:wrap;\n",
              "      gap: 12px;\n",
              "    }\n",
              "\n",
              "    .colab-df-convert {\n",
              "      background-color: #E8F0FE;\n",
              "      border: none;\n",
              "      border-radius: 50%;\n",
              "      cursor: pointer;\n",
              "      display: none;\n",
              "      fill: #1967D2;\n",
              "      height: 32px;\n",
              "      padding: 0 0 0 0;\n",
              "      width: 32px;\n",
              "    }\n",
              "\n",
              "    .colab-df-convert:hover {\n",
              "      background-color: #E2EBFA;\n",
              "      box-shadow: 0px 1px 2px rgba(60, 64, 67, 0.3), 0px 1px 3px 1px rgba(60, 64, 67, 0.15);\n",
              "      fill: #174EA6;\n",
              "    }\n",
              "\n",
              "    [theme=dark] .colab-df-convert {\n",
              "      background-color: #3B4455;\n",
              "      fill: #D2E3FC;\n",
              "    }\n",
              "\n",
              "    [theme=dark] .colab-df-convert:hover {\n",
              "      background-color: #434B5C;\n",
              "      box-shadow: 0px 1px 3px 1px rgba(0, 0, 0, 0.15);\n",
              "      filter: drop-shadow(0px 1px 2px rgba(0, 0, 0, 0.3));\n",
              "      fill: #FFFFFF;\n",
              "    }\n",
              "  </style>\n",
              "\n",
              "      <script>\n",
              "        const buttonEl =\n",
              "          document.querySelector('#df-f818943b-4a3c-461c-90fd-04e3053c94a5 button.colab-df-convert');\n",
              "        buttonEl.style.display =\n",
              "          google.colab.kernel.accessAllowed ? 'block' : 'none';\n",
              "\n",
              "        async function convertToInteractive(key) {\n",
              "          const element = document.querySelector('#df-f818943b-4a3c-461c-90fd-04e3053c94a5');\n",
              "          const dataTable =\n",
              "            await google.colab.kernel.invokeFunction('convertToInteractive',\n",
              "                                                     [key], {});\n",
              "          if (!dataTable) return;\n",
              "\n",
              "          const docLinkHtml = 'Like what you see? Visit the ' +\n",
              "            '<a target=\"_blank\" href=https://colab.research.google.com/notebooks/data_table.ipynb>data table notebook</a>'\n",
              "            + ' to learn more about interactive tables.';\n",
              "          element.innerHTML = '';\n",
              "          dataTable['output_type'] = 'display_data';\n",
              "          await google.colab.output.renderOutput(dataTable, element);\n",
              "          const docLink = document.createElement('div');\n",
              "          docLink.innerHTML = docLinkHtml;\n",
              "          element.appendChild(docLink);\n",
              "        }\n",
              "      </script>\n",
              "    </div>\n",
              "  </div>\n",
              "  "
            ],
            "text/plain": [
              "        ID CODE_GENDER FLAG_OWN_CAR FLAG_OWN_REALTY  CNT_CHILDREN  \\\n",
              "0  5008804           M            Y               Y             0   \n",
              "1  5008805           M            Y               Y             0   \n",
              "2  5008806           M            Y               Y             0   \n",
              "3  5008808           F            N               Y             0   \n",
              "4  5008809           F            N               Y             0   \n",
              "\n",
              "   AMT_INCOME_TOTAL      NAME_INCOME_TYPE            NAME_EDUCATION_TYPE  \\\n",
              "0          427500.0               Working               Higher education   \n",
              "1          427500.0               Working               Higher education   \n",
              "2          112500.0               Working  Secondary / secondary special   \n",
              "3          270000.0  Commercial associate  Secondary / secondary special   \n",
              "4          270000.0  Commercial associate  Secondary / secondary special   \n",
              "\n",
              "     NAME_FAMILY_STATUS  NAME_HOUSING_TYPE  DAYS_BIRTH  DAYS_EMPLOYED  \\\n",
              "0        Civil marriage   Rented apartment      -12005          -4542   \n",
              "1        Civil marriage   Rented apartment      -12005          -4542   \n",
              "2               Married  House / apartment      -21474          -1134   \n",
              "3  Single / not married  House / apartment      -19110          -3051   \n",
              "4  Single / not married  House / apartment      -19110          -3051   \n",
              "\n",
              "   FLAG_MOBIL  FLAG_WORK_PHONE  FLAG_PHONE  FLAG_EMAIL OCCUPATION_TYPE  \\\n",
              "0           1                1           0           0             NaN   \n",
              "1           1                1           0           0             NaN   \n",
              "2           1                0           0           0  Security staff   \n",
              "3           1                0           1           1     Sales staff   \n",
              "4           1                0           1           1     Sales staff   \n",
              "\n",
              "   CNT_FAM_MEMBERS  \n",
              "0              2.0  \n",
              "1              2.0  \n",
              "2              2.0  \n",
              "3              1.0  \n",
              "4              1.0  "
            ]
          },
          "execution_count": 46,
          "metadata": {},
          "output_type": "execute_result"
        }
      ],
      "source": [
        "app_record.head()"
      ],
      "id": "6a34db52"
    },
    {
      "cell_type": "code",
      "execution_count": null,
      "metadata": {
        "colab": {
          "base_uri": "https://localhost:8080/",
          "height": 364
        },
        "id": "bdb5be86",
        "outputId": "dac8eb31-3dc3-44d0-e1a2-eca1d8498238"
      },
      "outputs": [
        {
          "data": {
            "text/html": [
              "\n",
              "  <div id=\"df-29bab251-ef9b-46ec-9737-2c9db091442a\">\n",
              "    <div class=\"colab-df-container\">\n",
              "      <div>\n",
              "<style scoped>\n",
              "    .dataframe tbody tr th:only-of-type {\n",
              "        vertical-align: middle;\n",
              "    }\n",
              "\n",
              "    .dataframe tbody tr th {\n",
              "        vertical-align: top;\n",
              "    }\n",
              "\n",
              "    .dataframe thead th {\n",
              "        text-align: right;\n",
              "    }\n",
              "</style>\n",
              "<table border=\"1\" class=\"dataframe\">\n",
              "  <thead>\n",
              "    <tr style=\"text-align: right;\">\n",
              "      <th></th>\n",
              "      <th>ID</th>\n",
              "      <th>CNT_CHILDREN</th>\n",
              "      <th>AMT_INCOME_TOTAL</th>\n",
              "      <th>DAYS_BIRTH</th>\n",
              "      <th>DAYS_EMPLOYED</th>\n",
              "      <th>FLAG_MOBIL</th>\n",
              "      <th>FLAG_WORK_PHONE</th>\n",
              "      <th>FLAG_PHONE</th>\n",
              "      <th>FLAG_EMAIL</th>\n",
              "      <th>CNT_FAM_MEMBERS</th>\n",
              "    </tr>\n",
              "  </thead>\n",
              "  <tbody>\n",
              "    <tr>\n",
              "      <th>count</th>\n",
              "      <td>4.385570e+05</td>\n",
              "      <td>438557.000000</td>\n",
              "      <td>4.385570e+05</td>\n",
              "      <td>438557.000000</td>\n",
              "      <td>438557.000000</td>\n",
              "      <td>438557.0</td>\n",
              "      <td>438557.000000</td>\n",
              "      <td>438557.000000</td>\n",
              "      <td>438557.000000</td>\n",
              "      <td>438557.000000</td>\n",
              "    </tr>\n",
              "    <tr>\n",
              "      <th>mean</th>\n",
              "      <td>6.022176e+06</td>\n",
              "      <td>0.427390</td>\n",
              "      <td>1.875243e+05</td>\n",
              "      <td>-15997.904649</td>\n",
              "      <td>60563.675328</td>\n",
              "      <td>1.0</td>\n",
              "      <td>0.206133</td>\n",
              "      <td>0.287771</td>\n",
              "      <td>0.108207</td>\n",
              "      <td>2.194465</td>\n",
              "    </tr>\n",
              "    <tr>\n",
              "      <th>std</th>\n",
              "      <td>5.716370e+05</td>\n",
              "      <td>0.724882</td>\n",
              "      <td>1.100869e+05</td>\n",
              "      <td>4185.030007</td>\n",
              "      <td>138767.799647</td>\n",
              "      <td>0.0</td>\n",
              "      <td>0.404527</td>\n",
              "      <td>0.452724</td>\n",
              "      <td>0.310642</td>\n",
              "      <td>0.897207</td>\n",
              "    </tr>\n",
              "    <tr>\n",
              "      <th>min</th>\n",
              "      <td>5.008804e+06</td>\n",
              "      <td>0.000000</td>\n",
              "      <td>2.610000e+04</td>\n",
              "      <td>-25201.000000</td>\n",
              "      <td>-17531.000000</td>\n",
              "      <td>1.0</td>\n",
              "      <td>0.000000</td>\n",
              "      <td>0.000000</td>\n",
              "      <td>0.000000</td>\n",
              "      <td>1.000000</td>\n",
              "    </tr>\n",
              "    <tr>\n",
              "      <th>25%</th>\n",
              "      <td>5.609375e+06</td>\n",
              "      <td>0.000000</td>\n",
              "      <td>1.215000e+05</td>\n",
              "      <td>-19483.000000</td>\n",
              "      <td>-3103.000000</td>\n",
              "      <td>1.0</td>\n",
              "      <td>0.000000</td>\n",
              "      <td>0.000000</td>\n",
              "      <td>0.000000</td>\n",
              "      <td>2.000000</td>\n",
              "    </tr>\n",
              "    <tr>\n",
              "      <th>50%</th>\n",
              "      <td>6.047745e+06</td>\n",
              "      <td>0.000000</td>\n",
              "      <td>1.607805e+05</td>\n",
              "      <td>-15630.000000</td>\n",
              "      <td>-1467.000000</td>\n",
              "      <td>1.0</td>\n",
              "      <td>0.000000</td>\n",
              "      <td>0.000000</td>\n",
              "      <td>0.000000</td>\n",
              "      <td>2.000000</td>\n",
              "    </tr>\n",
              "    <tr>\n",
              "      <th>75%</th>\n",
              "      <td>6.456971e+06</td>\n",
              "      <td>1.000000</td>\n",
              "      <td>2.250000e+05</td>\n",
              "      <td>-12514.000000</td>\n",
              "      <td>-371.000000</td>\n",
              "      <td>1.0</td>\n",
              "      <td>0.000000</td>\n",
              "      <td>1.000000</td>\n",
              "      <td>0.000000</td>\n",
              "      <td>3.000000</td>\n",
              "    </tr>\n",
              "    <tr>\n",
              "      <th>max</th>\n",
              "      <td>7.999952e+06</td>\n",
              "      <td>19.000000</td>\n",
              "      <td>6.750000e+06</td>\n",
              "      <td>-7489.000000</td>\n",
              "      <td>365243.000000</td>\n",
              "      <td>1.0</td>\n",
              "      <td>1.000000</td>\n",
              "      <td>1.000000</td>\n",
              "      <td>1.000000</td>\n",
              "      <td>20.000000</td>\n",
              "    </tr>\n",
              "  </tbody>\n",
              "</table>\n",
              "</div>\n",
              "      <button class=\"colab-df-convert\" onclick=\"convertToInteractive('df-29bab251-ef9b-46ec-9737-2c9db091442a')\"\n",
              "              title=\"Convert this dataframe to an interactive table.\"\n",
              "              style=\"display:none;\">\n",
              "        \n",
              "  <svg xmlns=\"http://www.w3.org/2000/svg\" height=\"24px\"viewBox=\"0 0 24 24\"\n",
              "       width=\"24px\">\n",
              "    <path d=\"M0 0h24v24H0V0z\" fill=\"none\"/>\n",
              "    <path d=\"M18.56 5.44l.94 2.06.94-2.06 2.06-.94-2.06-.94-.94-2.06-.94 2.06-2.06.94zm-11 1L8.5 8.5l.94-2.06 2.06-.94-2.06-.94L8.5 2.5l-.94 2.06-2.06.94zm10 10l.94 2.06.94-2.06 2.06-.94-2.06-.94-.94-2.06-.94 2.06-2.06.94z\"/><path d=\"M17.41 7.96l-1.37-1.37c-.4-.4-.92-.59-1.43-.59-.52 0-1.04.2-1.43.59L10.3 9.45l-7.72 7.72c-.78.78-.78 2.05 0 2.83L4 21.41c.39.39.9.59 1.41.59.51 0 1.02-.2 1.41-.59l7.78-7.78 2.81-2.81c.8-.78.8-2.07 0-2.86zM5.41 20L4 18.59l7.72-7.72 1.47 1.35L5.41 20z\"/>\n",
              "  </svg>\n",
              "      </button>\n",
              "      \n",
              "  <style>\n",
              "    .colab-df-container {\n",
              "      display:flex;\n",
              "      flex-wrap:wrap;\n",
              "      gap: 12px;\n",
              "    }\n",
              "\n",
              "    .colab-df-convert {\n",
              "      background-color: #E8F0FE;\n",
              "      border: none;\n",
              "      border-radius: 50%;\n",
              "      cursor: pointer;\n",
              "      display: none;\n",
              "      fill: #1967D2;\n",
              "      height: 32px;\n",
              "      padding: 0 0 0 0;\n",
              "      width: 32px;\n",
              "    }\n",
              "\n",
              "    .colab-df-convert:hover {\n",
              "      background-color: #E2EBFA;\n",
              "      box-shadow: 0px 1px 2px rgba(60, 64, 67, 0.3), 0px 1px 3px 1px rgba(60, 64, 67, 0.15);\n",
              "      fill: #174EA6;\n",
              "    }\n",
              "\n",
              "    [theme=dark] .colab-df-convert {\n",
              "      background-color: #3B4455;\n",
              "      fill: #D2E3FC;\n",
              "    }\n",
              "\n",
              "    [theme=dark] .colab-df-convert:hover {\n",
              "      background-color: #434B5C;\n",
              "      box-shadow: 0px 1px 3px 1px rgba(0, 0, 0, 0.15);\n",
              "      filter: drop-shadow(0px 1px 2px rgba(0, 0, 0, 0.3));\n",
              "      fill: #FFFFFF;\n",
              "    }\n",
              "  </style>\n",
              "\n",
              "      <script>\n",
              "        const buttonEl =\n",
              "          document.querySelector('#df-29bab251-ef9b-46ec-9737-2c9db091442a button.colab-df-convert');\n",
              "        buttonEl.style.display =\n",
              "          google.colab.kernel.accessAllowed ? 'block' : 'none';\n",
              "\n",
              "        async function convertToInteractive(key) {\n",
              "          const element = document.querySelector('#df-29bab251-ef9b-46ec-9737-2c9db091442a');\n",
              "          const dataTable =\n",
              "            await google.colab.kernel.invokeFunction('convertToInteractive',\n",
              "                                                     [key], {});\n",
              "          if (!dataTable) return;\n",
              "\n",
              "          const docLinkHtml = 'Like what you see? Visit the ' +\n",
              "            '<a target=\"_blank\" href=https://colab.research.google.com/notebooks/data_table.ipynb>data table notebook</a>'\n",
              "            + ' to learn more about interactive tables.';\n",
              "          element.innerHTML = '';\n",
              "          dataTable['output_type'] = 'display_data';\n",
              "          await google.colab.output.renderOutput(dataTable, element);\n",
              "          const docLink = document.createElement('div');\n",
              "          docLink.innerHTML = docLinkHtml;\n",
              "          element.appendChild(docLink);\n",
              "        }\n",
              "      </script>\n",
              "    </div>\n",
              "  </div>\n",
              "  "
            ],
            "text/plain": [
              "                 ID   CNT_CHILDREN  AMT_INCOME_TOTAL     DAYS_BIRTH  \\\n",
              "count  4.385570e+05  438557.000000      4.385570e+05  438557.000000   \n",
              "mean   6.022176e+06       0.427390      1.875243e+05  -15997.904649   \n",
              "std    5.716370e+05       0.724882      1.100869e+05    4185.030007   \n",
              "min    5.008804e+06       0.000000      2.610000e+04  -25201.000000   \n",
              "25%    5.609375e+06       0.000000      1.215000e+05  -19483.000000   \n",
              "50%    6.047745e+06       0.000000      1.607805e+05  -15630.000000   \n",
              "75%    6.456971e+06       1.000000      2.250000e+05  -12514.000000   \n",
              "max    7.999952e+06      19.000000      6.750000e+06   -7489.000000   \n",
              "\n",
              "       DAYS_EMPLOYED  FLAG_MOBIL  FLAG_WORK_PHONE     FLAG_PHONE  \\\n",
              "count  438557.000000    438557.0    438557.000000  438557.000000   \n",
              "mean    60563.675328         1.0         0.206133       0.287771   \n",
              "std    138767.799647         0.0         0.404527       0.452724   \n",
              "min    -17531.000000         1.0         0.000000       0.000000   \n",
              "25%     -3103.000000         1.0         0.000000       0.000000   \n",
              "50%     -1467.000000         1.0         0.000000       0.000000   \n",
              "75%      -371.000000         1.0         0.000000       1.000000   \n",
              "max    365243.000000         1.0         1.000000       1.000000   \n",
              "\n",
              "          FLAG_EMAIL  CNT_FAM_MEMBERS  \n",
              "count  438557.000000    438557.000000  \n",
              "mean        0.108207         2.194465  \n",
              "std         0.310642         0.897207  \n",
              "min         0.000000         1.000000  \n",
              "25%         0.000000         2.000000  \n",
              "50%         0.000000         2.000000  \n",
              "75%         0.000000         3.000000  \n",
              "max         1.000000        20.000000  "
            ]
          },
          "execution_count": 47,
          "metadata": {},
          "output_type": "execute_result"
        }
      ],
      "source": [
        "app_record.describe()"
      ],
      "id": "bdb5be86"
    },
    {
      "cell_type": "code",
      "execution_count": null,
      "metadata": {
        "colab": {
          "base_uri": "https://localhost:8080/",
          "height": 256
        },
        "id": "7cd607f1",
        "outputId": "6ee3baad-5a99-4708-c30d-4f4eeef2683e"
      },
      "outputs": [
        {
          "data": {
            "text/html": [
              "\n",
              "  <div id=\"df-cd176b80-d941-4926-9b09-3c00b65fc7d7\">\n",
              "    <div class=\"colab-df-container\">\n",
              "      <div>\n",
              "<style scoped>\n",
              "    .dataframe tbody tr th:only-of-type {\n",
              "        vertical-align: middle;\n",
              "    }\n",
              "\n",
              "    .dataframe tbody tr th {\n",
              "        vertical-align: top;\n",
              "    }\n",
              "\n",
              "    .dataframe thead th {\n",
              "        text-align: right;\n",
              "    }\n",
              "</style>\n",
              "<table border=\"1\" class=\"dataframe\">\n",
              "  <thead>\n",
              "    <tr style=\"text-align: right;\">\n",
              "      <th></th>\n",
              "      <th>CODE_GENDER</th>\n",
              "      <th>FLAG_OWN_CAR</th>\n",
              "      <th>FLAG_OWN_REALTY</th>\n",
              "      <th>NAME_INCOME_TYPE</th>\n",
              "      <th>NAME_EDUCATION_TYPE</th>\n",
              "      <th>NAME_FAMILY_STATUS</th>\n",
              "      <th>NAME_HOUSING_TYPE</th>\n",
              "      <th>OCCUPATION_TYPE</th>\n",
              "    </tr>\n",
              "  </thead>\n",
              "  <tbody>\n",
              "    <tr>\n",
              "      <th>count</th>\n",
              "      <td>438557</td>\n",
              "      <td>438557</td>\n",
              "      <td>438557</td>\n",
              "      <td>438557</td>\n",
              "      <td>438557</td>\n",
              "      <td>438557</td>\n",
              "      <td>438557</td>\n",
              "      <td>304354</td>\n",
              "    </tr>\n",
              "    <tr>\n",
              "      <th>unique</th>\n",
              "      <td>2</td>\n",
              "      <td>2</td>\n",
              "      <td>2</td>\n",
              "      <td>5</td>\n",
              "      <td>5</td>\n",
              "      <td>5</td>\n",
              "      <td>6</td>\n",
              "      <td>18</td>\n",
              "    </tr>\n",
              "    <tr>\n",
              "      <th>top</th>\n",
              "      <td>F</td>\n",
              "      <td>N</td>\n",
              "      <td>Y</td>\n",
              "      <td>Working</td>\n",
              "      <td>Secondary / secondary special</td>\n",
              "      <td>Married</td>\n",
              "      <td>House / apartment</td>\n",
              "      <td>Laborers</td>\n",
              "    </tr>\n",
              "    <tr>\n",
              "      <th>freq</th>\n",
              "      <td>294440</td>\n",
              "      <td>275459</td>\n",
              "      <td>304074</td>\n",
              "      <td>226104</td>\n",
              "      <td>301821</td>\n",
              "      <td>299828</td>\n",
              "      <td>393831</td>\n",
              "      <td>78240</td>\n",
              "    </tr>\n",
              "  </tbody>\n",
              "</table>\n",
              "</div>\n",
              "      <button class=\"colab-df-convert\" onclick=\"convertToInteractive('df-cd176b80-d941-4926-9b09-3c00b65fc7d7')\"\n",
              "              title=\"Convert this dataframe to an interactive table.\"\n",
              "              style=\"display:none;\">\n",
              "        \n",
              "  <svg xmlns=\"http://www.w3.org/2000/svg\" height=\"24px\"viewBox=\"0 0 24 24\"\n",
              "       width=\"24px\">\n",
              "    <path d=\"M0 0h24v24H0V0z\" fill=\"none\"/>\n",
              "    <path d=\"M18.56 5.44l.94 2.06.94-2.06 2.06-.94-2.06-.94-.94-2.06-.94 2.06-2.06.94zm-11 1L8.5 8.5l.94-2.06 2.06-.94-2.06-.94L8.5 2.5l-.94 2.06-2.06.94zm10 10l.94 2.06.94-2.06 2.06-.94-2.06-.94-.94-2.06-.94 2.06-2.06.94z\"/><path d=\"M17.41 7.96l-1.37-1.37c-.4-.4-.92-.59-1.43-.59-.52 0-1.04.2-1.43.59L10.3 9.45l-7.72 7.72c-.78.78-.78 2.05 0 2.83L4 21.41c.39.39.9.59 1.41.59.51 0 1.02-.2 1.41-.59l7.78-7.78 2.81-2.81c.8-.78.8-2.07 0-2.86zM5.41 20L4 18.59l7.72-7.72 1.47 1.35L5.41 20z\"/>\n",
              "  </svg>\n",
              "      </button>\n",
              "      \n",
              "  <style>\n",
              "    .colab-df-container {\n",
              "      display:flex;\n",
              "      flex-wrap:wrap;\n",
              "      gap: 12px;\n",
              "    }\n",
              "\n",
              "    .colab-df-convert {\n",
              "      background-color: #E8F0FE;\n",
              "      border: none;\n",
              "      border-radius: 50%;\n",
              "      cursor: pointer;\n",
              "      display: none;\n",
              "      fill: #1967D2;\n",
              "      height: 32px;\n",
              "      padding: 0 0 0 0;\n",
              "      width: 32px;\n",
              "    }\n",
              "\n",
              "    .colab-df-convert:hover {\n",
              "      background-color: #E2EBFA;\n",
              "      box-shadow: 0px 1px 2px rgba(60, 64, 67, 0.3), 0px 1px 3px 1px rgba(60, 64, 67, 0.15);\n",
              "      fill: #174EA6;\n",
              "    }\n",
              "\n",
              "    [theme=dark] .colab-df-convert {\n",
              "      background-color: #3B4455;\n",
              "      fill: #D2E3FC;\n",
              "    }\n",
              "\n",
              "    [theme=dark] .colab-df-convert:hover {\n",
              "      background-color: #434B5C;\n",
              "      box-shadow: 0px 1px 3px 1px rgba(0, 0, 0, 0.15);\n",
              "      filter: drop-shadow(0px 1px 2px rgba(0, 0, 0, 0.3));\n",
              "      fill: #FFFFFF;\n",
              "    }\n",
              "  </style>\n",
              "\n",
              "      <script>\n",
              "        const buttonEl =\n",
              "          document.querySelector('#df-cd176b80-d941-4926-9b09-3c00b65fc7d7 button.colab-df-convert');\n",
              "        buttonEl.style.display =\n",
              "          google.colab.kernel.accessAllowed ? 'block' : 'none';\n",
              "\n",
              "        async function convertToInteractive(key) {\n",
              "          const element = document.querySelector('#df-cd176b80-d941-4926-9b09-3c00b65fc7d7');\n",
              "          const dataTable =\n",
              "            await google.colab.kernel.invokeFunction('convertToInteractive',\n",
              "                                                     [key], {});\n",
              "          if (!dataTable) return;\n",
              "\n",
              "          const docLinkHtml = 'Like what you see? Visit the ' +\n",
              "            '<a target=\"_blank\" href=https://colab.research.google.com/notebooks/data_table.ipynb>data table notebook</a>'\n",
              "            + ' to learn more about interactive tables.';\n",
              "          element.innerHTML = '';\n",
              "          dataTable['output_type'] = 'display_data';\n",
              "          await google.colab.output.renderOutput(dataTable, element);\n",
              "          const docLink = document.createElement('div');\n",
              "          docLink.innerHTML = docLinkHtml;\n",
              "          element.appendChild(docLink);\n",
              "        }\n",
              "      </script>\n",
              "    </div>\n",
              "  </div>\n",
              "  "
            ],
            "text/plain": [
              "       CODE_GENDER FLAG_OWN_CAR FLAG_OWN_REALTY NAME_INCOME_TYPE  \\\n",
              "count       438557       438557          438557           438557   \n",
              "unique           2            2               2                5   \n",
              "top              F            N               Y          Working   \n",
              "freq        294440       275459          304074           226104   \n",
              "\n",
              "                  NAME_EDUCATION_TYPE NAME_FAMILY_STATUS  NAME_HOUSING_TYPE  \\\n",
              "count                          438557             438557             438557   \n",
              "unique                              5                  5                  6   \n",
              "top     Secondary / secondary special            Married  House / apartment   \n",
              "freq                           301821             299828             393831   \n",
              "\n",
              "       OCCUPATION_TYPE  \n",
              "count           304354  \n",
              "unique              18  \n",
              "top           Laborers  \n",
              "freq             78240  "
            ]
          },
          "execution_count": 48,
          "metadata": {},
          "output_type": "execute_result"
        }
      ],
      "source": [
        "app_record.describe(include=\"O\")"
      ],
      "id": "7cd607f1"
    },
    {
      "cell_type": "code",
      "execution_count": null,
      "metadata": {
        "colab": {
          "base_uri": "https://localhost:8080/"
        },
        "id": "4a34162b",
        "outputId": "5bcdb3a9-0cf9-4498-c6dc-0224f8720d11"
      },
      "outputs": [
        {
          "data": {
            "text/plain": [
              "0"
            ]
          },
          "execution_count": 49,
          "metadata": {},
          "output_type": "execute_result"
        }
      ],
      "source": [
        "app_record.duplicated().sum()"
      ],
      "id": "4a34162b"
    },
    {
      "cell_type": "code",
      "execution_count": null,
      "metadata": {
        "colab": {
          "base_uri": "https://localhost:8080/"
        },
        "id": "171b2b69",
        "outputId": "e2eb019e-cabf-4748-a230-49b187e93bb9"
      },
      "outputs": [
        {
          "data": {
            "text/plain": [
              "ID                          0\n",
              "CODE_GENDER                 0\n",
              "FLAG_OWN_CAR                0\n",
              "FLAG_OWN_REALTY             0\n",
              "CNT_CHILDREN                0\n",
              "AMT_INCOME_TOTAL            0\n",
              "NAME_INCOME_TYPE            0\n",
              "NAME_EDUCATION_TYPE         0\n",
              "NAME_FAMILY_STATUS          0\n",
              "NAME_HOUSING_TYPE           0\n",
              "DAYS_BIRTH                  0\n",
              "DAYS_EMPLOYED               0\n",
              "FLAG_MOBIL                  0\n",
              "FLAG_WORK_PHONE             0\n",
              "FLAG_PHONE                  0\n",
              "FLAG_EMAIL                  0\n",
              "OCCUPATION_TYPE        134203\n",
              "CNT_FAM_MEMBERS             0\n",
              "dtype: int64"
            ]
          },
          "execution_count": 50,
          "metadata": {},
          "output_type": "execute_result"
        }
      ],
      "source": [
        "app_record.isna().sum()"
      ],
      "id": "171b2b69"
    },
    {
      "cell_type": "code",
      "execution_count": null,
      "metadata": {
        "id": "09d070ec"
      },
      "outputs": [],
      "source": [
        "fixed_app_record = app_record.copy()"
      ],
      "id": "09d070ec"
    },
    {
      "cell_type": "code",
      "execution_count": null,
      "metadata": {
        "id": "e9dfe618"
      },
      "outputs": [],
      "source": [
        "fixed_app_record.OCCUPATION_TYPE.fillna(\"Unknown\", inplace=True)"
      ],
      "id": "e9dfe618"
    },
    {
      "cell_type": "markdown",
      "metadata": {
        "id": "50bd97f1"
      },
      "source": [
        "### Merge Data"
      ],
      "id": "50bd97f1"
    },
    {
      "cell_type": "code",
      "execution_count": null,
      "metadata": {
        "id": "9100e5f0"
      },
      "outputs": [],
      "source": [
        "df = pd.merge(credit_record, fixed_app_record, on=\"ID\", how=\"inner\")"
      ],
      "id": "9100e5f0"
    },
    {
      "cell_type": "code",
      "execution_count": null,
      "metadata": {
        "colab": {
          "base_uri": "https://localhost:8080/"
        },
        "id": "9962b8c2",
        "outputId": "c43c5d7a-2e1c-4c57-a878-4af7b10feb33"
      },
      "outputs": [
        {
          "name": "stdout",
          "output_type": "stream",
          "text": [
            "<class 'pandas.core.frame.DataFrame'>\n",
            "Int64Index: 777715 entries, 0 to 777714\n",
            "Data columns (total 20 columns):\n",
            " #   Column               Non-Null Count   Dtype  \n",
            "---  ------               --------------   -----  \n",
            " 0   ID                   777715 non-null  int64  \n",
            " 1   MONTHS_BALANCE       777715 non-null  int64  \n",
            " 2   STATUS               777715 non-null  object \n",
            " 3   CODE_GENDER          777715 non-null  object \n",
            " 4   FLAG_OWN_CAR         777715 non-null  object \n",
            " 5   FLAG_OWN_REALTY      777715 non-null  object \n",
            " 6   CNT_CHILDREN         777715 non-null  int64  \n",
            " 7   AMT_INCOME_TOTAL     777715 non-null  float64\n",
            " 8   NAME_INCOME_TYPE     777715 non-null  object \n",
            " 9   NAME_EDUCATION_TYPE  777715 non-null  object \n",
            " 10  NAME_FAMILY_STATUS   777715 non-null  object \n",
            " 11  NAME_HOUSING_TYPE    777715 non-null  object \n",
            " 12  DAYS_BIRTH           777715 non-null  int64  \n",
            " 13  DAYS_EMPLOYED        777715 non-null  int64  \n",
            " 14  FLAG_MOBIL           777715 non-null  int64  \n",
            " 15  FLAG_WORK_PHONE      777715 non-null  int64  \n",
            " 16  FLAG_PHONE           777715 non-null  int64  \n",
            " 17  FLAG_EMAIL           777715 non-null  int64  \n",
            " 18  OCCUPATION_TYPE      777715 non-null  object \n",
            " 19  CNT_FAM_MEMBERS      777715 non-null  float64\n",
            "dtypes: float64(2), int64(9), object(9)\n",
            "memory usage: 124.6+ MB\n"
          ]
        }
      ],
      "source": [
        "df.info()"
      ],
      "id": "9962b8c2"
    },
    {
      "cell_type": "code",
      "execution_count": null,
      "metadata": {
        "colab": {
          "base_uri": "https://localhost:8080/"
        },
        "id": "ee3a6fbe",
        "outputId": "5e7bbe3b-7a7b-458e-a71e-b194943efd42"
      },
      "outputs": [
        {
          "data": {
            "text/plain": [
              "0"
            ]
          },
          "execution_count": 55,
          "metadata": {},
          "output_type": "execute_result"
        }
      ],
      "source": [
        "df.duplicated().sum()"
      ],
      "id": "ee3a6fbe"
    },
    {
      "cell_type": "code",
      "execution_count": null,
      "metadata": {
        "colab": {
          "base_uri": "https://localhost:8080/"
        },
        "id": "429faf7d",
        "outputId": "e744fdbc-29c8-4a00-c43e-d9322d78b79d"
      },
      "outputs": [
        {
          "data": {
            "text/plain": [
              "ID                     0\n",
              "MONTHS_BALANCE         0\n",
              "STATUS                 0\n",
              "CODE_GENDER            0\n",
              "FLAG_OWN_CAR           0\n",
              "FLAG_OWN_REALTY        0\n",
              "CNT_CHILDREN           0\n",
              "AMT_INCOME_TOTAL       0\n",
              "NAME_INCOME_TYPE       0\n",
              "NAME_EDUCATION_TYPE    0\n",
              "NAME_FAMILY_STATUS     0\n",
              "NAME_HOUSING_TYPE      0\n",
              "DAYS_BIRTH             0\n",
              "DAYS_EMPLOYED          0\n",
              "FLAG_MOBIL             0\n",
              "FLAG_WORK_PHONE        0\n",
              "FLAG_PHONE             0\n",
              "FLAG_EMAIL             0\n",
              "OCCUPATION_TYPE        0\n",
              "CNT_FAM_MEMBERS        0\n",
              "dtype: int64"
            ]
          },
          "execution_count": 56,
          "metadata": {},
          "output_type": "execute_result"
        }
      ],
      "source": [
        "df.isna().sum()"
      ],
      "id": "429faf7d"
    },
    {
      "cell_type": "code",
      "execution_count": null,
      "metadata": {
        "colab": {
          "base_uri": "https://localhost:8080/",
          "height": 364
        },
        "id": "ffdcbeb1",
        "outputId": "1ca54765-0ae1-4223-cf47-f25161762428"
      },
      "outputs": [
        {
          "data": {
            "text/html": [
              "\n",
              "  <div id=\"df-679f2ca5-61ea-4b69-bba2-ea8b7319e13a\">\n",
              "    <div class=\"colab-df-container\">\n",
              "      <div>\n",
              "<style scoped>\n",
              "    .dataframe tbody tr th:only-of-type {\n",
              "        vertical-align: middle;\n",
              "    }\n",
              "\n",
              "    .dataframe tbody tr th {\n",
              "        vertical-align: top;\n",
              "    }\n",
              "\n",
              "    .dataframe thead th {\n",
              "        text-align: right;\n",
              "    }\n",
              "</style>\n",
              "<table border=\"1\" class=\"dataframe\">\n",
              "  <thead>\n",
              "    <tr style=\"text-align: right;\">\n",
              "      <th></th>\n",
              "      <th>ID</th>\n",
              "      <th>MONTHS_BALANCE</th>\n",
              "      <th>CNT_CHILDREN</th>\n",
              "      <th>AMT_INCOME_TOTAL</th>\n",
              "      <th>DAYS_BIRTH</th>\n",
              "      <th>DAYS_EMPLOYED</th>\n",
              "      <th>FLAG_MOBIL</th>\n",
              "      <th>FLAG_WORK_PHONE</th>\n",
              "      <th>FLAG_PHONE</th>\n",
              "      <th>FLAG_EMAIL</th>\n",
              "      <th>CNT_FAM_MEMBERS</th>\n",
              "    </tr>\n",
              "  </thead>\n",
              "  <tbody>\n",
              "    <tr>\n",
              "      <th>count</th>\n",
              "      <td>7.777150e+05</td>\n",
              "      <td>777715.000000</td>\n",
              "      <td>777715.000000</td>\n",
              "      <td>7.777150e+05</td>\n",
              "      <td>777715.000000</td>\n",
              "      <td>777715.000000</td>\n",
              "      <td>777715.0</td>\n",
              "      <td>777715.000000</td>\n",
              "      <td>777715.000000</td>\n",
              "      <td>777715.000000</td>\n",
              "      <td>777715.000000</td>\n",
              "    </tr>\n",
              "    <tr>\n",
              "      <th>mean</th>\n",
              "      <td>5.078743e+06</td>\n",
              "      <td>-19.373564</td>\n",
              "      <td>0.428082</td>\n",
              "      <td>1.885348e+05</td>\n",
              "      <td>-16124.937046</td>\n",
              "      <td>57775.825016</td>\n",
              "      <td>1.0</td>\n",
              "      <td>0.231818</td>\n",
              "      <td>0.300965</td>\n",
              "      <td>0.091675</td>\n",
              "      <td>2.208837</td>\n",
              "    </tr>\n",
              "    <tr>\n",
              "      <th>std</th>\n",
              "      <td>4.180442e+04</td>\n",
              "      <td>14.082208</td>\n",
              "      <td>0.745755</td>\n",
              "      <td>1.016225e+05</td>\n",
              "      <td>4104.304018</td>\n",
              "      <td>136471.735391</td>\n",
              "      <td>0.0</td>\n",
              "      <td>0.421993</td>\n",
              "      <td>0.458678</td>\n",
              "      <td>0.288567</td>\n",
              "      <td>0.907380</td>\n",
              "    </tr>\n",
              "    <tr>\n",
              "      <th>min</th>\n",
              "      <td>5.008804e+06</td>\n",
              "      <td>-60.000000</td>\n",
              "      <td>0.000000</td>\n",
              "      <td>2.700000e+04</td>\n",
              "      <td>-25152.000000</td>\n",
              "      <td>-15713.000000</td>\n",
              "      <td>1.0</td>\n",
              "      <td>0.000000</td>\n",
              "      <td>0.000000</td>\n",
              "      <td>0.000000</td>\n",
              "      <td>1.000000</td>\n",
              "    </tr>\n",
              "    <tr>\n",
              "      <th>25%</th>\n",
              "      <td>5.044568e+06</td>\n",
              "      <td>-29.000000</td>\n",
              "      <td>0.000000</td>\n",
              "      <td>1.215000e+05</td>\n",
              "      <td>-19453.000000</td>\n",
              "      <td>-3292.000000</td>\n",
              "      <td>1.0</td>\n",
              "      <td>0.000000</td>\n",
              "      <td>0.000000</td>\n",
              "      <td>0.000000</td>\n",
              "      <td>2.000000</td>\n",
              "    </tr>\n",
              "    <tr>\n",
              "      <th>50%</th>\n",
              "      <td>5.069530e+06</td>\n",
              "      <td>-17.000000</td>\n",
              "      <td>0.000000</td>\n",
              "      <td>1.620000e+05</td>\n",
              "      <td>-15760.000000</td>\n",
              "      <td>-1682.000000</td>\n",
              "      <td>1.0</td>\n",
              "      <td>0.000000</td>\n",
              "      <td>0.000000</td>\n",
              "      <td>0.000000</td>\n",
              "      <td>2.000000</td>\n",
              "    </tr>\n",
              "    <tr>\n",
              "      <th>75%</th>\n",
              "      <td>5.115551e+06</td>\n",
              "      <td>-8.000000</td>\n",
              "      <td>1.000000</td>\n",
              "      <td>2.250000e+05</td>\n",
              "      <td>-12716.000000</td>\n",
              "      <td>-431.000000</td>\n",
              "      <td>1.0</td>\n",
              "      <td>0.000000</td>\n",
              "      <td>1.000000</td>\n",
              "      <td>0.000000</td>\n",
              "      <td>3.000000</td>\n",
              "    </tr>\n",
              "    <tr>\n",
              "      <th>max</th>\n",
              "      <td>5.150487e+06</td>\n",
              "      <td>0.000000</td>\n",
              "      <td>19.000000</td>\n",
              "      <td>1.575000e+06</td>\n",
              "      <td>-7489.000000</td>\n",
              "      <td>365243.000000</td>\n",
              "      <td>1.0</td>\n",
              "      <td>1.000000</td>\n",
              "      <td>1.000000</td>\n",
              "      <td>1.000000</td>\n",
              "      <td>20.000000</td>\n",
              "    </tr>\n",
              "  </tbody>\n",
              "</table>\n",
              "</div>\n",
              "      <button class=\"colab-df-convert\" onclick=\"convertToInteractive('df-679f2ca5-61ea-4b69-bba2-ea8b7319e13a')\"\n",
              "              title=\"Convert this dataframe to an interactive table.\"\n",
              "              style=\"display:none;\">\n",
              "        \n",
              "  <svg xmlns=\"http://www.w3.org/2000/svg\" height=\"24px\"viewBox=\"0 0 24 24\"\n",
              "       width=\"24px\">\n",
              "    <path d=\"M0 0h24v24H0V0z\" fill=\"none\"/>\n",
              "    <path d=\"M18.56 5.44l.94 2.06.94-2.06 2.06-.94-2.06-.94-.94-2.06-.94 2.06-2.06.94zm-11 1L8.5 8.5l.94-2.06 2.06-.94-2.06-.94L8.5 2.5l-.94 2.06-2.06.94zm10 10l.94 2.06.94-2.06 2.06-.94-2.06-.94-.94-2.06-.94 2.06-2.06.94z\"/><path d=\"M17.41 7.96l-1.37-1.37c-.4-.4-.92-.59-1.43-.59-.52 0-1.04.2-1.43.59L10.3 9.45l-7.72 7.72c-.78.78-.78 2.05 0 2.83L4 21.41c.39.39.9.59 1.41.59.51 0 1.02-.2 1.41-.59l7.78-7.78 2.81-2.81c.8-.78.8-2.07 0-2.86zM5.41 20L4 18.59l7.72-7.72 1.47 1.35L5.41 20z\"/>\n",
              "  </svg>\n",
              "      </button>\n",
              "      \n",
              "  <style>\n",
              "    .colab-df-container {\n",
              "      display:flex;\n",
              "      flex-wrap:wrap;\n",
              "      gap: 12px;\n",
              "    }\n",
              "\n",
              "    .colab-df-convert {\n",
              "      background-color: #E8F0FE;\n",
              "      border: none;\n",
              "      border-radius: 50%;\n",
              "      cursor: pointer;\n",
              "      display: none;\n",
              "      fill: #1967D2;\n",
              "      height: 32px;\n",
              "      padding: 0 0 0 0;\n",
              "      width: 32px;\n",
              "    }\n",
              "\n",
              "    .colab-df-convert:hover {\n",
              "      background-color: #E2EBFA;\n",
              "      box-shadow: 0px 1px 2px rgba(60, 64, 67, 0.3), 0px 1px 3px 1px rgba(60, 64, 67, 0.15);\n",
              "      fill: #174EA6;\n",
              "    }\n",
              "\n",
              "    [theme=dark] .colab-df-convert {\n",
              "      background-color: #3B4455;\n",
              "      fill: #D2E3FC;\n",
              "    }\n",
              "\n",
              "    [theme=dark] .colab-df-convert:hover {\n",
              "      background-color: #434B5C;\n",
              "      box-shadow: 0px 1px 3px 1px rgba(0, 0, 0, 0.15);\n",
              "      filter: drop-shadow(0px 1px 2px rgba(0, 0, 0, 0.3));\n",
              "      fill: #FFFFFF;\n",
              "    }\n",
              "  </style>\n",
              "\n",
              "      <script>\n",
              "        const buttonEl =\n",
              "          document.querySelector('#df-679f2ca5-61ea-4b69-bba2-ea8b7319e13a button.colab-df-convert');\n",
              "        buttonEl.style.display =\n",
              "          google.colab.kernel.accessAllowed ? 'block' : 'none';\n",
              "\n",
              "        async function convertToInteractive(key) {\n",
              "          const element = document.querySelector('#df-679f2ca5-61ea-4b69-bba2-ea8b7319e13a');\n",
              "          const dataTable =\n",
              "            await google.colab.kernel.invokeFunction('convertToInteractive',\n",
              "                                                     [key], {});\n",
              "          if (!dataTable) return;\n",
              "\n",
              "          const docLinkHtml = 'Like what you see? Visit the ' +\n",
              "            '<a target=\"_blank\" href=https://colab.research.google.com/notebooks/data_table.ipynb>data table notebook</a>'\n",
              "            + ' to learn more about interactive tables.';\n",
              "          element.innerHTML = '';\n",
              "          dataTable['output_type'] = 'display_data';\n",
              "          await google.colab.output.renderOutput(dataTable, element);\n",
              "          const docLink = document.createElement('div');\n",
              "          docLink.innerHTML = docLinkHtml;\n",
              "          element.appendChild(docLink);\n",
              "        }\n",
              "      </script>\n",
              "    </div>\n",
              "  </div>\n",
              "  "
            ],
            "text/plain": [
              "                 ID  MONTHS_BALANCE   CNT_CHILDREN  AMT_INCOME_TOTAL  \\\n",
              "count  7.777150e+05   777715.000000  777715.000000      7.777150e+05   \n",
              "mean   5.078743e+06      -19.373564       0.428082      1.885348e+05   \n",
              "std    4.180442e+04       14.082208       0.745755      1.016225e+05   \n",
              "min    5.008804e+06      -60.000000       0.000000      2.700000e+04   \n",
              "25%    5.044568e+06      -29.000000       0.000000      1.215000e+05   \n",
              "50%    5.069530e+06      -17.000000       0.000000      1.620000e+05   \n",
              "75%    5.115551e+06       -8.000000       1.000000      2.250000e+05   \n",
              "max    5.150487e+06        0.000000      19.000000      1.575000e+06   \n",
              "\n",
              "          DAYS_BIRTH  DAYS_EMPLOYED  FLAG_MOBIL  FLAG_WORK_PHONE  \\\n",
              "count  777715.000000  777715.000000    777715.0    777715.000000   \n",
              "mean   -16124.937046   57775.825016         1.0         0.231818   \n",
              "std      4104.304018  136471.735391         0.0         0.421993   \n",
              "min    -25152.000000  -15713.000000         1.0         0.000000   \n",
              "25%    -19453.000000   -3292.000000         1.0         0.000000   \n",
              "50%    -15760.000000   -1682.000000         1.0         0.000000   \n",
              "75%    -12716.000000    -431.000000         1.0         0.000000   \n",
              "max     -7489.000000  365243.000000         1.0         1.000000   \n",
              "\n",
              "          FLAG_PHONE     FLAG_EMAIL  CNT_FAM_MEMBERS  \n",
              "count  777715.000000  777715.000000    777715.000000  \n",
              "mean        0.300965       0.091675         2.208837  \n",
              "std         0.458678       0.288567         0.907380  \n",
              "min         0.000000       0.000000         1.000000  \n",
              "25%         0.000000       0.000000         2.000000  \n",
              "50%         0.000000       0.000000         2.000000  \n",
              "75%         1.000000       0.000000         3.000000  \n",
              "max         1.000000       1.000000        20.000000  "
            ]
          },
          "execution_count": 57,
          "metadata": {},
          "output_type": "execute_result"
        }
      ],
      "source": [
        "df.describe()"
      ],
      "id": "ffdcbeb1"
    },
    {
      "cell_type": "code",
      "execution_count": null,
      "metadata": {
        "colab": {
          "base_uri": "https://localhost:8080/",
          "height": 256
        },
        "id": "a80ec47e",
        "outputId": "faf6e4ff-75e7-448d-b20f-311d52bb8d52"
      },
      "outputs": [
        {
          "data": {
            "text/html": [
              "\n",
              "  <div id=\"df-18c83bce-b905-4cdd-a1ed-bed365d10bc0\">\n",
              "    <div class=\"colab-df-container\">\n",
              "      <div>\n",
              "<style scoped>\n",
              "    .dataframe tbody tr th:only-of-type {\n",
              "        vertical-align: middle;\n",
              "    }\n",
              "\n",
              "    .dataframe tbody tr th {\n",
              "        vertical-align: top;\n",
              "    }\n",
              "\n",
              "    .dataframe thead th {\n",
              "        text-align: right;\n",
              "    }\n",
              "</style>\n",
              "<table border=\"1\" class=\"dataframe\">\n",
              "  <thead>\n",
              "    <tr style=\"text-align: right;\">\n",
              "      <th></th>\n",
              "      <th>STATUS</th>\n",
              "      <th>CODE_GENDER</th>\n",
              "      <th>FLAG_OWN_CAR</th>\n",
              "      <th>FLAG_OWN_REALTY</th>\n",
              "      <th>NAME_INCOME_TYPE</th>\n",
              "      <th>NAME_EDUCATION_TYPE</th>\n",
              "      <th>NAME_FAMILY_STATUS</th>\n",
              "      <th>NAME_HOUSING_TYPE</th>\n",
              "      <th>OCCUPATION_TYPE</th>\n",
              "    </tr>\n",
              "  </thead>\n",
              "  <tbody>\n",
              "    <tr>\n",
              "      <th>count</th>\n",
              "      <td>777715</td>\n",
              "      <td>777715</td>\n",
              "      <td>777715</td>\n",
              "      <td>777715</td>\n",
              "      <td>777715</td>\n",
              "      <td>777715</td>\n",
              "      <td>777715</td>\n",
              "      <td>777715</td>\n",
              "      <td>777715</td>\n",
              "    </tr>\n",
              "    <tr>\n",
              "      <th>unique</th>\n",
              "      <td>8</td>\n",
              "      <td>2</td>\n",
              "      <td>2</td>\n",
              "      <td>2</td>\n",
              "      <td>5</td>\n",
              "      <td>5</td>\n",
              "      <td>5</td>\n",
              "      <td>6</td>\n",
              "      <td>19</td>\n",
              "    </tr>\n",
              "    <tr>\n",
              "      <th>top</th>\n",
              "      <td>C</td>\n",
              "      <td>F</td>\n",
              "      <td>N</td>\n",
              "      <td>Y</td>\n",
              "      <td>Working</td>\n",
              "      <td>Secondary / secondary special</td>\n",
              "      <td>Married</td>\n",
              "      <td>House / apartment</td>\n",
              "      <td>Unknown</td>\n",
              "    </tr>\n",
              "    <tr>\n",
              "      <th>freq</th>\n",
              "      <td>329536</td>\n",
              "      <td>518851</td>\n",
              "      <td>473355</td>\n",
              "      <td>512948</td>\n",
              "      <td>400164</td>\n",
              "      <td>524261</td>\n",
              "      <td>546619</td>\n",
              "      <td>697151</td>\n",
              "      <td>240048</td>\n",
              "    </tr>\n",
              "  </tbody>\n",
              "</table>\n",
              "</div>\n",
              "      <button class=\"colab-df-convert\" onclick=\"convertToInteractive('df-18c83bce-b905-4cdd-a1ed-bed365d10bc0')\"\n",
              "              title=\"Convert this dataframe to an interactive table.\"\n",
              "              style=\"display:none;\">\n",
              "        \n",
              "  <svg xmlns=\"http://www.w3.org/2000/svg\" height=\"24px\"viewBox=\"0 0 24 24\"\n",
              "       width=\"24px\">\n",
              "    <path d=\"M0 0h24v24H0V0z\" fill=\"none\"/>\n",
              "    <path d=\"M18.56 5.44l.94 2.06.94-2.06 2.06-.94-2.06-.94-.94-2.06-.94 2.06-2.06.94zm-11 1L8.5 8.5l.94-2.06 2.06-.94-2.06-.94L8.5 2.5l-.94 2.06-2.06.94zm10 10l.94 2.06.94-2.06 2.06-.94-2.06-.94-.94-2.06-.94 2.06-2.06.94z\"/><path d=\"M17.41 7.96l-1.37-1.37c-.4-.4-.92-.59-1.43-.59-.52 0-1.04.2-1.43.59L10.3 9.45l-7.72 7.72c-.78.78-.78 2.05 0 2.83L4 21.41c.39.39.9.59 1.41.59.51 0 1.02-.2 1.41-.59l7.78-7.78 2.81-2.81c.8-.78.8-2.07 0-2.86zM5.41 20L4 18.59l7.72-7.72 1.47 1.35L5.41 20z\"/>\n",
              "  </svg>\n",
              "      </button>\n",
              "      \n",
              "  <style>\n",
              "    .colab-df-container {\n",
              "      display:flex;\n",
              "      flex-wrap:wrap;\n",
              "      gap: 12px;\n",
              "    }\n",
              "\n",
              "    .colab-df-convert {\n",
              "      background-color: #E8F0FE;\n",
              "      border: none;\n",
              "      border-radius: 50%;\n",
              "      cursor: pointer;\n",
              "      display: none;\n",
              "      fill: #1967D2;\n",
              "      height: 32px;\n",
              "      padding: 0 0 0 0;\n",
              "      width: 32px;\n",
              "    }\n",
              "\n",
              "    .colab-df-convert:hover {\n",
              "      background-color: #E2EBFA;\n",
              "      box-shadow: 0px 1px 2px rgba(60, 64, 67, 0.3), 0px 1px 3px 1px rgba(60, 64, 67, 0.15);\n",
              "      fill: #174EA6;\n",
              "    }\n",
              "\n",
              "    [theme=dark] .colab-df-convert {\n",
              "      background-color: #3B4455;\n",
              "      fill: #D2E3FC;\n",
              "    }\n",
              "\n",
              "    [theme=dark] .colab-df-convert:hover {\n",
              "      background-color: #434B5C;\n",
              "      box-shadow: 0px 1px 3px 1px rgba(0, 0, 0, 0.15);\n",
              "      filter: drop-shadow(0px 1px 2px rgba(0, 0, 0, 0.3));\n",
              "      fill: #FFFFFF;\n",
              "    }\n",
              "  </style>\n",
              "\n",
              "      <script>\n",
              "        const buttonEl =\n",
              "          document.querySelector('#df-18c83bce-b905-4cdd-a1ed-bed365d10bc0 button.colab-df-convert');\n",
              "        buttonEl.style.display =\n",
              "          google.colab.kernel.accessAllowed ? 'block' : 'none';\n",
              "\n",
              "        async function convertToInteractive(key) {\n",
              "          const element = document.querySelector('#df-18c83bce-b905-4cdd-a1ed-bed365d10bc0');\n",
              "          const dataTable =\n",
              "            await google.colab.kernel.invokeFunction('convertToInteractive',\n",
              "                                                     [key], {});\n",
              "          if (!dataTable) return;\n",
              "\n",
              "          const docLinkHtml = 'Like what you see? Visit the ' +\n",
              "            '<a target=\"_blank\" href=https://colab.research.google.com/notebooks/data_table.ipynb>data table notebook</a>'\n",
              "            + ' to learn more about interactive tables.';\n",
              "          element.innerHTML = '';\n",
              "          dataTable['output_type'] = 'display_data';\n",
              "          await google.colab.output.renderOutput(dataTable, element);\n",
              "          const docLink = document.createElement('div');\n",
              "          docLink.innerHTML = docLinkHtml;\n",
              "          element.appendChild(docLink);\n",
              "        }\n",
              "      </script>\n",
              "    </div>\n",
              "  </div>\n",
              "  "
            ],
            "text/plain": [
              "        STATUS CODE_GENDER FLAG_OWN_CAR FLAG_OWN_REALTY NAME_INCOME_TYPE  \\\n",
              "count   777715      777715       777715          777715           777715   \n",
              "unique       8           2            2               2                5   \n",
              "top          C           F            N               Y          Working   \n",
              "freq    329536      518851       473355          512948           400164   \n",
              "\n",
              "                  NAME_EDUCATION_TYPE NAME_FAMILY_STATUS  NAME_HOUSING_TYPE  \\\n",
              "count                          777715             777715             777715   \n",
              "unique                              5                  5                  6   \n",
              "top     Secondary / secondary special            Married  House / apartment   \n",
              "freq                           524261             546619             697151   \n",
              "\n",
              "       OCCUPATION_TYPE  \n",
              "count           777715  \n",
              "unique              19  \n",
              "top            Unknown  \n",
              "freq            240048  "
            ]
          },
          "execution_count": 58,
          "metadata": {},
          "output_type": "execute_result"
        }
      ],
      "source": [
        "df.describe(include=\"O\")"
      ],
      "id": "a80ec47e"
    },
    {
      "cell_type": "markdown",
      "metadata": {
        "id": "1a1a4e1f"
      },
      "source": [
        "## Feature Engineering"
      ],
      "id": "1a1a4e1f"
    },
    {
      "cell_type": "code",
      "execution_count": null,
      "metadata": {
        "id": "6f14b41a"
      },
      "outputs": [],
      "source": [
        "#membuat feature usia user\n",
        "df[\"AGE\"] = np.floor(np.abs(df.DAYS_BIRTH/365))"
      ],
      "id": "6f14b41a"
    },
    {
      "cell_type": "code",
      "execution_count": null,
      "metadata": {
        "id": "456db7fc"
      },
      "outputs": [],
      "source": [
        "gender_codes = {'F': 0, 'M': 1}\n",
        "df['CODE_GENDER'] = df.CODE_GENDER.map(gender_codes)\n",
        "df.CODE_GENDER = df.CODE_GENDER.astype('int')"
      ],
      "id": "456db7fc"
    },
    {
      "cell_type": "code",
      "execution_count": null,
      "metadata": {
        "id": "1887a30c"
      },
      "outputs": [],
      "source": [
        "df['MONTHS_BALANCE'] = np.abs(df.MONTHS_BALANCE)"
      ],
      "id": "1887a30c"
    },
    {
      "cell_type": "code",
      "execution_count": null,
      "metadata": {
        "id": "e55fa25a"
      },
      "outputs": [],
      "source": [
        "df['YEARS_EMPLOYED'] = np.floor(np.abs(df.DAYS_EMPLOYED/365))"
      ],
      "id": "e55fa25a"
    },
    {
      "cell_type": "code",
      "execution_count": null,
      "metadata": {
        "id": "5d9a0ecd"
      },
      "outputs": [],
      "source": [
        "code = {'N': 0, 'Y': 1}\n",
        "\n",
        "df['FLAG_OWN_CAR'] = df.FLAG_OWN_CAR.map(code)\n",
        "df.FLAG_OWN_CAR = df.FLAG_OWN_CAR.astype('int')\n",
        "\n",
        "df['FLAG_OWN_REALTY'] = df.FLAG_OWN_REALTY.map(code)\n",
        "df.FLAG_OWN_REALTY = df.FLAG_OWN_REALTY.astype('int')"
      ],
      "id": "5d9a0ecd"
    },
    {
      "cell_type": "code",
      "execution_count": null,
      "metadata": {
        "id": "f2b6d3d3"
      },
      "outputs": [],
      "source": [
        "def approve(x):\n",
        "    APPROVE=''\n",
        "    if x in ('2','3','4','5'):\n",
        "        APPROVE = 0 #Risky\n",
        "    else :\n",
        "        APPROVE = 1 #not Risky\n",
        "    return APPROVE"
      ],
      "id": "f2b6d3d3"
    },
    {
      "cell_type": "code",
      "execution_count": null,
      "metadata": {
        "id": "fd2efaca"
      },
      "outputs": [],
      "source": [
        "df['APPROVE'] = df['STATUS'].apply(approve)"
      ],
      "id": "fd2efaca"
    },
    {
      "cell_type": "code",
      "execution_count": null,
      "metadata": {
        "colab": {
          "base_uri": "https://localhost:8080/"
        },
        "id": "b1498c9a",
        "outputId": "b560906b-374b-4877-dfbb-47c53dc39822"
      },
      "outputs": [
        {
          "data": {
            "text/plain": [
              "1    774887\n",
              "0      2828\n",
              "Name: APPROVE, dtype: int64"
            ]
          },
          "execution_count": 66,
          "metadata": {},
          "output_type": "execute_result"
        }
      ],
      "source": [
        "df.APPROVE.value_counts()"
      ],
      "id": "b1498c9a"
    },
    {
      "cell_type": "code",
      "execution_count": null,
      "metadata": {
        "colab": {
          "base_uri": "https://localhost:8080/",
          "height": 364
        },
        "id": "0a8a9670",
        "outputId": "71b08ef2-4e07-41e5-8a8e-a1c2b7c6f8b5"
      },
      "outputs": [
        {
          "data": {
            "text/html": [
              "\n",
              "  <div id=\"df-6f492d92-a74e-4ce0-be56-a5e92a69c12e\">\n",
              "    <div class=\"colab-df-container\">\n",
              "      <div>\n",
              "<style scoped>\n",
              "    .dataframe tbody tr th:only-of-type {\n",
              "        vertical-align: middle;\n",
              "    }\n",
              "\n",
              "    .dataframe tbody tr th {\n",
              "        vertical-align: top;\n",
              "    }\n",
              "\n",
              "    .dataframe thead th {\n",
              "        text-align: right;\n",
              "    }\n",
              "</style>\n",
              "<table border=\"1\" class=\"dataframe\">\n",
              "  <thead>\n",
              "    <tr style=\"text-align: right;\">\n",
              "      <th></th>\n",
              "      <th>ID</th>\n",
              "      <th>MONTHS_BALANCE</th>\n",
              "      <th>CODE_GENDER</th>\n",
              "      <th>FLAG_OWN_CAR</th>\n",
              "      <th>FLAG_OWN_REALTY</th>\n",
              "      <th>CNT_CHILDREN</th>\n",
              "      <th>AMT_INCOME_TOTAL</th>\n",
              "      <th>DAYS_BIRTH</th>\n",
              "      <th>DAYS_EMPLOYED</th>\n",
              "      <th>FLAG_MOBIL</th>\n",
              "      <th>FLAG_WORK_PHONE</th>\n",
              "      <th>FLAG_PHONE</th>\n",
              "      <th>FLAG_EMAIL</th>\n",
              "      <th>CNT_FAM_MEMBERS</th>\n",
              "      <th>AGE</th>\n",
              "      <th>YEARS_EMPLOYED</th>\n",
              "      <th>APPROVE</th>\n",
              "    </tr>\n",
              "  </thead>\n",
              "  <tbody>\n",
              "    <tr>\n",
              "      <th>count</th>\n",
              "      <td>7.777150e+05</td>\n",
              "      <td>777715.000000</td>\n",
              "      <td>777715.000000</td>\n",
              "      <td>777715.000000</td>\n",
              "      <td>777715.000000</td>\n",
              "      <td>777715.000000</td>\n",
              "      <td>7.777150e+05</td>\n",
              "      <td>777715.000000</td>\n",
              "      <td>777715.000000</td>\n",
              "      <td>777715.0</td>\n",
              "      <td>777715.000000</td>\n",
              "      <td>777715.000000</td>\n",
              "      <td>777715.000000</td>\n",
              "      <td>777715.000000</td>\n",
              "      <td>777715.000000</td>\n",
              "      <td>777715.000000</td>\n",
              "      <td>777715.000000</td>\n",
              "    </tr>\n",
              "    <tr>\n",
              "      <th>mean</th>\n",
              "      <td>5.078743e+06</td>\n",
              "      <td>19.373564</td>\n",
              "      <td>0.332852</td>\n",
              "      <td>0.391352</td>\n",
              "      <td>0.659558</td>\n",
              "      <td>0.428082</td>\n",
              "      <td>1.885348e+05</td>\n",
              "      <td>-16124.937046</td>\n",
              "      <td>57775.825016</td>\n",
              "      <td>1.0</td>\n",
              "      <td>0.231818</td>\n",
              "      <td>0.300965</td>\n",
              "      <td>0.091675</td>\n",
              "      <td>2.208837</td>\n",
              "      <td>43.671326</td>\n",
              "      <td>170.500298</td>\n",
              "      <td>0.996364</td>\n",
              "    </tr>\n",
              "    <tr>\n",
              "      <th>std</th>\n",
              "      <td>4.180442e+04</td>\n",
              "      <td>14.082208</td>\n",
              "      <td>0.471234</td>\n",
              "      <td>0.488053</td>\n",
              "      <td>0.473858</td>\n",
              "      <td>0.745755</td>\n",
              "      <td>1.016225e+05</td>\n",
              "      <td>4104.304018</td>\n",
              "      <td>136471.735391</td>\n",
              "      <td>0.0</td>\n",
              "      <td>0.421993</td>\n",
              "      <td>0.458678</td>\n",
              "      <td>0.288567</td>\n",
              "      <td>0.907380</td>\n",
              "      <td>11.247138</td>\n",
              "      <td>368.181651</td>\n",
              "      <td>0.060192</td>\n",
              "    </tr>\n",
              "    <tr>\n",
              "      <th>min</th>\n",
              "      <td>5.008804e+06</td>\n",
              "      <td>0.000000</td>\n",
              "      <td>0.000000</td>\n",
              "      <td>0.000000</td>\n",
              "      <td>0.000000</td>\n",
              "      <td>0.000000</td>\n",
              "      <td>2.700000e+04</td>\n",
              "      <td>-25152.000000</td>\n",
              "      <td>-15713.000000</td>\n",
              "      <td>1.0</td>\n",
              "      <td>0.000000</td>\n",
              "      <td>0.000000</td>\n",
              "      <td>0.000000</td>\n",
              "      <td>1.000000</td>\n",
              "      <td>20.000000</td>\n",
              "      <td>0.000000</td>\n",
              "      <td>0.000000</td>\n",
              "    </tr>\n",
              "    <tr>\n",
              "      <th>25%</th>\n",
              "      <td>5.044568e+06</td>\n",
              "      <td>8.000000</td>\n",
              "      <td>0.000000</td>\n",
              "      <td>0.000000</td>\n",
              "      <td>0.000000</td>\n",
              "      <td>0.000000</td>\n",
              "      <td>1.215000e+05</td>\n",
              "      <td>-19453.000000</td>\n",
              "      <td>-3292.000000</td>\n",
              "      <td>1.0</td>\n",
              "      <td>0.000000</td>\n",
              "      <td>0.000000</td>\n",
              "      <td>0.000000</td>\n",
              "      <td>2.000000</td>\n",
              "      <td>34.000000</td>\n",
              "      <td>3.000000</td>\n",
              "      <td>1.000000</td>\n",
              "    </tr>\n",
              "    <tr>\n",
              "      <th>50%</th>\n",
              "      <td>5.069530e+06</td>\n",
              "      <td>17.000000</td>\n",
              "      <td>0.000000</td>\n",
              "      <td>0.000000</td>\n",
              "      <td>1.000000</td>\n",
              "      <td>0.000000</td>\n",
              "      <td>1.620000e+05</td>\n",
              "      <td>-15760.000000</td>\n",
              "      <td>-1682.000000</td>\n",
              "      <td>1.0</td>\n",
              "      <td>0.000000</td>\n",
              "      <td>0.000000</td>\n",
              "      <td>0.000000</td>\n",
              "      <td>2.000000</td>\n",
              "      <td>43.000000</td>\n",
              "      <td>7.000000</td>\n",
              "      <td>1.000000</td>\n",
              "    </tr>\n",
              "    <tr>\n",
              "      <th>75%</th>\n",
              "      <td>5.115551e+06</td>\n",
              "      <td>29.000000</td>\n",
              "      <td>1.000000</td>\n",
              "      <td>1.000000</td>\n",
              "      <td>1.000000</td>\n",
              "      <td>1.000000</td>\n",
              "      <td>2.250000e+05</td>\n",
              "      <td>-12716.000000</td>\n",
              "      <td>-431.000000</td>\n",
              "      <td>1.0</td>\n",
              "      <td>0.000000</td>\n",
              "      <td>1.000000</td>\n",
              "      <td>0.000000</td>\n",
              "      <td>3.000000</td>\n",
              "      <td>53.000000</td>\n",
              "      <td>15.000000</td>\n",
              "      <td>1.000000</td>\n",
              "    </tr>\n",
              "    <tr>\n",
              "      <th>max</th>\n",
              "      <td>5.150487e+06</td>\n",
              "      <td>60.000000</td>\n",
              "      <td>1.000000</td>\n",
              "      <td>1.000000</td>\n",
              "      <td>1.000000</td>\n",
              "      <td>19.000000</td>\n",
              "      <td>1.575000e+06</td>\n",
              "      <td>-7489.000000</td>\n",
              "      <td>365243.000000</td>\n",
              "      <td>1.0</td>\n",
              "      <td>1.000000</td>\n",
              "      <td>1.000000</td>\n",
              "      <td>1.000000</td>\n",
              "      <td>20.000000</td>\n",
              "      <td>68.000000</td>\n",
              "      <td>1000.000000</td>\n",
              "      <td>1.000000</td>\n",
              "    </tr>\n",
              "  </tbody>\n",
              "</table>\n",
              "</div>\n",
              "      <button class=\"colab-df-convert\" onclick=\"convertToInteractive('df-6f492d92-a74e-4ce0-be56-a5e92a69c12e')\"\n",
              "              title=\"Convert this dataframe to an interactive table.\"\n",
              "              style=\"display:none;\">\n",
              "        \n",
              "  <svg xmlns=\"http://www.w3.org/2000/svg\" height=\"24px\"viewBox=\"0 0 24 24\"\n",
              "       width=\"24px\">\n",
              "    <path d=\"M0 0h24v24H0V0z\" fill=\"none\"/>\n",
              "    <path d=\"M18.56 5.44l.94 2.06.94-2.06 2.06-.94-2.06-.94-.94-2.06-.94 2.06-2.06.94zm-11 1L8.5 8.5l.94-2.06 2.06-.94-2.06-.94L8.5 2.5l-.94 2.06-2.06.94zm10 10l.94 2.06.94-2.06 2.06-.94-2.06-.94-.94-2.06-.94 2.06-2.06.94z\"/><path d=\"M17.41 7.96l-1.37-1.37c-.4-.4-.92-.59-1.43-.59-.52 0-1.04.2-1.43.59L10.3 9.45l-7.72 7.72c-.78.78-.78 2.05 0 2.83L4 21.41c.39.39.9.59 1.41.59.51 0 1.02-.2 1.41-.59l7.78-7.78 2.81-2.81c.8-.78.8-2.07 0-2.86zM5.41 20L4 18.59l7.72-7.72 1.47 1.35L5.41 20z\"/>\n",
              "  </svg>\n",
              "      </button>\n",
              "      \n",
              "  <style>\n",
              "    .colab-df-container {\n",
              "      display:flex;\n",
              "      flex-wrap:wrap;\n",
              "      gap: 12px;\n",
              "    }\n",
              "\n",
              "    .colab-df-convert {\n",
              "      background-color: #E8F0FE;\n",
              "      border: none;\n",
              "      border-radius: 50%;\n",
              "      cursor: pointer;\n",
              "      display: none;\n",
              "      fill: #1967D2;\n",
              "      height: 32px;\n",
              "      padding: 0 0 0 0;\n",
              "      width: 32px;\n",
              "    }\n",
              "\n",
              "    .colab-df-convert:hover {\n",
              "      background-color: #E2EBFA;\n",
              "      box-shadow: 0px 1px 2px rgba(60, 64, 67, 0.3), 0px 1px 3px 1px rgba(60, 64, 67, 0.15);\n",
              "      fill: #174EA6;\n",
              "    }\n",
              "\n",
              "    [theme=dark] .colab-df-convert {\n",
              "      background-color: #3B4455;\n",
              "      fill: #D2E3FC;\n",
              "    }\n",
              "\n",
              "    [theme=dark] .colab-df-convert:hover {\n",
              "      background-color: #434B5C;\n",
              "      box-shadow: 0px 1px 3px 1px rgba(0, 0, 0, 0.15);\n",
              "      filter: drop-shadow(0px 1px 2px rgba(0, 0, 0, 0.3));\n",
              "      fill: #FFFFFF;\n",
              "    }\n",
              "  </style>\n",
              "\n",
              "      <script>\n",
              "        const buttonEl =\n",
              "          document.querySelector('#df-6f492d92-a74e-4ce0-be56-a5e92a69c12e button.colab-df-convert');\n",
              "        buttonEl.style.display =\n",
              "          google.colab.kernel.accessAllowed ? 'block' : 'none';\n",
              "\n",
              "        async function convertToInteractive(key) {\n",
              "          const element = document.querySelector('#df-6f492d92-a74e-4ce0-be56-a5e92a69c12e');\n",
              "          const dataTable =\n",
              "            await google.colab.kernel.invokeFunction('convertToInteractive',\n",
              "                                                     [key], {});\n",
              "          if (!dataTable) return;\n",
              "\n",
              "          const docLinkHtml = 'Like what you see? Visit the ' +\n",
              "            '<a target=\"_blank\" href=https://colab.research.google.com/notebooks/data_table.ipynb>data table notebook</a>'\n",
              "            + ' to learn more about interactive tables.';\n",
              "          element.innerHTML = '';\n",
              "          dataTable['output_type'] = 'display_data';\n",
              "          await google.colab.output.renderOutput(dataTable, element);\n",
              "          const docLink = document.createElement('div');\n",
              "          docLink.innerHTML = docLinkHtml;\n",
              "          element.appendChild(docLink);\n",
              "        }\n",
              "      </script>\n",
              "    </div>\n",
              "  </div>\n",
              "  "
            ],
            "text/plain": [
              "                 ID  MONTHS_BALANCE    CODE_GENDER   FLAG_OWN_CAR  \\\n",
              "count  7.777150e+05   777715.000000  777715.000000  777715.000000   \n",
              "mean   5.078743e+06       19.373564       0.332852       0.391352   \n",
              "std    4.180442e+04       14.082208       0.471234       0.488053   \n",
              "min    5.008804e+06        0.000000       0.000000       0.000000   \n",
              "25%    5.044568e+06        8.000000       0.000000       0.000000   \n",
              "50%    5.069530e+06       17.000000       0.000000       0.000000   \n",
              "75%    5.115551e+06       29.000000       1.000000       1.000000   \n",
              "max    5.150487e+06       60.000000       1.000000       1.000000   \n",
              "\n",
              "       FLAG_OWN_REALTY   CNT_CHILDREN  AMT_INCOME_TOTAL     DAYS_BIRTH  \\\n",
              "count    777715.000000  777715.000000      7.777150e+05  777715.000000   \n",
              "mean          0.659558       0.428082      1.885348e+05  -16124.937046   \n",
              "std           0.473858       0.745755      1.016225e+05    4104.304018   \n",
              "min           0.000000       0.000000      2.700000e+04  -25152.000000   \n",
              "25%           0.000000       0.000000      1.215000e+05  -19453.000000   \n",
              "50%           1.000000       0.000000      1.620000e+05  -15760.000000   \n",
              "75%           1.000000       1.000000      2.250000e+05  -12716.000000   \n",
              "max           1.000000      19.000000      1.575000e+06   -7489.000000   \n",
              "\n",
              "       DAYS_EMPLOYED  FLAG_MOBIL  FLAG_WORK_PHONE     FLAG_PHONE  \\\n",
              "count  777715.000000    777715.0    777715.000000  777715.000000   \n",
              "mean    57775.825016         1.0         0.231818       0.300965   \n",
              "std    136471.735391         0.0         0.421993       0.458678   \n",
              "min    -15713.000000         1.0         0.000000       0.000000   \n",
              "25%     -3292.000000         1.0         0.000000       0.000000   \n",
              "50%     -1682.000000         1.0         0.000000       0.000000   \n",
              "75%      -431.000000         1.0         0.000000       1.000000   \n",
              "max    365243.000000         1.0         1.000000       1.000000   \n",
              "\n",
              "          FLAG_EMAIL  CNT_FAM_MEMBERS            AGE  YEARS_EMPLOYED  \\\n",
              "count  777715.000000    777715.000000  777715.000000   777715.000000   \n",
              "mean        0.091675         2.208837      43.671326      170.500298   \n",
              "std         0.288567         0.907380      11.247138      368.181651   \n",
              "min         0.000000         1.000000      20.000000        0.000000   \n",
              "25%         0.000000         2.000000      34.000000        3.000000   \n",
              "50%         0.000000         2.000000      43.000000        7.000000   \n",
              "75%         0.000000         3.000000      53.000000       15.000000   \n",
              "max         1.000000        20.000000      68.000000     1000.000000   \n",
              "\n",
              "             APPROVE  \n",
              "count  777715.000000  \n",
              "mean        0.996364  \n",
              "std         0.060192  \n",
              "min         0.000000  \n",
              "25%         1.000000  \n",
              "50%         1.000000  \n",
              "75%         1.000000  \n",
              "max         1.000000  "
            ]
          },
          "execution_count": 67,
          "metadata": {},
          "output_type": "execute_result"
        }
      ],
      "source": [
        "df.describe()"
      ],
      "id": "0a8a9670"
    },
    {
      "cell_type": "markdown",
      "metadata": {
        "id": "eb806aa9"
      },
      "source": [
        "## EDA"
      ],
      "id": "eb806aa9"
    },
    {
      "cell_type": "code",
      "execution_count": null,
      "metadata": {
        "colab": {
          "base_uri": "https://localhost:8080/"
        },
        "id": "9794c313",
        "outputId": "e0f24cee-1f0d-43d2-c971-e7e02e143367"
      },
      "outputs": [
        {
          "data": {
            "text/plain": [
              "C    329536\n",
              "0    290654\n",
              "X    145950\n",
              "1      8747\n",
              "5      1527\n",
              "2       801\n",
              "3       286\n",
              "4       214\n",
              "Name: STATUS, dtype: int64"
            ]
          },
          "execution_count": 68,
          "metadata": {},
          "output_type": "execute_result"
        }
      ],
      "source": [
        "status_eda = df.STATUS.value_counts()\n",
        "status_eda"
      ],
      "id": "9794c313"
    },
    {
      "cell_type": "code",
      "execution_count": null,
      "metadata": {
        "colab": {
          "base_uri": "https://localhost:8080/",
          "height": 608
        },
        "id": "042af6c9",
        "outputId": "cee40f0a-5021-44ec-fdb7-bcd9bbd65050"
      },
      "outputs": [
        {
          "ename": "AttributeError",
          "evalue": "ignored",
          "output_type": "error",
          "traceback": [
            "\u001b[0;31m---------------------------------------------------------------------------\u001b[0m",
            "\u001b[0;31mAttributeError\u001b[0m                            Traceback (most recent call last)",
            "\u001b[0;32m<ipython-input-69-c32b97e96ccc>\u001b[0m in \u001b[0;36m<module>\u001b[0;34m\u001b[0m\n\u001b[1;32m      2\u001b[0m \u001b[0ma\u001b[0m\u001b[0;34m=\u001b[0m \u001b[0msns\u001b[0m\u001b[0;34m.\u001b[0m\u001b[0mcountplot\u001b[0m\u001b[0;34m(\u001b[0m\u001b[0mdf\u001b[0m\u001b[0;34m.\u001b[0m\u001b[0mSTATUS\u001b[0m\u001b[0;34m)\u001b[0m\u001b[0;34m\u001b[0m\u001b[0;34m\u001b[0m\u001b[0m\n\u001b[1;32m      3\u001b[0m \u001b[0;32mfor\u001b[0m \u001b[0mj\u001b[0m \u001b[0;32min\u001b[0m \u001b[0ma\u001b[0m\u001b[0;34m.\u001b[0m\u001b[0mcontainers\u001b[0m\u001b[0;34m:\u001b[0m\u001b[0;34m\u001b[0m\u001b[0;34m\u001b[0m\u001b[0m\n\u001b[0;32m----> 4\u001b[0;31m     \u001b[0ma\u001b[0m\u001b[0;34m.\u001b[0m\u001b[0mbar_label\u001b[0m\u001b[0;34m(\u001b[0m\u001b[0mj\u001b[0m\u001b[0;34m,\u001b[0m \u001b[0mlabel_type\u001b[0m\u001b[0;34m=\u001b[0m\u001b[0;34m'center'\u001b[0m\u001b[0;34m,\u001b[0m \u001b[0mfmt\u001b[0m\u001b[0;34m=\u001b[0m\u001b[0;34m'%.0f'\u001b[0m\u001b[0;34m)\u001b[0m\u001b[0;34m\u001b[0m\u001b[0;34m\u001b[0m\u001b[0m\n\u001b[0m\u001b[1;32m      5\u001b[0m \u001b[0mplt\u001b[0m\u001b[0;34m.\u001b[0m\u001b[0mtitle\u001b[0m\u001b[0;34m(\u001b[0m\u001b[0;34m\"Status Distribution\"\u001b[0m\u001b[0;34m)\u001b[0m\u001b[0;34m\u001b[0m\u001b[0;34m\u001b[0m\u001b[0m\n\u001b[1;32m      6\u001b[0m \u001b[0mplt\u001b[0m\u001b[0;34m.\u001b[0m\u001b[0mxlabel\u001b[0m\u001b[0;34m(\u001b[0m\u001b[0;34m\"Status\"\u001b[0m\u001b[0;34m)\u001b[0m\u001b[0;34m\u001b[0m\u001b[0;34m\u001b[0m\u001b[0m\n",
            "\u001b[0;31mAttributeError\u001b[0m: 'AxesSubplot' object has no attribute 'bar_label'"
          ]
        },
        {
          "data": {
            "image/png": "[encoded data removed]",
            "text/plain": [
              "<Figure size 1000x400 with 1 Axes>"
            ]
          },
          "metadata": {},
          "output_type": "display_data"
        }
      ],
      "source": [
        "plt.figure(figsize=(10,4), dpi=100)\n",
        "a= sns.countplot(df.STATUS)\n",
        "for j in a.containers:\n",
        "    a.bar_label(j, label_type='center', fmt='%.0f')\n",
        "plt.title(\"Status Distribution\")\n",
        "plt.xlabel(\"Status\")\n",
        "plt.ylabel(\"Jumlah\")\n",
        "plt.show()"
      ],
      "id": "042af6c9"
    },
    {
      "cell_type": "code",
      "execution_count": null,
      "metadata": {
        "id": "12fc48e6"
      },
      "outputs": [],
      "source": [
        "plt.figure(figsize=(5,5), dpi=100)\n",
        "plt.pie(status_eda, autopct='%1.1f%%')\n",
        "plt.title(\"Status Distribution\")\n",
        "plt.show()"
      ],
      "id": "12fc48e6"
    },
    {
      "cell_type": "code",
      "execution_count": null,
      "metadata": {
        "id": "66caaf6d"
      },
      "outputs": [],
      "source": [
        "plt.figure(figsize=(10,4), dpi=100)\n",
        "a = sns.histplot(data=df, x=df.MONTHS_BALANCE, bins=10)\n",
        "for j in a.containers:\n",
        "    a.bar_label(j, label_type='center')\n",
        "plt.title(\"Months Balance Distribution\")\n",
        "plt.xlabel(\"Month Balance\")\n",
        "plt.ylabel(\"Jumlah\")\n",
        "plt.show()"
      ],
      "id": "66caaf6d"
    },
    {
      "cell_type": "code",
      "execution_count": null,
      "metadata": {
        "id": "f7a834e5"
      },
      "outputs": [],
      "source": [
        "plt.figure(figsize=(5,4), dpi=100)\n",
        "a = sns.countplot(df.CODE_GENDER)\n",
        "for j in a.containers:\n",
        "    a.bar_label(j, label_type=\"center\")\n",
        "plt.title(\"Gender Distribution\")\n",
        "plt.xlabel(\"Gender\")\n",
        "plt.ylabel(\"Jumlah\")\n",
        "plt.show()"
      ],
      "id": "f7a834e5"
    },
    {
      "cell_type": "code",
      "execution_count": null,
      "metadata": {
        "id": "6a5996be"
      },
      "outputs": [],
      "source": [
        "plt.figure(figsize=(5,4), dpi=100)\n",
        "a = sns.countplot(df.FLAG_OWN_CAR)\n",
        "for j in a.containers:\n",
        "    a.bar_label(j, label_type = \"center\")\n",
        "plt.title(\"User's Car Distribution\")\n",
        "plt.xlabel(\"Own Car\")\n",
        "plt.ylabel(\"Jumlah\")\n",
        "plt.show()"
      ],
      "id": "6a5996be"
    },
    {
      "cell_type": "code",
      "execution_count": null,
      "metadata": {
        "id": "12ac9425"
      },
      "outputs": [],
      "source": [
        "plt.figure(figsize=(5,4), dpi=100)\n",
        "a = sns.countplot(df.FLAG_OWN_REALTY)\n",
        "for j in a.containers:\n",
        "    a.bar_label(j, label_type = \"center\")\n",
        "plt.title(\"User's Property Distribution\")\n",
        "plt.xlabel(\"Own Property\")\n",
        "plt.ylabel(\"Jumlah\")\n",
        "plt.show()"
      ],
      "id": "12ac9425"
    },
    {
      "cell_type": "code",
      "execution_count": null,
      "metadata": {
        "id": "56e93628"
      },
      "outputs": [],
      "source": [
        "df.CNT_CHILDREN.value_counts()"
      ],
      "id": "56e93628"
    },
    {
      "cell_type": "code",
      "execution_count": null,
      "metadata": {
        "id": "9472c8ef"
      },
      "outputs": [],
      "source": [
        "plt.figure(figsize=(10,4), dpi=100)\n",
        "a = sns.countplot(df.CNT_CHILDREN)\n",
        "for j in a.containers:\n",
        "    a.bar_label(j, label_type = \"center\")\n",
        "plt.title(\"User's Children Distribution\")\n",
        "plt.xlabel(\"Jumlah Anak\")\n",
        "plt.ylabel(\"Jumlah User\")\n",
        "plt.show()"
      ],
      "id": "9472c8ef"
    },
    {
      "cell_type": "code",
      "execution_count": null,
      "metadata": {
        "id": "1cd1b77b"
      },
      "outputs": [],
      "source": [
        "df.AMT_INCOME_TOTAL.describe()"
      ],
      "id": "1cd1b77b"
    },
    {
      "cell_type": "code",
      "execution_count": null,
      "metadata": {
        "id": "a2338198"
      },
      "outputs": [],
      "source": [
        "plt.figure(figsize=(10,4), dpi=100)\n",
        "# a = sns.histplot(data=df, x=\"AMT_INCOME_TOTAL\", bins= 10)\n",
        "# for j in a.containers:\n",
        "#     a.bar_label(j, label_type=\"center\")\n",
        "sns.kdeplot(data=df, x=\"AMT_INCOME_TOTAL\")\n",
        "plt.title(\"Income Distribution\")\n",
        "plt.xlabel(\"Income\")\n",
        "plt.ylabel(\"Jumlah\")\n",
        "plt.show()"
      ],
      "id": "a2338198"
    },
    {
      "cell_type": "code",
      "execution_count": null,
      "metadata": {
        "id": "663157dc"
      },
      "outputs": [],
      "source": [
        "df.NAME_INCOME_TYPE.value_counts()"
      ],
      "id": "663157dc"
    },
    {
      "cell_type": "code",
      "execution_count": null,
      "metadata": {
        "id": "4d7423c7"
      },
      "outputs": [],
      "source": [
        "plt.figure(figsize=(10,4), dpi=100)\n",
        "a = sns.countplot(df.NAME_INCOME_TYPE)\n",
        "for j in a.containers:\n",
        "    a.bar_label(j, label_type=\"center\")\n",
        "plt.title(\"Sumber Penghasilan\")\n",
        "plt.xlabel(\"Sumber Penghasilan\")\n",
        "plt.ylabel(\"Jumlah\")\n",
        "plt.show()"
      ],
      "id": "4d7423c7"
    },
    {
      "cell_type": "code",
      "execution_count": null,
      "metadata": {
        "id": "6f493ab6"
      },
      "outputs": [],
      "source": [
        "df.NAME_EDUCATION_TYPE.value_counts()"
      ],
      "id": "6f493ab6"
    },
    {
      "cell_type": "code",
      "execution_count": null,
      "metadata": {
        "id": "b20331e0"
      },
      "outputs": [],
      "source": [
        "plt.figure(figsize=(10,4), dpi=100)\n",
        "a = sns.countplot(df.NAME_EDUCATION_TYPE)\n",
        "for j in a.containers:\n",
        "    a.bar_label(j, label_type=\"center\")\n",
        "plt.xticks(rotation=45, ha=\"right\")\n",
        "plt.title(\"Education Distribution\")\n",
        "plt.xlabel(\"Pendidikan\")\n",
        "plt.ylabel(\"Jumlah\")\n",
        "plt.show()"
      ],
      "id": "b20331e0"
    },
    {
      "cell_type": "code",
      "execution_count": null,
      "metadata": {
        "id": "5e8f57dc"
      },
      "outputs": [],
      "source": [
        "plt.figure(figsize=(10,4), dpi=100)\n",
        "a = sns.countplot(df.NAME_FAMILY_STATUS)\n",
        "for j in a.containers:\n",
        "    a.bar_label(j, label_type=\"center\")\n",
        "plt.xticks(rotation=45, ha=\"right\")\n",
        "plt.title(\"Marital Status Distribution\")\n",
        "plt.xlabel(\"Status Pernikahan\")\n",
        "plt.ylabel(\"Jumlah\")\n",
        "plt.show()"
      ],
      "id": "5e8f57dc"
    },
    {
      "cell_type": "code",
      "execution_count": null,
      "metadata": {
        "id": "8ddd7ffe"
      },
      "outputs": [],
      "source": [
        "df.NAME_HOUSING_TYPE.value_counts()"
      ],
      "id": "8ddd7ffe"
    },
    {
      "cell_type": "code",
      "execution_count": null,
      "metadata": {
        "id": "ddbd7d02"
      },
      "outputs": [],
      "source": [
        "plt.figure(figsize=(10,4), dpi=100)\n",
        "a = sns.countplot(df.NAME_HOUSING_TYPE)\n",
        "for j in a.containers:\n",
        "    a.bar_label(j, label_type=\"center\")\n",
        "plt.xticks(rotation=45, ha=\"right\")\n",
        "plt.title(\"Housing Distribution\")\n",
        "plt.xlabel(\"Status Tempat Tinggal\")\n",
        "plt.ylabel(\"Jumlah\")\n",
        "plt.show()"
      ],
      "id": "ddbd7d02"
    },
    {
      "cell_type": "code",
      "execution_count": null,
      "metadata": {
        "id": "82d25f22"
      },
      "outputs": [],
      "source": [
        "plt.figure(figsize=(5,4), dpi=100)\n",
        "a = sns.countplot(df.FLAG_MOBIL)\n",
        "for j in a.containers:\n",
        "    a.bar_label(j, label_type=\"center\")\n",
        "plt.title(\"Mobile Phone Distribution\")\n",
        "plt.xlabel(\"Mobile Phone Status\")\n",
        "plt.ylabel(\"Jumlah\")\n",
        "plt.show()"
      ],
      "id": "82d25f22"
    },
    {
      "cell_type": "code",
      "execution_count": null,
      "metadata": {
        "id": "2d80d499"
      },
      "outputs": [],
      "source": [
        "plt.figure(figsize=(5,4), dpi=100)\n",
        "a = sns.countplot(df.FLAG_WORK_PHONE)\n",
        "for j in a.containers:\n",
        "    a.bar_label(j, label_type=\"center\")\n",
        "plt.title(\"Office Phone Distribution\")\n",
        "plt.xlabel(\"Office Phone Status\")\n",
        "plt.ylabel(\"Jumlah\")\n",
        "plt.show()"
      ],
      "id": "2d80d499"
    },
    {
      "cell_type": "code",
      "execution_count": null,
      "metadata": {
        "id": "c11efd5e"
      },
      "outputs": [],
      "source": [
        "plt.figure(figsize=(5,4), dpi=100)\n",
        "a = sns.countplot(df.FLAG_PHONE)\n",
        "for j in a.containers:\n",
        "    a.bar_label(j, label_type=\"center\")\n",
        "plt.title(\"Phone Distribution\")\n",
        "plt.xlabel(\"Phone Status\")\n",
        "plt.ylabel(\"Jumlah\")\n",
        "plt.show()"
      ],
      "id": "c11efd5e"
    },
    {
      "cell_type": "code",
      "execution_count": null,
      "metadata": {
        "id": "92cf655b"
      },
      "outputs": [],
      "source": [
        "plt.figure(figsize=(5,4), dpi=100)\n",
        "a = sns.countplot(df.FLAG_EMAIL)\n",
        "for j in a.containers:\n",
        "    a.bar_label(j, label_type=\"center\")\n",
        "plt.title(\"Email Distribution\")\n",
        "plt.xlabel(\"Email Status\")\n",
        "plt.ylabel(\"Jumlah\")\n",
        "plt.show()"
      ],
      "id": "92cf655b"
    },
    {
      "cell_type": "code",
      "execution_count": null,
      "metadata": {
        "id": "c9f0fbd9"
      },
      "outputs": [],
      "source": [
        "plt.figure(figsize=(10,4), dpi=100)\n",
        "a = sns.countplot(df.OCCUPATION_TYPE)\n",
        "for j in a.containers:\n",
        "    a.bar_label(j, label_type=\"center\")\n",
        "plt.title(\"Occupation Type Distribution\")\n",
        "plt.xticks(rotation=45, ha=\"right\")\n",
        "plt.xlabel(\"Occupation Type\")\n",
        "plt.ylabel(\"Jumlah\")\n",
        "plt.show()"
      ],
      "id": "c9f0fbd9"
    },
    {
      "cell_type": "code",
      "execution_count": null,
      "metadata": {
        "id": "21862ac7"
      },
      "outputs": [],
      "source": [
        "df.CNT_FAM_MEMBERS.value_counts().sort_values(ascending=False)"
      ],
      "id": "21862ac7"
    },
    {
      "cell_type": "code",
      "execution_count": null,
      "metadata": {
        "id": "00c1254c"
      },
      "outputs": [],
      "source": [
        "plt.figure(figsize=(10,4), dpi=100)\n",
        "sns.kdeplot(data=df, x=\"AGE\")\n",
        "plt.title(\"Age Distribution\")\n",
        "plt.xlabel(\"Age\")\n",
        "plt.ylabel(\"Density\")\n",
        "plt.show()"
      ],
      "id": "00c1254c"
    },
    {
      "cell_type": "code",
      "execution_count": null,
      "metadata": {
        "id": "110758db"
      },
      "outputs": [],
      "source": [
        "grouped = credit_record.groupby('ID')\n",
        "grouped.head()"
      ],
      "id": "110758db"
    },
    {
      "cell_type": "code",
      "execution_count": null,
      "metadata": {
        "id": "f93f912e"
      },
      "outputs": [],
      "source": [
        "### convert credit data to wide format which every ID is a row\n",
        "pivot_tb = credit_record.pivot(index = 'ID', columns = 'MONTHS_BALANCE', values = 'STATUS')\n",
        "pivot_tb['open_month'] = grouped['MONTHS_BALANCE'].min() # smallest value of MONTHS_BALANCE, is the month when loan was granted\n",
        "pivot_tb['end_month'] = grouped['MONTHS_BALANCE'].max() # biggest value of MONTHS_BALANCE, might be observe over or canceling account\n",
        "pivot_tb['ID'] = pivot_tb.index"
      ],
      "id": "f93f912e"
    },
    {
      "cell_type": "code",
      "execution_count": null,
      "metadata": {
        "id": "796b9495"
      },
      "outputs": [],
      "source": [
        "pivot_tb"
      ],
      "id": "796b9495"
    },
    {
      "cell_type": "code",
      "execution_count": null,
      "metadata": {
        "id": "0cde2cab"
      },
      "outputs": [],
      "source": [
        "pivot_tb = pivot_tb[['ID', 'open_month', 'end_month']]\n",
        "pivot_tb['window'] = pivot_tb['end_month'] - pivot_tb['open_month'] # calculate observe window\n",
        "pivot_tb.reset_index(drop = True, inplace = True)"
      ],
      "id": "0cde2cab"
    },
    {
      "cell_type": "code",
      "execution_count": null,
      "metadata": {
        "id": "1cd2c608"
      },
      "outputs": [],
      "source": [
        "pivot_tb"
      ],
      "id": "1cd2c608"
    },
    {
      "cell_type": "code",
      "execution_count": null,
      "metadata": {
        "id": "b346c6ad"
      },
      "outputs": [],
      "source": [
        "credit = pd.merge(credit_record, pivot_tb, on = 'ID', how = 'left')\n",
        "credit0 = credit.copy()\n",
        "credit"
      ],
      "id": "b346c6ad"
    },
    {
      "cell_type": "code",
      "execution_count": null,
      "metadata": {
        "id": "2967473b"
      },
      "outputs": [],
      "source": [
        "credit = credit[credit['window'] > 20] # delete users whose observe window less than 20\n",
        "credit['status'] = np.where((credit['STATUS'] == '2') | (credit['STATUS'] == '3' )| (credit['STATUS'] == '4' )| (credit['STATUS'] == '5'), 1, 0) # analyze > 60 days past due\n",
        "credit['status'] = credit['status'].astype(np.int8) # 1: overdue 0: not\n",
        "credit['month_on_book'] = credit['MONTHS_BALANCE'] - credit['open_month'] # calculate month on book: how many months after opening account\n",
        "credit.sort_values(by = ['ID','month_on_book'], inplace = True)"
      ],
      "id": "2967473b"
    },
    {
      "cell_type": "code",
      "execution_count": null,
      "metadata": {
        "id": "c2df00ab"
      },
      "outputs": [],
      "source": [
        "credit"
      ],
      "id": "c2df00ab"
    },
    {
      "cell_type": "code",
      "execution_count": null,
      "metadata": {
        "id": "590d2ab0"
      },
      "outputs": [],
      "source": [
        "##### denominator\n",
        "denominator = pivot_tb.groupby(['open_month']).agg({'ID': ['count']}) # count how many users in every month the account was opened\n",
        "denominator.reset_index(inplace = True)\n",
        "denominator.columns = ['open_month','sta_sum']\n",
        "denominator"
      ],
      "id": "590d2ab0"
    },
    {
      "cell_type": "code",
      "execution_count": null,
      "metadata": {
        "id": "e1471579"
      },
      "outputs": [],
      "source": [
        "#vintage table\n",
        "vintage = credit.groupby(['open_month','month_on_book']).agg({'ID': ['count']})\n",
        "vintage.reset_index(inplace = True)\n",
        "vintage.columns = ['open_month','month_on_book','sta_sum']\n",
        "vintage['due_count'] = np.nan\n",
        "vintage = vintage[['open_month','month_on_book','due_count']] # delete aggerate column\n",
        "vintage = pd.merge(vintage, denominator, on = ['open_month'], how = 'left') # join sta_sum colun to vintage table\n",
        "vintage"
      ],
      "id": "e1471579"
    },
    {
      "cell_type": "code",
      "execution_count": null,
      "metadata": {
        "id": "50cda794"
      },
      "outputs": [],
      "source": [
        "for j in range(-60,1): # outer loop: month in which account was opened\n",
        "    ls = []\n",
        "    for i in range(0,61): # inner loop time after the credit card was granted\n",
        "        due = list(credit[(credit['status'] == 1) & (credit['month_on_book'] == i) & (credit['open_month'] == j)]['ID']) # get ID which satisfy the condition\n",
        "        ls.extend(due) # As time goes, add bad customers\n",
        "        vintage.loc[(vintage['month_on_book'] == i) & (vintage['open_month'] == j), 'due_count'] = len(set(ls)) # calculate non-duplicate ID numbers using set()\n",
        "\n",
        "vintage['sta_rate']  = vintage['due_count'] / vintage['sta_sum'] # calculate cumulative % of bad customers\n",
        "vintage"
      ],
      "id": "50cda794"
    },
    {
      "cell_type": "code",
      "execution_count": null,
      "metadata": {
        "id": "5898d7d1"
      },
      "outputs": [],
      "source": [
        "### Vintage wide table\n",
        "vintage_wide = vintage.pivot(index = 'open_month',\n",
        "                             columns = 'month_on_book',\n",
        "                             values = 'sta_rate')\n",
        "vintage_wide"
      ],
      "id": "5898d7d1"
    },
    {
      "cell_type": "code",
      "execution_count": null,
      "metadata": {
        "id": "f7211eff"
      },
      "outputs": [],
      "source": [
        "# plot vintage line chart\n",
        "vintage0 = vintage_wide.replace(0,np.nan)\n",
        "lst = [i for i in range(0,61)]\n",
        "vintage_wide[lst].T.plot(figsize=(10,4))\n",
        "plt.title(\"Cumulative % of Bad Customers (> 60 Days Past Due)\")\n",
        "plt.xlabel('Months on Books')\n",
        "plt.ylabel('Cumulative % > 60 Days Past Due')\n",
        "plt.legend([])\n",
        "plt.show()"
      ],
      "id": "f7211eff"
    },
    {
      "cell_type": "code",
      "execution_count": null,
      "metadata": {
        "id": "d01cba82"
      },
      "outputs": [],
      "source": [
        "lst = []\n",
        "for i in range(0,61):\n",
        "    ratio = len(pivot_tb[pivot_tb['window'] < i]) / len(set(pivot_tb['ID']))\n",
        "    lst.append(ratio)\n",
        "\n",
        "pd.Series(lst).plot(figsize=(10,4))\n",
        "plt.title(\"Observe Window Analysis\")\n",
        "plt.xlabel('Observe Window')\n",
        "plt.ylabel('account ratio')\n",
        "plt.legend([])\n",
        "plt.show()"
      ],
      "id": "d01cba82"
    },
    {
      "cell_type": "code",
      "execution_count": null,
      "metadata": {
        "id": "f48835c3"
      },
      "outputs": [],
      "source": [
        "text = \" \".join(review for review in df.OCCUPATION_TYPE)\n",
        "word_cloud = WordCloud(stopwords = stopwords, background_color = 'white').generate(text)\n",
        "\n",
        "plt.figure(figsize = (12, 8), facecolor = None, dpi=200)\n",
        "plt.imshow(word_cloud)\n",
        "plt.axis(\"off\")\n",
        "plt.tight_layout(pad = 0)\n",
        "\n",
        "plt.show()"
      ],
      "id": "f48835c3"
    },
    {
      "cell_type": "markdown",
      "metadata": {
        "id": "1b3b1401"
      },
      "source": [
        "## Data Preprocessing"
      ],
      "id": "1b3b1401"
    },
    {
      "cell_type": "code",
      "execution_count": null,
      "metadata": {
        "colab": {
          "base_uri": "https://localhost:8080/"
        },
        "id": "f51ef477",
        "outputId": "d28d8b74-1e44-45d9-e1ac-60b054c3f5e6"
      },
      "outputs": [
        {
          "name": "stdout",
          "output_type": "stream",
          "text": [
            "<class 'pandas.core.frame.DataFrame'>\n",
            "Int64Index: 777715 entries, 0 to 777714\n",
            "Data columns (total 23 columns):\n",
            " #   Column               Non-Null Count   Dtype  \n",
            "---  ------               --------------   -----  \n",
            " 0   ID                   777715 non-null  int64  \n",
            " 1   MONTHS_BALANCE       777715 non-null  int64  \n",
            " 2   STATUS               777715 non-null  object \n",
            " 3   CODE_GENDER          777715 non-null  int64  \n",
            " 4   FLAG_OWN_CAR         777715 non-null  int64  \n",
            " 5   FLAG_OWN_REALTY      777715 non-null  int64  \n",
            " 6   CNT_CHILDREN         777715 non-null  int64  \n",
            " 7   AMT_INCOME_TOTAL     777715 non-null  float64\n",
            " 8   NAME_INCOME_TYPE     777715 non-null  object \n",
            " 9   NAME_EDUCATION_TYPE  777715 non-null  object \n",
            " 10  NAME_FAMILY_STATUS   777715 non-null  object \n",
            " 11  NAME_HOUSING_TYPE    777715 non-null  object \n",
            " 12  DAYS_BIRTH           777715 non-null  int64  \n",
            " 13  DAYS_EMPLOYED        777715 non-null  int64  \n",
            " 14  FLAG_MOBIL           777715 non-null  int64  \n",
            " 15  FLAG_WORK_PHONE      777715 non-null  int64  \n",
            " 16  FLAG_PHONE           777715 non-null  int64  \n",
            " 17  FLAG_EMAIL           777715 non-null  int64  \n",
            " 18  OCCUPATION_TYPE      777715 non-null  object \n",
            " 19  CNT_FAM_MEMBERS      777715 non-null  float64\n",
            " 20  AGE                  777715 non-null  float64\n",
            " 21  YEARS_EMPLOYED       777715 non-null  float64\n",
            " 22  APPROVE              777715 non-null  int64  \n",
            "dtypes: float64(4), int64(13), object(6)\n",
            "memory usage: 158.5+ MB\n"
          ]
        }
      ],
      "source": [
        "df.info()"
      ],
      "id": "f51ef477"
    },
    {
      "cell_type": "code",
      "execution_count": null,
      "metadata": {
        "id": "be75c851"
      },
      "outputs": [],
      "source": [
        "df0 = df.copy()"
      ],
      "id": "be75c851"
    },
    {
      "cell_type": "code",
      "execution_count": null,
      "metadata": {
        "colab": {
          "background_save": true
        },
        "id": "7aa8ae6a",
        "outputId": "81186697-3245-47c2-9885-a5c5b0ecc188"
      },
      "outputs": [
        {
          "data": {
            "text/html": [
              "\n",
              "  <div id=\"df-b1fc5875-9d69-4e68-8e4c-856567272bee\">\n",
              "    <div class=\"colab-df-container\">\n",
              "      <div>\n",
              "<style scoped>\n",
              "    .dataframe tbody tr th:only-of-type {\n",
              "        vertical-align: middle;\n",
              "    }\n",
              "\n",
              "    .dataframe tbody tr th {\n",
              "        vertical-align: top;\n",
              "    }\n",
              "\n",
              "    .dataframe thead th {\n",
              "        text-align: right;\n",
              "    }\n",
              "</style>\n",
              "<table border=\"1\" class=\"dataframe\">\n",
              "  <thead>\n",
              "    <tr style=\"text-align: right;\">\n",
              "      <th></th>\n",
              "      <th>feature</th>\n",
              "      <th>APPROVE</th>\n",
              "    </tr>\n",
              "  </thead>\n",
              "  <tbody>\n",
              "    <tr>\n",
              "      <th>0</th>\n",
              "      <td>APPROVE</td>\n",
              "      <td>1.000000</td>\n",
              "    </tr>\n",
              "    <tr>\n",
              "      <th>1</th>\n",
              "      <td>DAYS_BIRTH</td>\n",
              "      <td>0.005145</td>\n",
              "    </tr>\n",
              "    <tr>\n",
              "      <th>2</th>\n",
              "      <td>FLAG_EMAIL</td>\n",
              "      <td>0.003054</td>\n",
              "    </tr>\n",
              "    <tr>\n",
              "      <th>3</th>\n",
              "      <td>CNT_FAM_MEMBERS</td>\n",
              "      <td>0.001874</td>\n",
              "    </tr>\n",
              "    <tr>\n",
              "      <th>4</th>\n",
              "      <td>FLAG_OWN_REALTY</td>\n",
              "      <td>0.001228</td>\n",
              "    </tr>\n",
              "    <tr>\n",
              "      <th>5</th>\n",
              "      <td>CNT_CHILDREN</td>\n",
              "      <td>0.000705</td>\n",
              "    </tr>\n",
              "    <tr>\n",
              "      <th>6</th>\n",
              "      <td>FLAG_OWN_CAR</td>\n",
              "      <td>-0.000930</td>\n",
              "    </tr>\n",
              "    <tr>\n",
              "      <th>7</th>\n",
              "      <td>YEARS_EMPLOYED</td>\n",
              "      <td>-0.003170</td>\n",
              "    </tr>\n",
              "    <tr>\n",
              "      <th>8</th>\n",
              "      <td>AMT_INCOME_TOTAL</td>\n",
              "      <td>-0.003267</td>\n",
              "    </tr>\n",
              "    <tr>\n",
              "      <th>9</th>\n",
              "      <td>DAYS_EMPLOYED</td>\n",
              "      <td>-0.003697</td>\n",
              "    </tr>\n",
              "    <tr>\n",
              "      <th>10</th>\n",
              "      <td>MONTHS_BALANCE</td>\n",
              "      <td>-0.004405</td>\n",
              "    </tr>\n",
              "    <tr>\n",
              "      <th>11</th>\n",
              "      <td>AGE</td>\n",
              "      <td>-0.005234</td>\n",
              "    </tr>\n",
              "    <tr>\n",
              "      <th>12</th>\n",
              "      <td>FLAG_PHONE</td>\n",
              "      <td>-0.007213</td>\n",
              "    </tr>\n",
              "    <tr>\n",
              "      <th>13</th>\n",
              "      <td>FLAG_WORK_PHONE</td>\n",
              "      <td>-0.007412</td>\n",
              "    </tr>\n",
              "    <tr>\n",
              "      <th>14</th>\n",
              "      <td>ID</td>\n",
              "      <td>-0.010690</td>\n",
              "    </tr>\n",
              "    <tr>\n",
              "      <th>15</th>\n",
              "      <td>CODE_GENDER</td>\n",
              "      <td>-0.011863</td>\n",
              "    </tr>\n",
              "    <tr>\n",
              "      <th>16</th>\n",
              "      <td>FLAG_MOBIL</td>\n",
              "      <td>NaN</td>\n",
              "    </tr>\n",
              "  </tbody>\n",
              "</table>\n",
              "</div>\n",
              "      <button class=\"colab-df-convert\" onclick=\"convertToInteractive('df-b1fc5875-9d69-4e68-8e4c-856567272bee')\"\n",
              "              title=\"Convert this dataframe to an interactive table.\"\n",
              "              style=\"display:none;\">\n",
              "        \n",
              "  <svg xmlns=\"http://www.w3.org/2000/svg\" height=\"24px\"viewBox=\"0 0 24 24\"\n",
              "       width=\"24px\">\n",
              "    <path d=\"M0 0h24v24H0V0z\" fill=\"none\"/>\n",
              "    <path d=\"M18.56 5.44l.94 2.06.94-2.06 2.06-.94-2.06-.94-.94-2.06-.94 2.06-2.06.94zm-11 1L8.5 8.5l.94-2.06 2.06-.94-2.06-.94L8.5 2.5l-.94 2.06-2.06.94zm10 10l.94 2.06.94-2.06 2.06-.94-2.06-.94-.94-2.06-.94 2.06-2.06.94z\"/><path d=\"M17.41 7.96l-1.37-1.37c-.4-.4-.92-.59-1.43-.59-.52 0-1.04.2-1.43.59L10.3 9.45l-7.72 7.72c-.78.78-.78 2.05 0 2.83L4 21.41c.39.39.9.59 1.41.59.51 0 1.02-.2 1.41-.59l7.78-7.78 2.81-2.81c.8-.78.8-2.07 0-2.86zM5.41 20L4 18.59l7.72-7.72 1.47 1.35L5.41 20z\"/>\n",
              "  </svg>\n",
              "      </button>\n",
              "      \n",
              "  <style>\n",
              "    .colab-df-container {\n",
              "      display:flex;\n",
              "      flex-wrap:wrap;\n",
              "      gap: 12px;\n",
              "    }\n",
              "\n",
              "    .colab-df-convert {\n",
              "      background-color: #E8F0FE;\n",
              "      border: none;\n",
              "      border-radius: 50%;\n",
              "      cursor: pointer;\n",
              "      display: none;\n",
              "      fill: #1967D2;\n",
              "      height: 32px;\n",
              "      padding: 0 0 0 0;\n",
              "      width: 32px;\n",
              "    }\n",
              "\n",
              "    .colab-df-convert:hover {\n",
              "      background-color: #E2EBFA;\n",
              "      box-shadow: 0px 1px 2px rgba(60, 64, 67, 0.3), 0px 1px 3px 1px rgba(60, 64, 67, 0.15);\n",
              "      fill: #174EA6;\n",
              "    }\n",
              "\n",
              "    [theme=dark] .colab-df-convert {\n",
              "      background-color: #3B4455;\n",
              "      fill: #D2E3FC;\n",
              "    }\n",
              "\n",
              "    [theme=dark] .colab-df-convert:hover {\n",
              "      background-color: #434B5C;\n",
              "      box-shadow: 0px 1px 3px 1px rgba(0, 0, 0, 0.15);\n",
              "      filter: drop-shadow(0px 1px 2px rgba(0, 0, 0, 0.3));\n",
              "      fill: #FFFFFF;\n",
              "    }\n",
              "  </style>\n",
              "\n",
              "      <script>\n",
              "        const buttonEl =\n",
              "          document.querySelector('#df-b1fc5875-9d69-4e68-8e4c-856567272bee button.colab-df-convert');\n",
              "        buttonEl.style.display =\n",
              "          google.colab.kernel.accessAllowed ? 'block' : 'none';\n",
              "\n",
              "        async function convertToInteractive(key) {\n",
              "          const element = document.querySelector('#df-b1fc5875-9d69-4e68-8e4c-856567272bee');\n",
              "          const dataTable =\n",
              "            await google.colab.kernel.invokeFunction('convertToInteractive',\n",
              "                                                     [key], {});\n",
              "          if (!dataTable) return;\n",
              "\n",
              "          const docLinkHtml = 'Like what you see? Visit the ' +\n",
              "            '<a target=\"_blank\" href=https://colab.research.google.com/notebooks/data_table.ipynb>data table notebook</a>'\n",
              "            + ' to learn more about interactive tables.';\n",
              "          element.innerHTML = '';\n",
              "          dataTable['output_type'] = 'display_data';\n",
              "          await google.colab.output.renderOutput(dataTable, element);\n",
              "          const docLink = document.createElement('div');\n",
              "          docLink.innerHTML = docLinkHtml;\n",
              "          element.appendChild(docLink);\n",
              "        }\n",
              "      </script>\n",
              "    </div>\n",
              "  </div>\n",
              "  "
            ],
            "text/plain": [
              "             feature   APPROVE\n",
              "0            APPROVE  1.000000\n",
              "1         DAYS_BIRTH  0.005145\n",
              "2         FLAG_EMAIL  0.003054\n",
              "3    CNT_FAM_MEMBERS  0.001874\n",
              "4    FLAG_OWN_REALTY  0.001228\n",
              "5       CNT_CHILDREN  0.000705\n",
              "6       FLAG_OWN_CAR -0.000930\n",
              "7     YEARS_EMPLOYED -0.003170\n",
              "8   AMT_INCOME_TOTAL -0.003267\n",
              "9      DAYS_EMPLOYED -0.003697\n",
              "10    MONTHS_BALANCE -0.004405\n",
              "11               AGE -0.005234\n",
              "12        FLAG_PHONE -0.007213\n",
              "13   FLAG_WORK_PHONE -0.007412\n",
              "14                ID -0.010690\n",
              "15       CODE_GENDER -0.011863\n",
              "16        FLAG_MOBIL       NaN"
            ]
          },
          "execution_count": 72,
          "metadata": {},
          "output_type": "execute_result"
        }
      ],
      "source": [
        "# Cek Korelasi\n",
        "df_korelasi = df.corr()\n",
        "df_korelasi = df_korelasi['APPROVE'].sort_values(ascending=False)\n",
        "df_korelasi = pd.DataFrame(df_korelasi)\n",
        "df_korelasi = df_korelasi.reset_index()\n",
        "df_korelasi.columns = ['feature', 'APPROVE']\n",
        "df_korelasi.sort_values(by=\"APPROVE\", ascending=False)"
      ],
      "id": "7aa8ae6a"
    },
    {
      "cell_type": "code",
      "execution_count": null,
      "metadata": {
        "colab": {
          "background_save": true
        },
        "id": "3749ec66",
        "outputId": "d48cd263-fe8e-4077-e487-b0c5b11e5743"
      },
      "outputs": [
        {
          "data": {
            "image/png": "[encoded data removed]",
            "text/plain": [
              "<Figure size 2880x2160 with 2 Axes>"
            ]
          },
          "metadata": {},
          "output_type": "display_data"
        }
      ],
      "source": [
        "plt.figure(figsize=(40,30))\n",
        "sns.heatmap(df.corr(), annot=True, fmt='.2f', cmap='coolwarm')\n",
        "plt.show()"
      ],
      "id": "3749ec66"
    },
    {
      "cell_type": "code",
      "execution_count": null,
      "metadata": {
        "id": "f0ba6e6d"
      },
      "outputs": [],
      "source": [
        "df = df.drop(columns=[\"STATUS\", \"OCCUPATION_TYPE\", \"DAYS_BIRTH\", \"FLAG_MOBIL\", \"CNT_FAM_MEMBERS\", \"CNT_CHILDREN\", \"FLAG_OWN_CAR\", \"FLAG_OWN_REALTY\"])"
      ],
      "id": "f0ba6e6d"
    },
    {
      "cell_type": "markdown",
      "metadata": {
        "id": "40751354"
      },
      "source": [
        "### Outlier Detection"
      ],
      "id": "40751354"
    },
    {
      "cell_type": "code",
      "execution_count": null,
      "metadata": {
        "id": "96809a89"
      },
      "outputs": [],
      "source": [
        "cols = ['AMT_INCOME_TOTAL', 'DAYS_EMPLOYED','AGE']\n",
        "df[cols].boxplot(figsize=(30,15), fontsize=15)\n",
        "plt.title(\"Variabel Yang Akan Dijadikan Model\", fontsize=30)\n",
        "plt.show()"
      ],
      "id": "96809a89"
    },
    {
      "cell_type": "code",
      "execution_count": null,
      "metadata": {
        "id": "5a46213b"
      },
      "outputs": [],
      "source": [
        "# Cek Outlier dengan IQR\n",
        "def outlier_iqr(data):\n",
        "    outliers = []\n",
        "    q1 = data.quantile(0.25)\n",
        "    q3 = data.quantile(0.75)\n",
        "    iqr = q3 - q1\n",
        "    batas_bawah = q1 - 1.5 * iqr\n",
        "    batas_atas = q3 + 1.5 * iqr\n",
        "    return batas_bawah, batas_atas\n",
        "    for i in data:\n",
        "        if i < batas_bawah or i > batas_atas:\n",
        "            outliers.append(i)\n",
        "    return outliers\n",
        "data_outlier = {}\n",
        "for col in cols:\n",
        "    data_outlier[col] = outlier_iqr(df[col])\n",
        "    print('Outlier (',col,') : ',len(data_outlier[col]),' outlier',data_outlier[col])"
      ],
      "id": "5a46213b"
    },
    {
      "cell_type": "code",
      "execution_count": null,
      "metadata": {
        "id": "6ca3ba29"
      },
      "outputs": [],
      "source": [
        "# Handling (Monetary)\n",
        "q1 = df['AMT_INCOME_TOTAL'].quantile(0.25)\n",
        "q3 = df['AMT_INCOME_TOTAL'].quantile(0.75)\n",
        "iqr = q3 - q1\n",
        "batas_bawah = q1 - 1.5 * iqr\n",
        "batas_atas = q3 + 1.5 * iqr\n",
        "print('batas_bawah : ',batas_bawah)\n",
        "print('batas_atas : ',batas_atas)\n",
        "df['AMT_INCOME_TOTAL'] = np.where(df['AMT_INCOME_TOTAL'] > batas_atas, batas_atas, df['AMT_INCOME_TOTAL'])\n",
        "df['AMT_INCOME_TOTAL'] = np.where(df['AMT_INCOME_TOTAL'] < batas_bawah, batas_bawah, df['AMT_INCOME_TOTAL'])"
      ],
      "id": "6ca3ba29"
    },
    {
      "cell_type": "code",
      "execution_count": null,
      "metadata": {
        "id": "767362d3"
      },
      "outputs": [],
      "source": [
        "cols = ['AMT_INCOME_TOTAL', 'DAYS_EMPLOYED','AGE']\n",
        "df[cols].boxplot(figsize=(30,15), fontsize=15)\n",
        "plt.title(\"Variabel Yang Akan Dijadikan Model\", fontsize=30)\n",
        "plt.show()"
      ],
      "id": "767362d3"
    },
    {
      "cell_type": "code",
      "execution_count": null,
      "metadata": {
        "id": "f4e58153"
      },
      "outputs": [],
      "source": [
        "df.AMT_INCOME_TOTAL.describe()"
      ],
      "id": "f4e58153"
    },
    {
      "cell_type": "code",
      "execution_count": null,
      "metadata": {
        "id": "52825215"
      },
      "outputs": [],
      "source": [
        "df.shape"
      ],
      "id": "52825215"
    },
    {
      "cell_type": "markdown",
      "metadata": {
        "id": "8b815bc4"
      },
      "source": [
        "### Define X, y"
      ],
      "id": "8b815bc4"
    },
    {
      "cell_type": "code",
      "execution_count": null,
      "metadata": {
        "id": "0c5027c6"
      },
      "outputs": [],
      "source": [
        "input_cols = list(df.columns)[1:-1]\n",
        "target_col = 'APPROVE'"
      ],
      "id": "0c5027c6"
    },
    {
      "cell_type": "code",
      "execution_count": null,
      "metadata": {
        "id": "eef6e0aa"
      },
      "outputs": [],
      "source": [
        "input_cols"
      ],
      "id": "eef6e0aa"
    },
    {
      "cell_type": "code",
      "execution_count": null,
      "metadata": {
        "id": "0e0b083a"
      },
      "outputs": [],
      "source": [
        "target_col"
      ],
      "id": "0e0b083a"
    },
    {
      "cell_type": "code",
      "execution_count": null,
      "metadata": {
        "id": "2708a6f8"
      },
      "outputs": [],
      "source": [
        "numeric_cols = df[input_cols].select_dtypes(include=np.number).columns.tolist()\n",
        "categorical_cols = df[input_cols].select_dtypes('object').columns.tolist()"
      ],
      "id": "2708a6f8"
    },
    {
      "cell_type": "code",
      "execution_count": null,
      "metadata": {
        "id": "493464d3"
      },
      "outputs": [],
      "source": [
        "len(numeric_cols)"
      ],
      "id": "493464d3"
    },
    {
      "cell_type": "code",
      "execution_count": null,
      "metadata": {
        "id": "51632d6c"
      },
      "outputs": [],
      "source": [
        "len(categorical_cols)"
      ],
      "id": "51632d6c"
    },
    {
      "cell_type": "markdown",
      "metadata": {
        "id": "f4b5f081"
      },
      "source": [
        "### Standard Scaler"
      ],
      "id": "f4b5f081"
    },
    {
      "cell_type": "code",
      "execution_count": null,
      "metadata": {
        "id": "3b96a9dc"
      },
      "outputs": [],
      "source": [
        "from sklearn.preprocessing import StandardScaler"
      ],
      "id": "3b96a9dc"
    },
    {
      "cell_type": "code",
      "execution_count": null,
      "metadata": {
        "id": "888b23d6"
      },
      "outputs": [],
      "source": [
        "scaler = StandardScaler()"
      ],
      "id": "888b23d6"
    },
    {
      "cell_type": "code",
      "execution_count": null,
      "metadata": {
        "id": "57508adb"
      },
      "outputs": [],
      "source": [
        "scaler.fit(df[numeric_cols])"
      ],
      "id": "57508adb"
    },
    {
      "cell_type": "code",
      "execution_count": null,
      "metadata": {
        "id": "d4bff70b"
      },
      "outputs": [],
      "source": [
        "df[numeric_cols] = scaler.transform(df[numeric_cols])"
      ],
      "id": "d4bff70b"
    },
    {
      "cell_type": "code",
      "execution_count": null,
      "metadata": {
        "id": "8d1b7166"
      },
      "outputs": [],
      "source": [
        "df[numeric_cols].describe()"
      ],
      "id": "8d1b7166"
    },
    {
      "cell_type": "markdown",
      "metadata": {
        "id": "b0cabae9"
      },
      "source": [
        "### One Hot Encoding"
      ],
      "id": "b0cabae9"
    },
    {
      "cell_type": "code",
      "execution_count": null,
      "metadata": {
        "id": "66004705"
      },
      "outputs": [],
      "source": [
        "from sklearn.preprocessing import OneHotEncoder"
      ],
      "id": "66004705"
    },
    {
      "cell_type": "code",
      "execution_count": null,
      "metadata": {
        "id": "7c078086"
      },
      "outputs": [],
      "source": [
        "encoder = OneHotEncoder(sparse=False, handle_unknown='ignore')"
      ],
      "id": "7c078086"
    },
    {
      "cell_type": "code",
      "execution_count": null,
      "metadata": {
        "id": "6958d592"
      },
      "outputs": [],
      "source": [
        "encoder.fit(df[categorical_cols])"
      ],
      "id": "6958d592"
    },
    {
      "cell_type": "code",
      "execution_count": null,
      "metadata": {
        "id": "2a2c7330"
      },
      "outputs": [],
      "source": [
        "encoded_cols = list(encoder.get_feature_names(categorical_cols))"
      ],
      "id": "2a2c7330"
    },
    {
      "cell_type": "code",
      "execution_count": null,
      "metadata": {
        "id": "ff71d0ee"
      },
      "outputs": [],
      "source": [
        "df[encoded_cols] = encoder.transform(df[categorical_cols])"
      ],
      "id": "ff71d0ee"
    },
    {
      "cell_type": "code",
      "execution_count": null,
      "metadata": {
        "id": "9113c87e"
      },
      "outputs": [],
      "source": [
        "encoder.categories_"
      ],
      "id": "9113c87e"
    },
    {
      "cell_type": "markdown",
      "metadata": {
        "id": "332dae5f"
      },
      "source": [
        "## Handling Imbalance Data"
      ],
      "id": "332dae5f"
    },
    {
      "cell_type": "code",
      "execution_count": null,
      "metadata": {
        "id": "47303289"
      },
      "outputs": [],
      "source": [
        "X = df[numeric_cols + encoded_cols]\n",
        "X"
      ],
      "id": "47303289"
    },
    {
      "cell_type": "code",
      "execution_count": null,
      "metadata": {
        "id": "a5dc4297"
      },
      "outputs": [],
      "source": [
        "y = df[target_col]\n",
        "y"
      ],
      "id": "a5dc4297"
    },
    {
      "cell_type": "code",
      "execution_count": null,
      "metadata": {
        "id": "82c7eb9a"
      },
      "outputs": [],
      "source": [
        "y.value_counts()"
      ],
      "id": "82c7eb9a"
    },
    {
      "cell_type": "code",
      "execution_count": null,
      "metadata": {
        "id": "3d4ea68c"
      },
      "outputs": [],
      "source": [
        "plt.figure(figsize=(5,4), dpi=100)\n",
        "a = sns.countplot(y)\n",
        "for j in a.containers:\n",
        "    a.bar_label(j, label_type=\"edge\")\n",
        "plt.title(\"Distribusi Approval\")\n",
        "plt.xlabel(\"Label\")\n",
        "plt.ylabel(\"Jumlah\")\n",
        "plt.show()"
      ],
      "id": "3d4ea68c"
    },
    {
      "cell_type": "code",
      "execution_count": null,
      "metadata": {
        "id": "992198ed"
      },
      "outputs": [],
      "source": [
        "# Cek Imbalance Data\n",
        "#Over Sampling (SMOTE)\n",
        "from imblearn.over_sampling import SMOTE\n",
        "from collections import Counter\n",
        "\n",
        "X, y = SMOTE().fit_resample(X, y)\n",
        "print(sorted(Counter(y).items()))"
      ],
      "id": "992198ed"
    },
    {
      "cell_type": "code",
      "execution_count": null,
      "metadata": {
        "id": "df42d26c"
      },
      "outputs": [],
      "source": [
        "plt.figure(figsize=(10,4), dpi=100)\n",
        "a = sns.countplot(y)\n",
        "for j in a.containers:\n",
        "    a.bar_label(j, label_type=\"edge\")\n",
        "plt.title(\"Distribusi Approval Setelah Resample\")\n",
        "plt.xlabel(\"Label\")\n",
        "plt.ylabel(\"Jumlah\")\n",
        "plt.show()"
      ],
      "id": "df42d26c"
    },
    {
      "cell_type": "markdown",
      "metadata": {
        "id": "377c8fe8"
      },
      "source": [
        "## Modeling"
      ],
      "id": "377c8fe8"
    },
    {
      "cell_type": "code",
      "execution_count": null,
      "metadata": {
        "id": "40004688"
      },
      "outputs": [],
      "source": [
        "X.head()"
      ],
      "id": "40004688"
    },
    {
      "cell_type": "code",
      "execution_count": null,
      "metadata": {
        "id": "5deef9dd"
      },
      "outputs": [],
      "source": [
        "from sklearn.metrics import roc_auc_score, roc_curve, auc\n",
        "from sklearn.metrics import mean_squared_error\n",
        "from sklearn.metrics import f1_score\n",
        "from sklearn.metrics import precision_score\n",
        "from sklearn.metrics import accuracy_score\n",
        "from sklearn.metrics import recall_score\n",
        "from sklearn.metrics import confusion_matrix"
      ],
      "id": "5deef9dd"
    },
    {
      "cell_type": "code",
      "execution_count": null,
      "metadata": {
        "id": "7090eb58"
      },
      "outputs": [],
      "source": [
        "from sklearn.model_selection import train_test_split\n",
        "\n",
        "X_train, X_test, y_train, y_test = train_test_split(X, y, test_size=0.2, random_state=42)\n",
        "X_train, X_val, y_train, y_val = train_test_split(X_train, y_train, test_size = 0.2, random_state = 42)"
      ],
      "id": "7090eb58"
    },
    {
      "cell_type": "code",
      "execution_count": null,
      "metadata": {
        "id": "fe585bff"
      },
      "outputs": [],
      "source": [
        "# Jumlah data keseluruhan\n",
        "print('Jumlah data Predictor (X)  :', X.shape)\n",
        "print('Jumlah data Target (y)     :', y.shape)\n",
        "print('==========================================')\n",
        "# Jumlah Data Train\n",
        "print('Jumlah data Train (X)      :', X_train.shape)\n",
        "print('Jumlah data Train (y)      :', y_train.shape)\n",
        "print('===========================================')\n",
        "# Jumlah Data Test\n",
        "print('Jumlah data Test (X)       :', X_test.shape)\n",
        "print('Jumlah data Test (y)       :', y_test.shape)\n",
        "print('===========================================')\n",
        "# Jumlah Data Validation\n",
        "print('Jumlah data Validation (X) :', X_val.shape)\n",
        "print('Jumlah data Validation (y) :', y_val.shape)"
      ],
      "id": "fe585bff"
    },
    {
      "cell_type": "markdown",
      "metadata": {
        "id": "5522bf55"
      },
      "source": [
        "### Logictic Regression"
      ],
      "id": "5522bf55"
    },
    {
      "cell_type": "code",
      "execution_count": null,
      "metadata": {
        "id": "80a6dfab"
      },
      "outputs": [],
      "source": [
        "from sklearn.linear_model import LogisticRegression"
      ],
      "id": "80a6dfab"
    },
    {
      "cell_type": "code",
      "execution_count": null,
      "metadata": {
        "id": "df8ebfd1"
      },
      "outputs": [],
      "source": [
        "model = LogisticRegression(solver=\"liblinear\", random_state=42)"
      ],
      "id": "df8ebfd1"
    },
    {
      "cell_type": "code",
      "execution_count": null,
      "metadata": {
        "id": "4d5a4aa6"
      },
      "outputs": [],
      "source": [
        "model.fit(X_train, y_train)"
      ],
      "id": "4d5a4aa6"
    },
    {
      "cell_type": "code",
      "execution_count": null,
      "metadata": {
        "id": "1a744c34"
      },
      "outputs": [],
      "source": [
        "preds = model.predict(X_test)"
      ],
      "id": "1a744c34"
    },
    {
      "cell_type": "code",
      "execution_count": null,
      "metadata": {
        "id": "aaa27a3d"
      },
      "outputs": [],
      "source": [
        "preds"
      ],
      "id": "aaa27a3d"
    },
    {
      "cell_type": "code",
      "execution_count": null,
      "metadata": {
        "id": "d2c5bc7e"
      },
      "outputs": [],
      "source": [
        "accuracy_score(preds, y_test)"
      ],
      "id": "d2c5bc7e"
    },
    {
      "cell_type": "code",
      "execution_count": null,
      "metadata": {
        "id": "f248facb"
      },
      "outputs": [],
      "source": [
        "confusion_matrix(preds, y_test, normalize='true')"
      ],
      "id": "f248facb"
    },
    {
      "cell_type": "code",
      "execution_count": null,
      "metadata": {
        "id": "15563089"
      },
      "outputs": [],
      "source": [
        "def predict_and_plot(inputs, targets, name=''):\n",
        "    preds = model.predict(inputs)\n",
        "\n",
        "    accuracy = accuracy_score(targets, preds)\n",
        "    print(\"Accuracy : {:.2f}%\".format(accuracy * 100))\n",
        "    print('Precison : {:.2f}%'.format(precision_score(targets, preds) * 100))\n",
        "    print('Recall   : {:.2f}%'.format(recall_score(targets, preds) * 100))\n",
        "\n",
        "    cf = confusion_matrix(targets, preds, normalize='true')\n",
        "    plt.figure()\n",
        "    sns.heatmap(cf, annot=True)\n",
        "    plt.xlabel('Prediction')\n",
        "    plt.ylabel('Target')\n",
        "    plt.title('{} Confusion Matrix'.format(name));\n",
        "\n",
        "    return preds"
      ],
      "id": "15563089"
    },
    {
      "cell_type": "code",
      "execution_count": null,
      "metadata": {
        "id": "fb31a91b"
      },
      "outputs": [],
      "source": [
        "train_preds = predict_and_plot(X_train, y_train, 'Training')"
      ],
      "id": "fb31a91b"
    },
    {
      "cell_type": "code",
      "execution_count": null,
      "metadata": {
        "id": "ded8ba4f"
      },
      "outputs": [],
      "source": [
        "val_preds = predict_and_plot(X_val, y_val, 'Validation')"
      ],
      "id": "ded8ba4f"
    },
    {
      "cell_type": "code",
      "execution_count": null,
      "metadata": {
        "id": "bf42f3c8"
      },
      "outputs": [],
      "source": [
        "test_preds = predict_and_plot(X_test, y_test, 'Test')"
      ],
      "id": "bf42f3c8"
    },
    {
      "cell_type": "code",
      "execution_count": null,
      "metadata": {
        "id": "092c0672"
      },
      "outputs": [],
      "source": [
        "# Classification Report\n",
        "from sklearn.metrics import classification_report\n",
        "print(classification_report(y_test, test_preds))"
      ],
      "id": "092c0672"
    },
    {
      "cell_type": "code",
      "execution_count": null,
      "metadata": {
        "id": "cdefef4a"
      },
      "outputs": [],
      "source": [
        "# MAE\n",
        "from sklearn.metrics import mean_absolute_error\n",
        "print('MAE Logistic Regresi',mean_absolute_error(y_test, test_preds))"
      ],
      "id": "cdefef4a"
    },
    {
      "cell_type": "markdown",
      "metadata": {
        "id": "6fce6a90"
      },
      "source": [
        "#### Basic Validation"
      ],
      "id": "6fce6a90"
    },
    {
      "cell_type": "code",
      "execution_count": null,
      "metadata": {
        "id": "2fabbd3b"
      },
      "outputs": [],
      "source": [
        "# ROC AUC\n",
        "from sklearn.metrics import roc_auc_score, roc_curve, auc\n",
        "print('ROC AUC Logistic Regresi',roc_auc_score(y_test, preds))"
      ],
      "id": "2fabbd3b"
    },
    {
      "cell_type": "code",
      "execution_count": null,
      "metadata": {
        "id": "69c76895"
      },
      "outputs": [],
      "source": [
        "def roc_curve_func(y_test, y_pred, nama=''):\n",
        "  # Compute fpr, tpr, thresholds and roc auc\n",
        "  fpr, tpr, thresholds = roc_curve(y_test, y_pred)\n",
        "  roc_auc = roc_auc_score(y_test, y_pred)\n",
        "\n",
        "  # Plot ROC curve\n",
        "  plt.plot(fpr, tpr, label='ROC curve (area = %0.3f)' % roc_auc)\n",
        "  plt.plot([0, 1], [0, 1], 'k--')  # random predictions curve\n",
        "  plt.xlim([0.0, 1.0])\n",
        "  plt.ylim([0.0, 1.0])\n",
        "  plt.xlabel('False Positive Rate or (1 - Specifity)')\n",
        "  plt.ylabel('True Positive Rate or (Sensitivity)')\n",
        "  #plt.title('Receiver Operating Characteristic')\n",
        "  plt.title('ROC Curve {}'.format(nama))\n",
        "  plt.legend(loc=\"lower right\")"
      ],
      "id": "69c76895"
    },
    {
      "cell_type": "code",
      "execution_count": null,
      "metadata": {
        "id": "6e347a80"
      },
      "outputs": [],
      "source": [
        "y_train_pred_proba=model.predict_proba(X_train)[:,1]"
      ],
      "id": "6e347a80"
    },
    {
      "cell_type": "code",
      "execution_count": null,
      "metadata": {
        "id": "be26bd83"
      },
      "outputs": [],
      "source": [
        "roc_curve_func(y_train,y_train_pred_proba,'Training')"
      ],
      "id": "be26bd83"
    },
    {
      "cell_type": "code",
      "execution_count": null,
      "metadata": {
        "id": "cecd6e1f"
      },
      "outputs": [],
      "source": [
        "roc_curve_func(y_test,test_preds,'Test')"
      ],
      "id": "cecd6e1f"
    },
    {
      "cell_type": "code",
      "execution_count": null,
      "metadata": {
        "id": "10adbacf"
      },
      "outputs": [],
      "source": [
        "# Plot Precision Recall\n",
        "from sklearn.metrics import precision_recall_curve\n",
        "from sklearn.metrics import plot_precision_recall_curve\n",
        "from sklearn.metrics import average_precision_score\n",
        "disp = plot_precision_recall_curve(model, X_test, y_test)\n",
        "disp.ax_.set_title('2-class Precision-Recall curve: '\n",
        "                     'AP={0:0.2f}'.format(average_precision_score(y_test, test_preds)))"
      ],
      "id": "10adbacf"
    },
    {
      "cell_type": "markdown",
      "metadata": {
        "id": "fe4d45ba"
      },
      "source": [
        "### Decision Tree"
      ],
      "id": "fe4d45ba"
    },
    {
      "cell_type": "code",
      "execution_count": null,
      "metadata": {
        "colab": {
          "background_save": true
        },
        "id": "2f36d0a3"
      },
      "outputs": [],
      "source": [
        "from sklearn.tree import DecisionTreeClassifier"
      ],
      "id": "2f36d0a3"
    },
    {
      "cell_type": "code",
      "execution_count": null,
      "metadata": {
        "colab": {
          "background_save": true
        },
        "id": "86b41896"
      },
      "outputs": [],
      "source": [
        "model_dt = DecisionTreeClassifier(criterion='entropy', random_state = 42)"
      ],
      "id": "86b41896"
    },
    {
      "cell_type": "code",
      "execution_count": null,
      "metadata": {
        "id": "ce224d24"
      },
      "outputs": [],
      "source": [
        "model_dt.fit(X_train, y_train)"
      ],
      "id": "ce224d24"
    },
    {
      "cell_type": "code",
      "execution_count": null,
      "metadata": {
        "id": "675244c3"
      },
      "outputs": [],
      "source": [
        "dt_mod = model_dt.predict(X_test)\n",
        "dt_mod"
      ],
      "id": "675244c3"
    },
    {
      "cell_type": "code",
      "execution_count": null,
      "metadata": {
        "id": "ad09e5d2"
      },
      "outputs": [],
      "source": [
        "def dt_model(inputs, targets, name=\"\"):\n",
        "    pred_dt = model_dt.predict(inputs)\n",
        "    accuracy_dt = accuracy_score(targets, pred_dt)\n",
        "    print(\"Accuracy : {:.2f}%\".format(accuracy_dt * 100))\n",
        "    print('Precison : {:.2f}%'.format(precision_score(targets, pred_dt) * 100))\n",
        "    print('Recall   : {:.2f}%'.format(recall_score(targets, pred_dt) * 100))\n",
        "\n",
        "    cm = confusion_matrix(targets, pred_dt, normalize='true')\n",
        "    plt.figure()\n",
        "    sns.heatmap(cm, annot=True, cmap='YlGn')\n",
        "    plt.xlabel('Prediction')\n",
        "    plt.ylabel('Target')\n",
        "    plt.title('{} Confusion Matrix'.format(name));\n",
        "    return pred_dt"
      ],
      "id": "ad09e5d2"
    },
    {
      "cell_type": "code",
      "execution_count": null,
      "metadata": {
        "id": "efec6433"
      },
      "outputs": [],
      "source": [
        "# Train Decision Tree\n",
        "train_dt = dt_model(X_train, y_train, 'Training')"
      ],
      "id": "efec6433"
    },
    {
      "cell_type": "code",
      "execution_count": null,
      "metadata": {
        "id": "1a6598e3"
      },
      "outputs": [],
      "source": [
        "# Prediksi Decision Tree\n",
        "dt_pred = dt_model(X_test, y_test, 'Test')"
      ],
      "id": "1a6598e3"
    },
    {
      "cell_type": "code",
      "execution_count": null,
      "metadata": {
        "id": "d11f155d"
      },
      "outputs": [],
      "source": [
        "# Validation\n",
        "val_dt = dt_model(X_val, y_val, 'Validation')"
      ],
      "id": "d11f155d"
    },
    {
      "cell_type": "code",
      "execution_count": null,
      "metadata": {
        "id": "bfec71d6"
      },
      "outputs": [],
      "source": [
        "# Classification Report\n",
        "from sklearn.metrics import classification_report\n",
        "print(classification_report(y_test, dt_pred))"
      ],
      "id": "bfec71d6"
    },
    {
      "cell_type": "code",
      "execution_count": null,
      "metadata": {
        "id": "f0d3b9bc"
      },
      "outputs": [],
      "source": [
        "# MAE\n",
        "from sklearn.metrics import mean_absolute_error\n",
        "print('MAE Decision Tree',mean_absolute_error(y_test, dt_pred))"
      ],
      "id": "f0d3b9bc"
    },
    {
      "cell_type": "code",
      "execution_count": null,
      "metadata": {
        "id": "5fe34b07"
      },
      "outputs": [],
      "source": [
        "def roc_curve_dt(y_test, y_pred, nama=''):\n",
        "    # Compute fpr, tpr, thresholds and roc auc\n",
        "    fpr, tpr, thresholds = roc_curve(y_test, y_pred)\n",
        "    roc_auc = roc_auc_score(y_test, y_pred)\n",
        "\n",
        "    # Plot ROC curve\n",
        "    plt.plot(fpr, tpr, label='ROC curve (area = %0.3f)' % roc_auc)\n",
        "    plt.plot([0, 1], [0, 1], 'k--')  # random predictions curve\n",
        "    plt.xlim([0.0, 1.0])\n",
        "    plt.ylim([0.0, 1.0])\n",
        "    plt.xlabel('False Positive Rate or (1 - Specifity)')\n",
        "    plt.ylabel('True Positive Rate or (Sensitivity)')\n",
        "    #plt.title('Receiver Operating Characteristic')\n",
        "    plt.title('ROC Curve {}'.format(nama))\n",
        "    plt.legend(loc=\"lower right\")"
      ],
      "id": "5fe34b07"
    },
    {
      "cell_type": "code",
      "execution_count": null,
      "metadata": {
        "id": "5bf7b8f9"
      },
      "outputs": [],
      "source": [
        "roc_curve_dt(y_train,train_dt,'Training')"
      ],
      "id": "5bf7b8f9"
    },
    {
      "cell_type": "code",
      "execution_count": null,
      "metadata": {
        "id": "6c62a447"
      },
      "outputs": [],
      "source": [
        "roc_curve_dt(y_test, dt_pred,'Test')"
      ],
      "id": "6c62a447"
    },
    {
      "cell_type": "code",
      "execution_count": null,
      "metadata": {
        "id": "b2f2ae7e"
      },
      "outputs": [],
      "source": [
        "# Plot Precision Recall\n",
        "from sklearn.metrics import precision_recall_curve\n",
        "from sklearn.metrics import plot_precision_recall_curve\n",
        "from sklearn.metrics import average_precision_score\n",
        "disp = plot_precision_recall_curve(model_dt, X_test, y_test)\n",
        "disp.ax_.set_title('2-class Precision-Recall curve: '\n",
        "                        'AP={0:0.2f}'.format(average_precision_score(y_test, dt_pred)))"
      ],
      "id": "b2f2ae7e"
    },
    {
      "cell_type": "code",
      "execution_count": null,
      "metadata": {
        "id": "a80a6bcd"
      },
      "outputs": [],
      "source": [
        "from sklearn.tree import plot_tree, export_text"
      ],
      "id": "a80a6bcd"
    },
    {
      "cell_type": "code",
      "execution_count": null,
      "metadata": {
        "id": "ea5a0d35"
      },
      "outputs": [],
      "source": [
        "plt.figure(figsize=(80,20))\n",
        "plot_tree(model_dt, feature_names=X_train.columns, max_depth=2, filled=True);"
      ],
      "id": "ea5a0d35"
    },
    {
      "cell_type": "code",
      "execution_count": null,
      "metadata": {
        "id": "1288c665"
      },
      "outputs": [],
      "source": [
        "# Akurasi\n",
        "print('Akurasi Decision Tree     : ',accuracy_score(y_test, dt_pred))\n",
        "# Precision\n",
        "print('Precision Decision Tree   : ',precision_score(y_test, dt_pred))\n",
        "# Recall\n",
        "print('Recall Decision Tree      : ',recall_score(y_test, dt_pred))\n",
        "# F1\n",
        "print('F1 Decision Tree          : ',f1_score(y_test, dt_pred))\n",
        "# MSE\n",
        "print('MSE Decision Tree         : ',mean_squared_error(y_test, dt_pred))\n",
        "# ROC AUC\n",
        "print('ROC AUC Decision Tree     : ',roc_auc_score(y_test, dt_pred))"
      ],
      "id": "1288c665"
    },
    {
      "cell_type": "markdown",
      "metadata": {
        "id": "6f72adc4"
      },
      "source": [
        "### Random Forest"
      ],
      "id": "6f72adc4"
    },
    {
      "cell_type": "code",
      "execution_count": null,
      "metadata": {
        "id": "5c5466fa"
      },
      "outputs": [],
      "source": [
        "# Random Forest\n",
        "from sklearn.ensemble import RandomForestClassifier\n",
        "model_rf = RandomForestClassifier(random_state = 42)\n",
        "model_rf.fit(X_train, y_train)"
      ],
      "id": "5c5466fa"
    },
    {
      "cell_type": "code",
      "execution_count": null,
      "metadata": {
        "id": "1cb139f2"
      },
      "outputs": [],
      "source": [
        "# Prediksi Random Forest\n",
        "rf_mod = model_rf.predict(X_test)\n",
        "rf_mod"
      ],
      "id": "1cb139f2"
    },
    {
      "cell_type": "code",
      "execution_count": null,
      "metadata": {
        "id": "75cf47b6"
      },
      "outputs": [],
      "source": [
        "def rf_model(inputs, targets, name=''):\n",
        "    pred_rf = model.predict(inputs)\n",
        "    accuracy_rf = accuracy_score(targets,pred_rf)\n",
        "    print(\"Accuracy : {:.2f}%\".format(accuracy_rf * 100))\n",
        "    print('Precison : {:.2f}%'.format(precision_score(targets, pred_rf) * 100))\n",
        "    print('Recall   : {:.2f}%'.format(recall_score(targets, pred_rf) * 100))\n",
        "\n",
        "    cm = confusion_matrix(targets, pred_rf, normalize='true')\n",
        "    plt.figure()\n",
        "    sns.heatmap(cm, annot=True, cmap='YlGn')\n",
        "    plt.xlabel('Prediction')\n",
        "    plt.ylabel('Target')\n",
        "    plt.title('{} Confusion Matrix'.format(name));\n",
        "    return pred_rf"
      ],
      "id": "75cf47b6"
    },
    {
      "cell_type": "code",
      "execution_count": null,
      "metadata": {
        "id": "1493805a"
      },
      "outputs": [],
      "source": [
        "# Training\n",
        "train_rf = rf_model(X_train, y_train, 'Training')"
      ],
      "id": "1493805a"
    },
    {
      "cell_type": "code",
      "execution_count": null,
      "metadata": {
        "id": "8ee9ddf8"
      },
      "outputs": [],
      "source": [
        "# Prediksi Random Forest\n",
        "pred_rf = rf_model(X_test, y_test, 'Test')"
      ],
      "id": "8ee9ddf8"
    },
    {
      "cell_type": "code",
      "execution_count": null,
      "metadata": {
        "id": "9c9d2fdb"
      },
      "outputs": [],
      "source": [
        "# Validation\n",
        "val_rf = rf_model(X_val, y_val, 'Validation')"
      ],
      "id": "9c9d2fdb"
    },
    {
      "cell_type": "code",
      "execution_count": null,
      "metadata": {
        "id": "b340ae5c"
      },
      "outputs": [],
      "source": [
        "# Classification Report\n",
        "from sklearn.metrics import classification_report\n",
        "print(classification_report(y_test, pred_rf))"
      ],
      "id": "b340ae5c"
    },
    {
      "cell_type": "code",
      "execution_count": null,
      "metadata": {
        "id": "e0a71dd4"
      },
      "outputs": [],
      "source": [
        "# MAE\n",
        "from sklearn.metrics import mean_absolute_error\n",
        "print('MAE Random Forest',mean_absolute_error(y_test, pred_rf))"
      ],
      "id": "e0a71dd4"
    },
    {
      "cell_type": "code",
      "execution_count": null,
      "metadata": {
        "id": "5390d90c"
      },
      "outputs": [],
      "source": [
        "def roc_curve_rf(y_test, y_pred, nama=''):\n",
        "    # Compute fpr, tpr, thresholds and roc auc\n",
        "    fpr, tpr, thresholds = roc_curve(y_test, y_pred)\n",
        "    roc_auc = roc_auc_score(y_test, y_pred)\n",
        "\n",
        "    # Plot ROC curve\n",
        "    plt.plot(fpr, tpr, label='ROC curve (area = %0.3f)' % roc_auc)\n",
        "    plt.plot([0, 1], [0, 1], 'k--')  # random predictions curve\n",
        "    plt.xlim([0.0, 1.0])\n",
        "    plt.ylim([0.0, 1.0])\n",
        "    plt.xlabel('False Positive Rate or (1 - Specifity)')\n",
        "    plt.ylabel('True Positive Rate or (Sensitivity)')\n",
        "    #plt.title('Receiver Operating Characteristic')\n",
        "    plt.title('ROC Curve {}'.format(nama))\n",
        "    plt.legend(loc=\"lower right\")"
      ],
      "id": "5390d90c"
    },
    {
      "cell_type": "code",
      "execution_count": null,
      "metadata": {
        "id": "e36cd858"
      },
      "outputs": [],
      "source": [
        "roc_curve_rf(y_train,train_rf,'Training')"
      ],
      "id": "e36cd858"
    },
    {
      "cell_type": "code",
      "execution_count": null,
      "metadata": {
        "id": "d5bf710e"
      },
      "outputs": [],
      "source": [
        "roc_curve_rf(y_test,pred_rf,'Test')"
      ],
      "id": "d5bf710e"
    },
    {
      "cell_type": "code",
      "execution_count": null,
      "metadata": {
        "id": "abc5c085"
      },
      "outputs": [],
      "source": [
        "# Plot Precision Recall\n",
        "from sklearn.metrics import precision_recall_curve\n",
        "from sklearn.metrics import plot_precision_recall_curve\n",
        "from sklearn.metrics import average_precision_score\n",
        "disp = plot_precision_recall_curve(model_rf, X_test, y_test)\n",
        "disp.ax_.set_title('2-class Precision-Recall curve: '\n",
        "                        'AP={0:0.2f}'.format(average_precision_score(y_test, pred_rf)))"
      ],
      "id": "abc5c085"
    },
    {
      "cell_type": "code",
      "execution_count": null,
      "metadata": {
        "id": "1fefdf22"
      },
      "outputs": [],
      "source": [
        "# Graph Model\n",
        "from sklearn import tree\n",
        "plt.figure(figsize=(30,25), dpi=100)\n",
        "tree.plot_tree(model_rf.estimators_[0], filled=True, rounded=True, class_names=['0', '1'], feature_names=X.columns, fontsize=14, max_depth=5, impurity=False, proportion=True, precision=2, label='all')\n",
        "#tree.plot_tree(model_rf.estimators_[1], filled=True, rounded=True, class_names=['0', '1'], feature_names=X.columns, fontsize=14, max_depth=5, impurity=False)\n",
        "plt.show()"
      ],
      "id": "1fefdf22"
    },
    {
      "cell_type": "code",
      "execution_count": null,
      "metadata": {
        "id": "a0720e3f"
      },
      "outputs": [],
      "source": [
        "# Akurasi\n",
        "print('Akurasi Random Forest     : ',accuracy_score(y_test, pred_rf))\n",
        "# Precision\n",
        "print('Precision Random Forest   : ',precision_score(y_test, pred_rf))\n",
        "# Recall\n",
        "print('Recall Random Forest      : ',recall_score(y_test, pred_rf))\n",
        "# F1\n",
        "print('F1 Random Forest          : ',f1_score(y_test, pred_rf))\n",
        "# MSE\n",
        "print('MSE Random Forest         : ',mean_squared_error(y_test, pred_rf))\n",
        "# ROC AUC\n",
        "print('ROC AUC Random Forest     : ',roc_auc_score(y_test, pred_rf))"
      ],
      "id": "a0720e3f"
    },
    {
      "cell_type": "markdown",
      "metadata": {
        "id": "ad022417"
      },
      "source": [
        "### Naive Bayes"
      ],
      "id": "ad022417"
    },
    {
      "cell_type": "code",
      "execution_count": null,
      "metadata": {
        "id": "c60d1111"
      },
      "outputs": [],
      "source": [
        "#Naive Bayes\n",
        "from sklearn.naive_bayes import GaussianNB\n",
        "model_nb = GaussianNB()\n",
        "model_nb.fit(X_train, y_train)"
      ],
      "id": "c60d1111"
    },
    {
      "cell_type": "code",
      "execution_count": null,
      "metadata": {
        "id": "ce340d58"
      },
      "outputs": [],
      "source": [
        "nb_mod = model_nb.predict(X_test)\n",
        "nb_mod"
      ],
      "id": "ce340d58"
    },
    {
      "cell_type": "code",
      "execution_count": null,
      "metadata": {
        "id": "64f14dc7"
      },
      "outputs": [],
      "source": [
        "def nb_model(inputs, targets, name=''):\n",
        "    pred_nb = model_nb.predict(inputs)\n",
        "    accuracy_nb = accuracy_score(targets,pred_nb)\n",
        "    print(\"Accuracy : {:.2f}%\".format(accuracy_nb * 100))\n",
        "    print('Precison : {:.2f}%'.format(precision_score(targets, pred_nb) * 100))\n",
        "    print('Recall   : {:.2f}%'.format(recall_score(targets, pred_nb) * 100))\n",
        "\n",
        "    cm = confusion_matrix(targets, pred_nb, normalize='true')\n",
        "    plt.figure()\n",
        "    sns.heatmap(cm, annot=True, cmap='YlOrBr')\n",
        "    plt.xlabel('Prediction')\n",
        "    plt.ylabel('Target')\n",
        "    plt.title('{} Confusion Matrix'.format(name));\n",
        "    return pred_nb"
      ],
      "id": "64f14dc7"
    },
    {
      "cell_type": "code",
      "execution_count": null,
      "metadata": {
        "id": "6b9ed004"
      },
      "outputs": [],
      "source": [
        "# Train Naive Bayes\n",
        "train_nb = nb_model(X_train, y_train, 'Training')"
      ],
      "id": "6b9ed004"
    },
    {
      "cell_type": "code",
      "execution_count": null,
      "metadata": {
        "id": "297174a2"
      },
      "outputs": [],
      "source": [
        "# Prediksi Naive Bayes\n",
        "nb_pred = nb_model(X_test, y_test, 'Test')"
      ],
      "id": "297174a2"
    },
    {
      "cell_type": "code",
      "execution_count": null,
      "metadata": {
        "id": "6ce36ec4"
      },
      "outputs": [],
      "source": [
        "# Validation\n",
        "val_nb = nb_model(X_val, y_val, 'Validation')"
      ],
      "id": "6ce36ec4"
    },
    {
      "cell_type": "code",
      "execution_count": null,
      "metadata": {
        "id": "f55d6f30"
      },
      "outputs": [],
      "source": [
        "# Classification Report\n",
        "from sklearn.metrics import classification_report\n",
        "print(classification_report(y_test, nb_pred))"
      ],
      "id": "f55d6f30"
    },
    {
      "cell_type": "code",
      "execution_count": null,
      "metadata": {
        "id": "89b50ea7"
      },
      "outputs": [],
      "source": [
        "# MAE\n",
        "from sklearn.metrics import mean_absolute_error\n",
        "print('MAE Naive Bayes',mean_absolute_error(y_test, nb_pred))"
      ],
      "id": "89b50ea7"
    },
    {
      "cell_type": "code",
      "execution_count": null,
      "metadata": {
        "id": "1a1d579b"
      },
      "outputs": [],
      "source": [
        "def roc_curve_nb(y_test, y_pred, nama=''):\n",
        "    # Compute fpr, tpr, thresholds and roc auc\n",
        "    fpr, tpr, thresholds = roc_curve(y_test, y_pred)\n",
        "    roc_auc = roc_auc_score(y_test, y_pred)\n",
        "\n",
        "    # Plot ROC curve\n",
        "    plt.plot(fpr, tpr, label='ROC curve (area = %0.3f)' % roc_auc)\n",
        "    plt.plot([0, 1], [0, 1], 'k--')  # random predictions curve\n",
        "    plt.xlim([0.0, 1.0])\n",
        "    plt.ylim([0.0, 1.0])\n",
        "    plt.xlabel('False Positive Rate or (1 - Specifity)')\n",
        "    plt.ylabel('True Positive Rate or (Sensitivity)')\n",
        "    #plt.title('Receiver Operating Characteristic')\n",
        "    plt.title('ROC Curve {}'.format(nama))\n",
        "    plt.legend(loc=\"lower right\")"
      ],
      "id": "1a1d579b"
    },
    {
      "cell_type": "code",
      "execution_count": null,
      "metadata": {
        "id": "28903beb"
      },
      "outputs": [],
      "source": [
        "roc_curve_nb(y_train,train_nb,'Training')"
      ],
      "id": "28903beb"
    },
    {
      "cell_type": "code",
      "execution_count": null,
      "metadata": {
        "id": "f66573bb"
      },
      "outputs": [],
      "source": [
        "roc_curve_nb(y_test, nb_pred,'Test')"
      ],
      "id": "f66573bb"
    },
    {
      "cell_type": "code",
      "execution_count": null,
      "metadata": {
        "id": "d878f945"
      },
      "outputs": [],
      "source": [
        "# Plot Precision Recall\n",
        "from sklearn.metrics import precision_recall_curve\n",
        "from sklearn.metrics import plot_precision_recall_curve\n",
        "from sklearn.metrics import average_precision_score\n",
        "disp = plot_precision_recall_curve(model_nb, X_test, y_test)\n",
        "disp.ax_.set_title('2-class Precision-Recall curve: '\n",
        "                        'AP={0:0.2f}'.format(average_precision_score(y_test, nb_pred)))"
      ],
      "id": "d878f945"
    },
    {
      "cell_type": "code",
      "execution_count": null,
      "metadata": {
        "id": "c09b8152"
      },
      "outputs": [],
      "source": [
        "# Akurasi\n",
        "print('Akurasi Naive Bayes     : ',accuracy_score(y_test, nb_pred))\n",
        "# Precision\n",
        "print('Precision Naive Bayes   : ',precision_score(y_test, nb_pred))\n",
        "# Recall\n",
        "print('Recall Naive Bayes      : ',recall_score(y_test, nb_pred))\n",
        "# F1\n",
        "print('F1 Naive Bayes          : ',f1_score(y_test, nb_pred))\n",
        "# MSE\n",
        "print('MSE Naive Bayes         : ',mean_squared_error(y_test, nb_pred))\n",
        "# ROC AUC\n",
        "print('ROC AUC Naive Bayes     : ',roc_auc_score(y_test, nb_pred))"
      ],
      "id": "c09b8152"
    },
    {
      "cell_type": "markdown",
      "metadata": {
        "id": "50d38c1c"
      },
      "source": [
        "### XGBoost"
      ],
      "id": "50d38c1c"
    },
    {
      "cell_type": "code",
      "execution_count": null,
      "metadata": {
        "id": "78be21f3"
      },
      "outputs": [],
      "source": [
        "from xgboost import XGBClassifier"
      ],
      "id": "78be21f3"
    },
    {
      "cell_type": "code",
      "execution_count": null,
      "metadata": {
        "id": "58c72d1b"
      },
      "outputs": [],
      "source": [
        "model_xg = XGBClassifier(random_state=42, n_jobs=-1, n_estimators=20, max_depth=4)"
      ],
      "id": "58c72d1b"
    },
    {
      "cell_type": "code",
      "execution_count": null,
      "metadata": {
        "id": "9b0166bc"
      },
      "outputs": [],
      "source": [
        "model_xg.fit(X_train, y_train)"
      ],
      "id": "9b0166bc"
    },
    {
      "cell_type": "code",
      "execution_count": null,
      "metadata": {
        "id": "4c4fbbbf"
      },
      "outputs": [],
      "source": [
        "xg_preds = model_xg.predict(X_test)\n",
        "xg_preds"
      ],
      "id": "4c4fbbbf"
    },
    {
      "cell_type": "code",
      "execution_count": null,
      "metadata": {
        "id": "9ea4e44b"
      },
      "outputs": [],
      "source": [
        "def xg_model(inputs, targets, name=''):\n",
        "    xg_preds = model_xg.predict(inputs)\n",
        "    accuracy_xg = accuracy_score(targets, xg_preds)\n",
        "    print(\"Accuracy : {:.2f}%\".format(accuracy_xg * 100))\n",
        "    print('Precison : {:.2f}%'.format(precision_score(targets, xg_preds) * 100))\n",
        "    print('Recall   : {:.2f}%'.format(recall_score(targets, xg_preds) * 100))\n",
        "\n",
        "    cm = confusion_matrix(targets, xg_preds, normalize='true')\n",
        "    plt.figure()\n",
        "    sns.heatmap(cm, annot=True, cmap='YlOrBr')\n",
        "    plt.xlabel('Prediction')\n",
        "    plt.ylabel('Target')\n",
        "    plt.title('{} Confusion Matrix'.format(name));\n",
        "    return xg_preds"
      ],
      "id": "9ea4e44b"
    },
    {
      "cell_type": "code",
      "execution_count": null,
      "metadata": {
        "id": "62e3ef8a"
      },
      "outputs": [],
      "source": [
        "# Train\n",
        "xgb_train = xg_model(X_train, y_train, name='Train')"
      ],
      "id": "62e3ef8a"
    },
    {
      "cell_type": "code",
      "execution_count": null,
      "metadata": {
        "id": "453f4feb"
      },
      "outputs": [],
      "source": [
        "# Val\n",
        "xgb_val = xg_model(X_val, y_val, name='Validation')"
      ],
      "id": "453f4feb"
    },
    {
      "cell_type": "code",
      "execution_count": null,
      "metadata": {
        "id": "7fc0efa5"
      },
      "outputs": [],
      "source": [
        "# Test\n",
        "xgb_test = xg_model(X_test, y_test, name='Test')"
      ],
      "id": "7fc0efa5"
    },
    {
      "cell_type": "code",
      "execution_count": null,
      "metadata": {
        "id": "10ab5f7d"
      },
      "outputs": [],
      "source": [
        "# Classification Report\n",
        "from sklearn.metrics import classification_report\n",
        "print(classification_report(y_test, xg_preds))"
      ],
      "id": "10ab5f7d"
    },
    {
      "cell_type": "code",
      "execution_count": null,
      "metadata": {
        "id": "9ebfaf93"
      },
      "outputs": [],
      "source": [
        "# MAE\n",
        "from sklearn.metrics import mean_absolute_error\n",
        "print('MAE XGB',mean_absolute_error(y_test, xg_preds))"
      ],
      "id": "9ebfaf93"
    },
    {
      "cell_type": "code",
      "execution_count": null,
      "metadata": {
        "id": "6564e0a2"
      },
      "outputs": [],
      "source": [
        "def roc_auc_xgb(y_test, y_pred, nama=''):\n",
        "    # Compute fpr, tpr, thresholds and roc auc\n",
        "    fpr, tpr, thresholds = roc_curve(y_test, y_pred)\n",
        "    roc_auc = roc_auc_score(y_test, y_pred)\n",
        "\n",
        "    # Plot ROC curve\n",
        "    plt.plot(fpr, tpr, label='ROC curve (area = %0.3f)' % roc_auc)\n",
        "    plt.plot([0, 1], [0, 1], 'k--')  # random predictions curve\n",
        "    plt.xlim([0.0, 1.0])\n",
        "    plt.ylim([0.0, 1.0])\n",
        "    plt.xlabel('False Positive Rate or (1 - Specifity)')\n",
        "    plt.ylabel('True Positive Rate or (Sensitivity)')\n",
        "    #plt.title('Receiver Operating Characteristic')\n",
        "    plt.title('ROC Curve {}'.format(nama))\n",
        "    plt.legend(loc=\"lower right\")"
      ],
      "id": "6564e0a2"
    },
    {
      "cell_type": "code",
      "execution_count": null,
      "metadata": {
        "id": "d33f150a"
      },
      "outputs": [],
      "source": [
        "roc_auc_xgb(y_train, xgb_train, 'Training')"
      ],
      "id": "d33f150a"
    },
    {
      "cell_type": "code",
      "execution_count": null,
      "metadata": {
        "id": "5d88bf04"
      },
      "outputs": [],
      "source": [
        "roc_auc_xgb(y_test, xg_preds, 'Test')"
      ],
      "id": "5d88bf04"
    },
    {
      "cell_type": "code",
      "execution_count": null,
      "metadata": {
        "id": "8f686ed1"
      },
      "outputs": [],
      "source": [
        "# Plot Precision Recall\n",
        "from sklearn.metrics import precision_recall_curve\n",
        "from sklearn.metrics import plot_precision_recall_curve\n",
        "from sklearn.metrics import average_precision_score\n",
        "disp = plot_precision_recall_curve(model_xg, X_test, y_test)\n",
        "disp.ax_.set_title('2-class Precision-Recall curve: '\n",
        "                        'AP={0:0.2f}'.format(average_precision_score(y_test, xg_preds)))"
      ],
      "id": "8f686ed1"
    },
    {
      "cell_type": "code",
      "execution_count": null,
      "metadata": {
        "id": "9b6e7730"
      },
      "outputs": [],
      "source": [
        "# Akurasi\n",
        "print('Akurasi XGBoost     : ',accuracy_score(y_test, xg_preds))\n",
        "# Precision\n",
        "print('Precision XGBoost   : ',precision_score(y_test, xg_preds))\n",
        "# Recall\n",
        "print('Recall XGBoost      : ',recall_score(y_test, xg_preds))\n",
        "# F1\n",
        "print('F1 XGBoost          : ',f1_score(y_test, xg_preds))\n",
        "# MSE\n",
        "print('MSE XGBoost         : ',mean_squared_error(y_test, xg_preds))\n",
        "# ROC AUC\n",
        "print('ROC AUC XGBoost     : ',roc_auc_score(y_test, xg_preds))"
      ],
      "id": "9b6e7730"
    },
    {
      "cell_type": "markdown",
      "metadata": {
        "id": "409026a8"
      },
      "source": [
        "### SVM"
      ],
      "id": "409026a8"
    },
    {
      "cell_type": "code",
      "execution_count": null,
      "metadata": {
        "id": "e4037fbd"
      },
      "outputs": [],
      "source": [
        "# Library SVM\n",
        "#%%time\n",
        "from sklearn.svm import SVC\n",
        "model_svm = SVC(kernel='rbf', C=0.1, gamma=0.1)\n",
        "model_svm.fit(X_train, y_train)"
      ],
      "id": "e4037fbd"
    },
    {
      "cell_type": "code",
      "execution_count": null,
      "metadata": {
        "id": "69e8bcf7"
      },
      "outputs": [],
      "source": [
        "def svm_model(inputs, targets, name='' ):\n",
        "    pred_svm = model_svm.predict(inputs)\n",
        "    accuracy_svm = accuracy_score(targets, pred_svm)\n",
        "    print(\"Accuracy : {:.2f}%\".format(accuracy_svm * 100))\n",
        "    print('Precison : {:.2f}%'.format(precision_score(targets, pred_svm) * 100))\n",
        "    print('Recall   : {:.2f}%'.format(recall_score(targets, pred_svm) * 100))\n",
        "\n",
        "    cm = confusion_matrix(targets, pred_svm, normalize='true')\n",
        "    plt.figure()\n",
        "    sns.heatmap(cm, annot=True, cmap='Blues')\n",
        "    plt.xlabel('Prediction')\n",
        "    plt.ylabel('Target')\n",
        "    plt.title('{} Confusion Matrix'.format(name));\n",
        "    return pred_svm"
      ],
      "id": "69e8bcf7"
    },
    {
      "cell_type": "code",
      "execution_count": null,
      "metadata": {
        "id": "8acc1d9a"
      },
      "outputs": [],
      "source": [
        "# Training\n",
        "train_svm = svm_model(X_train, y_train, 'Training')"
      ],
      "id": "8acc1d9a"
    },
    {
      "cell_type": "code",
      "execution_count": null,
      "metadata": {
        "id": "85f327ba"
      },
      "outputs": [],
      "source": [
        "# Prediksi SVM\n",
        "pred_svm = svm_model(X_test, y_test, 'Test')"
      ],
      "id": "85f327ba"
    },
    {
      "cell_type": "code",
      "execution_count": null,
      "metadata": {
        "id": "cc13fbf1"
      },
      "outputs": [],
      "source": [
        "# Validation\n",
        "val_svm = svm_model(X_val, y_val, 'Validation')"
      ],
      "id": "cc13fbf1"
    },
    {
      "cell_type": "code",
      "execution_count": null,
      "metadata": {
        "id": "47f205c5"
      },
      "outputs": [],
      "source": [
        "# Classification Report\n",
        "from sklearn.metrics import classification_report\n",
        "print(classification_report(y_test, pred_svm))"
      ],
      "id": "47f205c5"
    },
    {
      "cell_type": "code",
      "execution_count": null,
      "metadata": {
        "id": "d5c53343"
      },
      "outputs": [],
      "source": [
        "# MAE\n",
        "from sklearn.metrics import mean_absolute_error\n",
        "print('MAE SVM',mean_absolute_error(y_test, pred_svm))"
      ],
      "id": "d5c53343"
    },
    {
      "cell_type": "code",
      "execution_count": null,
      "metadata": {
        "id": "f4c536b8"
      },
      "outputs": [],
      "source": [
        "def roc_curve_svm(y_test, y_pred, nama=''):\n",
        "  # Compute fpr, tpr, thresholds and roc auc\n",
        "  fpr, tpr, thresholds = roc_curve(y_test, y_pred)\n",
        "  roc_auc = roc_auc_score(y_test, y_pred)\n",
        "\n",
        "  # Plot ROC curve\n",
        "  plt.plot(fpr, tpr, label='ROC curve (area = %0.3f)' % roc_auc)\n",
        "  plt.plot([0, 1], [0, 1], 'k--')  # random predictions curve\n",
        "  plt.xlim([0.0, 1.0])\n",
        "  plt.ylim([0.0, 1.0])\n",
        "  plt.xlabel('False Positive Rate or (1 - Specifity)')\n",
        "  plt.ylabel('True Positive Rate or (Sensitivity)')\n",
        "  #plt.title('Receiver Operating Characteristic')\n",
        "  plt.title('ROC Curve {}'.format(nama))\n",
        "  plt.legend(loc=\"lower right\")"
      ],
      "id": "f4c536b8"
    },
    {
      "cell_type": "code",
      "execution_count": null,
      "metadata": {
        "id": "1161ac53"
      },
      "outputs": [],
      "source": [
        "roc_curve_svm(y_train,train_svm,'Training')"
      ],
      "id": "1161ac53"
    },
    {
      "cell_type": "code",
      "execution_count": null,
      "metadata": {
        "id": "c2c25daf"
      },
      "outputs": [],
      "source": [
        "roc_curve_svm(y_test,pred_svm,'Test')"
      ],
      "id": "c2c25daf"
    },
    {
      "cell_type": "code",
      "execution_count": null,
      "metadata": {
        "id": "4732da95"
      },
      "outputs": [],
      "source": [
        "# Plot Precision Recall\n",
        "from sklearn.metrics import precision_recall_curve\n",
        "from sklearn.metrics import plot_precision_recall_curve\n",
        "from sklearn.metrics import average_precision_score\n",
        "disp = plot_precision_recall_curve(model_svm, X_test, y_test)\n",
        "disp.ax_.set_title('2-class Precision-Recall curve: '\n",
        "                        'AP={0:0.2f}'.format(average_precision_score(y_test, pred_svm)))"
      ],
      "id": "4732da95"
    },
    {
      "cell_type": "code",
      "execution_count": null,
      "metadata": {
        "id": "fd222cdc"
      },
      "outputs": [],
      "source": [
        "# Akurasi Test\n",
        "print('Akurasi SVM     : ',accuracy_score(y_test, pred_svm))\n",
        "# Precision\n",
        "print('Precision SVM   : ',precision_score(y_test, pred_svm))\n",
        "# Recall\n",
        "print('Recall SVM      : ',recall_score(y_test, pred_svm))\n",
        "# F1\n",
        "print('F1 SVM          : ',f1_score(y_test, pred_svm))\n",
        "# MSE\n",
        "print('MSE SVM         : ',mean_squared_error(y_test, pred_svm))\n",
        "# ROC AUC\n",
        "print('ROC AUC SVM     : ',roc_auc_score(y_test, pred_svm))"
      ],
      "id": "fd222cdc"
    },
    {
      "cell_type": "markdown",
      "metadata": {
        "id": "85fc6a75"
      },
      "source": [
        "### K Nearest Neighbors (KNN)"
      ],
      "id": "85fc6a75"
    },
    {
      "cell_type": "code",
      "execution_count": null,
      "metadata": {
        "id": "1ec660bf"
      },
      "outputs": [],
      "source": [
        "# Knn\n",
        "from sklearn.neighbors import KNeighborsClassifier\n",
        "model_knn = KNeighborsClassifier()\n",
        "model_knn.fit(X_train, y_train)"
      ],
      "id": "1ec660bf"
    },
    {
      "cell_type": "code",
      "execution_count": null,
      "metadata": {
        "id": "eac2856b"
      },
      "outputs": [],
      "source": [
        "knn_mod = model_knn.predict(X_test)\n",
        "knn_mod"
      ],
      "id": "eac2856b"
    },
    {
      "cell_type": "code",
      "execution_count": null,
      "metadata": {
        "id": "c95c92d5"
      },
      "outputs": [],
      "source": [
        "def knn_model(inputs, targets, name=''):\n",
        "    pred_knn = model_knn.predict(inputs)\n",
        "    accuracy_knn = accuracy_score(targets,pred_knn)\n",
        "    print(\"Accuracy     : {:.2f}%\".format(accuracy_knn * 100))\n",
        "    print('Precision    : {:.2f}%'.format(precision_score(targets, pred_knn) * 100))\n",
        "    print('Recall       : {:.2f}%'.format(recall_score(targets, pred_knn) * 100))\n",
        "\n",
        "    cm = confusion_matrix(targets, pred_knn, normalize='true')\n",
        "    plt.figure()\n",
        "    sns.heatmap(cm, annot=True, cmap='YlOrBr')\n",
        "    plt.xlabel('Prediction')\n",
        "    plt.ylabel('Target')\n",
        "    plt.title('{} Confusion Matrix'.format(name));\n",
        "    return pred_knn"
      ],
      "id": "c95c92d5"
    },
    {
      "cell_type": "code",
      "execution_count": null,
      "metadata": {
        "id": "c4b7a1ff"
      },
      "outputs": [],
      "source": [
        "# Train\n",
        "knn_train = knn_model(X_train, y_train, name='Train')"
      ],
      "id": "c4b7a1ff"
    },
    {
      "cell_type": "code",
      "execution_count": null,
      "metadata": {
        "id": "304b91ac"
      },
      "outputs": [],
      "source": [
        "# Test\n",
        "knn_pred = knn_model(X_test, y_test, name='Test')"
      ],
      "id": "304b91ac"
    },
    {
      "cell_type": "code",
      "execution_count": null,
      "metadata": {
        "id": "3ba34f20"
      },
      "outputs": [],
      "source": [
        "# Validation\n",
        "knn_val = knn_model(X_val, y_val, name='Validation')"
      ],
      "id": "3ba34f20"
    },
    {
      "cell_type": "code",
      "execution_count": null,
      "metadata": {
        "id": "b5615147"
      },
      "outputs": [],
      "source": [
        "# Classification Report\n",
        "from sklearn.metrics import classification_report\n",
        "print(classification_report(y_test, knn_pred))"
      ],
      "id": "b5615147"
    },
    {
      "cell_type": "code",
      "execution_count": null,
      "metadata": {
        "id": "00cceb00"
      },
      "outputs": [],
      "source": [
        "# MAE\n",
        "from sklearn.metrics import mean_absolute_error\n",
        "print('MAE KNN',mean_absolute_error(y_test, knn_pred))"
      ],
      "id": "00cceb00"
    },
    {
      "cell_type": "code",
      "execution_count": null,
      "metadata": {
        "id": "96ae82c7"
      },
      "outputs": [],
      "source": [
        "def roc_auc_knn(y_test, y_pred, name=''):\n",
        "    fpr, tpr, thresholds = roc_curve(y_test, y_pred)\n",
        "    roc_auc = roc_auc_score(y_test, y_pred)\n",
        "\n",
        "    # Plot ROC curve\n",
        "    plt.plot(fpr, tpr, label='ROC curve (area = %0.3f)' % roc_auc)\n",
        "    plt.plot([0, 1], [0, 1], 'k--')  # random predictions curve\n",
        "    plt.xlim([0.0, 1.0])\n",
        "    plt.ylim([0.0, 1.0])\n",
        "    plt.xlabel('False Positive Rate or (1 - Specifity)')\n",
        "    plt.ylabel('True Positive Rate or (Sensitivity)')\n",
        "    #plt.title('Receiver Operating Characteristic')\n",
        "    plt.title('ROC Curve {}'.format(name))\n",
        "    plt.legend(loc=\"lower right\")"
      ],
      "id": "96ae82c7"
    },
    {
      "cell_type": "code",
      "execution_count": null,
      "metadata": {
        "id": "7e5a0079"
      },
      "outputs": [],
      "source": [
        "roc_auc_knn(y_train, knn_train, name='Train')"
      ],
      "id": "7e5a0079"
    },
    {
      "cell_type": "code",
      "execution_count": null,
      "metadata": {
        "id": "199c6fbe"
      },
      "outputs": [],
      "source": [
        "roc_auc_knn(y_test, knn_pred, name='Test')"
      ],
      "id": "199c6fbe"
    },
    {
      "cell_type": "code",
      "execution_count": null,
      "metadata": {
        "id": "793cdbdc"
      },
      "outputs": [],
      "source": [
        "# Akurasi KNN\n",
        "print('Akurasi KNN      : ',model_knn.score(X_test, y_test))\n",
        "# Recall KNN\n",
        "print('Recall KNN       : ',recall_score(y_test, knn_pred))\n",
        "# Precision KNN\n",
        "print('Precision KNN    : ',precision_score(y_test, knn_pred))\n",
        "# F1 KNN\n",
        "print('F1 KNN           : ',f1_score(y_test, knn_pred))\n",
        "# MSE\n",
        "print('MAE KNN          : ', mean_absolute_error(y_test, knn_pred))\n",
        "# ROC AUC\n",
        "print('ROC AUC KNN      : ',roc_auc_score(y_test, knn_pred))"
      ],
      "id": "793cdbdc"
    },
    {
      "cell_type": "code",
      "execution_count": null,
      "metadata": {
        "id": "b8439fe7"
      },
      "outputs": [],
      "source": [
        "# Plot Precision Recall\n",
        "from sklearn.metrics import precision_recall_curve\n",
        "from sklearn.metrics import plot_precision_recall_curve\n",
        "from sklearn.metrics import average_precision_score\n",
        "disp = plot_precision_recall_curve(model_knn, X_test, y_test)\n",
        "disp.ax_.set_title('2-class Precision-Recall curve: '\n",
        "                     'AP={0:0.2f}'.format(average_precision_score(y_test, knn_pred)))\n",
        ""
      ],
      "id": "b8439fe7"
    },
    {
      "cell_type": "code",
      "execution_count": null,
      "metadata": {
        "id": "89e427dc"
      },
      "outputs": [],
      "source": [
        "# Mencari nilai K terbaik\n",
        "from sklearn.model_selection import cross_val_score\n",
        "accuracies = []\n",
        "for i in range(1, 11):\n",
        "    knn = KNeighborsClassifier(n_neighbors=i)\n",
        "    knn.fit(X_train, y_train)\n",
        "    accuracies.append(knn.score(X_test, y_test))\n",
        "plt.plot(range(1, 11), accuracies)\n",
        "plt.title('Accuracy Rate K Value')\n",
        "plt.xlabel('K Value')\n",
        "plt.ylabel('Accuracy')\n",
        "plt.show()\n",
        "print(\"Nilai K terbaik adalah \", accuracies.index(max(accuracies))+1)\n",
        "print(\"Akurasi sebesar\", round(max(accuracies)*100), \"%\")"
      ],
      "id": "89e427dc"
    }
  ],
  "metadata": {
    "colab": {
      "toc_visible": true,
      "provenance": []
    },
    "kernelspec": {
      "display_name": "Python 3 (ipykernel)",
      "language": "python",
      "name": "python3"
    },
    "language_info": {
      "codemirror_mode": {
        "name": "ipython",
        "version": 3
      },
      "file_extension": ".py",
      "mimetype": "text/x-python",
      "name": "python",
      "nbconvert_exporter": "python",
      "pygments_lexer": "ipython3",
      "version": "3.9.12"
    }
  },
  "nbformat": 4,
  "nbformat_minor": 5
}